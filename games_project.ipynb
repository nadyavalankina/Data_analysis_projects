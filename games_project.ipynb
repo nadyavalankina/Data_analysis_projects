{
  "cells": [
    {
      "cell_type": "markdown",
      "metadata": {
        "id": "3tEcnZozKrH6"
      },
      "source": [
        "Я работаю в интернет-магазине «Стримчик», который продаёт по всему миру компьютерные игры. Из открытых источников доступны исторические данные о продажах игр, оценки пользователей и экспертов, жанры и платформы (например, Xbox или PlayStation). Необходимо выявить определяющие успешность игры закономерности. Это позволит сделать ставку на потенциально популярный продукт и спланировать рекламные кампании.\n",
        "\n",
        "Перед Вами данные до 2016 года. Представим, что сейчас декабрь 2016 г., и вы планируете кампанию на 2017-й. Нужно отработать принцип работы с данными. Неважно, прогнозируете ли вы продажи на 2017 год по данным 2016-го или же 2027-й — по данным 2026 года.\n",
        "\n",
        "В наборе данных попадается аббревиатура ESRB (Entertainment Software Rating Board) — это ассоциация, определяющая возрастной рейтинг компьютерных игр. ESRB оценивает игровой контент и присваивает ему подходящую возрастную категорию, например, «Для взрослых», «Для детей младшего возраста» или «Для подростков»."
      ]
    },
    {
      "cell_type": "markdown",
      "metadata": {
        "id": "XW-qT_4dKrH8"
      },
      "source": [
        "# ЗНАКОМСТВО С ДАННЫМИ\n"
      ]
    },
    {
      "cell_type": "code",
      "execution_count": 50,
      "metadata": {
        "id": "59CXvgbjKrH8"
      },
      "outputs": [],
      "source": [
        "import pandas as pd\n",
        "import numpy as np\n",
        "from scipy import stats as st\n",
        "import matplotlib.pyplot as plt\n",
        "import seaborn as sns"
      ]
    },
    {
      "cell_type": "code",
      "execution_count": 51,
      "metadata": {
        "colab": {
          "base_uri": "https://localhost:8080/"
        },
        "id": "JUmPEFnXKrH9",
        "outputId": "e0ae6a33-3b2c-460f-b11b-205fcd10dd1c"
      },
      "outputs": [
        {
          "output_type": "stream",
          "name": "stdout",
          "text": [
            "                                            Name Platform  Year_of_Release  \\\n",
            "0                                     Wii Sports      Wii           2006.0   \n",
            "1                              Super Mario Bros.      NES           1985.0   \n",
            "2                                 Mario Kart Wii      Wii           2008.0   \n",
            "3                              Wii Sports Resort      Wii           2009.0   \n",
            "4                       Pokemon Red/Pokemon Blue       GB           1996.0   \n",
            "5                                         Tetris       GB           1989.0   \n",
            "6                          New Super Mario Bros.       DS           2006.0   \n",
            "7                                       Wii Play      Wii           2006.0   \n",
            "8                      New Super Mario Bros. Wii      Wii           2009.0   \n",
            "9                                      Duck Hunt      NES           1984.0   \n",
            "10                                    Nintendogs       DS           2005.0   \n",
            "11                                 Mario Kart DS       DS           2005.0   \n",
            "12                   Pokemon Gold/Pokemon Silver       GB           1999.0   \n",
            "13                                       Wii Fit      Wii           2007.0   \n",
            "14                            Kinect Adventures!     X360           2010.0   \n",
            "15                                  Wii Fit Plus      Wii           2009.0   \n",
            "16                            Grand Theft Auto V      PS3           2013.0   \n",
            "17                 Grand Theft Auto: San Andreas      PS2           2004.0   \n",
            "18                             Super Mario World     SNES           1990.0   \n",
            "19  Brain Age: Train Your Brain in Minutes a Day       DS           2005.0   \n",
            "20                 Pokemon Diamond/Pokemon Pearl       DS           2006.0   \n",
            "21                              Super Mario Land       GB           1989.0   \n",
            "22                           Super Mario Bros. 3      NES           1988.0   \n",
            "23                            Grand Theft Auto V     X360           2013.0   \n",
            "24                   Grand Theft Auto: Vice City      PS2           2002.0   \n",
            "25                 Pokemon Ruby/Pokemon Sapphire      GBA           2002.0   \n",
            "26   Brain Age 2: More Training in Minutes a Day       DS           2005.0   \n",
            "27                   Pokemon Black/Pokemon White       DS           2010.0   \n",
            "28                        Gran Turismo 3: A-Spec      PS2           2001.0   \n",
            "29                Call of Duty: Modern Warfare 3     X360           2011.0   \n",
            "\n",
            "           Genre  NA_sales  EU_sales  JP_sales  Other_sales  Critic_Score  \\\n",
            "0         Sports     41.36     28.96      3.77         8.45          76.0   \n",
            "1       Platform     29.08      3.58      6.81         0.77           NaN   \n",
            "2         Racing     15.68     12.76      3.79         3.29          82.0   \n",
            "3         Sports     15.61     10.93      3.28         2.95          80.0   \n",
            "4   Role-Playing     11.27      8.89     10.22         1.00           NaN   \n",
            "5         Puzzle     23.20      2.26      4.22         0.58           NaN   \n",
            "6       Platform     11.28      9.14      6.50         2.88          89.0   \n",
            "7           Misc     13.96      9.18      2.93         2.84          58.0   \n",
            "8       Platform     14.44      6.94      4.70         2.24          87.0   \n",
            "9        Shooter     26.93      0.63      0.28         0.47           NaN   \n",
            "10    Simulation      9.05     10.95      1.93         2.74           NaN   \n",
            "11        Racing      9.71      7.47      4.13         1.90          91.0   \n",
            "12  Role-Playing      9.00      6.18      7.20         0.71           NaN   \n",
            "13        Sports      8.92      8.03      3.60         2.15          80.0   \n",
            "14          Misc     15.00      4.89      0.24         1.69          61.0   \n",
            "15        Sports      9.01      8.49      2.53         1.77          80.0   \n",
            "16        Action      7.02      9.09      0.98         3.96          97.0   \n",
            "17        Action      9.43      0.40      0.41        10.57          95.0   \n",
            "18      Platform     12.78      3.75      3.54         0.55           NaN   \n",
            "19          Misc      4.74      9.20      4.16         2.04          77.0   \n",
            "20  Role-Playing      6.38      4.46      6.04         1.36           NaN   \n",
            "21      Platform     10.83      2.71      4.18         0.42           NaN   \n",
            "22      Platform      9.54      3.44      3.84         0.46           NaN   \n",
            "23        Action      9.66      5.14      0.06         1.41          97.0   \n",
            "24        Action      8.41      5.49      0.47         1.78          95.0   \n",
            "25  Role-Playing      6.06      3.90      5.38         0.50           NaN   \n",
            "26        Puzzle      3.43      5.35      5.32         1.18          77.0   \n",
            "27  Role-Playing      5.51      3.17      5.65         0.80           NaN   \n",
            "28        Racing      6.85      5.09      1.87         1.16          95.0   \n",
            "29       Shooter      9.04      4.24      0.13         1.32          88.0   \n",
            "\n",
            "   User_Score Rating  \n",
            "0           8      E  \n",
            "1         NaN    NaN  \n",
            "2         8.3      E  \n",
            "3           8      E  \n",
            "4         NaN    NaN  \n",
            "5         NaN    NaN  \n",
            "6         8.5      E  \n",
            "7         6.6      E  \n",
            "8         8.4      E  \n",
            "9         NaN    NaN  \n",
            "10        NaN    NaN  \n",
            "11        8.6      E  \n",
            "12        NaN    NaN  \n",
            "13        7.7      E  \n",
            "14        6.3      E  \n",
            "15        7.4      E  \n",
            "16        8.2      M  \n",
            "17          9      M  \n",
            "18        NaN    NaN  \n",
            "19        7.9      E  \n",
            "20        NaN    NaN  \n",
            "21        NaN    NaN  \n",
            "22        NaN    NaN  \n",
            "23        8.1      M  \n",
            "24        8.7      M  \n",
            "25        NaN    NaN  \n",
            "26        7.1      E  \n",
            "27        NaN    NaN  \n",
            "28        8.4      E  \n",
            "29        3.4      M  \n",
            "<class 'pandas.core.frame.DataFrame'>\n",
            "RangeIndex: 16715 entries, 0 to 16714\n",
            "Data columns (total 11 columns):\n",
            " #   Column           Non-Null Count  Dtype  \n",
            "---  ------           --------------  -----  \n",
            " 0   Name             16713 non-null  object \n",
            " 1   Platform         16715 non-null  object \n",
            " 2   Year_of_Release  16446 non-null  float64\n",
            " 3   Genre            16713 non-null  object \n",
            " 4   NA_sales         16715 non-null  float64\n",
            " 5   EU_sales         16715 non-null  float64\n",
            " 6   JP_sales         16715 non-null  float64\n",
            " 7   Other_sales      16715 non-null  float64\n",
            " 8   Critic_Score     8137 non-null   float64\n",
            " 9   User_Score       10014 non-null  object \n",
            " 10  Rating           9949 non-null   object \n",
            "dtypes: float64(6), object(5)\n",
            "memory usage: 1.4+ MB\n"
          ]
        }
      ],
      "source": [
        "data = pd.read_csv('games.csv')\n",
        "print(data.head(30))\n",
        "data.info()"
      ]
    },
    {
      "cell_type": "code",
      "source": [
        "data.hist(figsize = (15,20))"
      ],
      "metadata": {
        "colab": {
          "base_uri": "https://localhost:8080/",
          "height": 1000
        },
        "id": "2LtEeTgeLeq0",
        "outputId": "85be6b6d-ca88-4a39-b811-e5d62dd73ff3"
      },
      "execution_count": 52,
      "outputs": [
        {
          "output_type": "execute_result",
          "data": {
            "text/plain": [
              "array([[<Axes: title={'center': 'Year_of_Release'}>,\n",
              "        <Axes: title={'center': 'NA_sales'}>],\n",
              "       [<Axes: title={'center': 'EU_sales'}>,\n",
              "        <Axes: title={'center': 'JP_sales'}>],\n",
              "       [<Axes: title={'center': 'Other_sales'}>,\n",
              "        <Axes: title={'center': 'Critic_Score'}>]], dtype=object)"
            ]
          },
          "metadata": {},
          "execution_count": 52
        },
        {
          "output_type": "display_data",
          "data": {
            "text/plain": [
              "<Figure size 1500x2000 with 6 Axes>"
            ],
            "image/png": "[encoded data removed]"
          },
          "metadata": {}
        }
      ]
    },
    {
      "cell_type": "markdown",
      "metadata": {
        "id": "-0soIVU4KrH9"
      },
      "source": [
        "На данном этапе я импортировала все необходимые библиотеки и ознакомилась с данными. Для всех столбцов с числовыми значениями я построила гистрограммы. Немного поговорим о распределении данных: столбец 'year_of_release'- с 2002 по 2009 постепенно происходит увеличение выпуска игр, достигает своего пика в 2009-2012 г и дальше идет на понижение вплоть до 2016 года. Большая часть значений в столбце 'critic_score' находится на уровне 64-81,в целом данные нормально распределены. В столбцах с продажами по частям света можно сказать о том,что практически все продажи игр находятся в одном ценовом диапазоне в зависимости от региона."
      ]
    },
    {
      "cell_type": "markdown",
      "metadata": {
        "id": "phXolNzvKrH9"
      },
      "source": [
        "# ПОДГОТОВКА ДАННЫХ"
      ]
    },
    {
      "cell_type": "code",
      "execution_count": 53,
      "metadata": {
        "colab": {
          "base_uri": "https://localhost:8080/"
        },
        "id": "OWRdXJuzKrH9",
        "outputId": "be704033-8705-47de-d360-064342c34b1b"
      },
      "outputs": [
        {
          "output_type": "stream",
          "name": "stdout",
          "text": [
            "                                name platform  year_of_release         genre  \\\n",
            "0                         Wii Sports      Wii           2006.0        Sports   \n",
            "1                  Super Mario Bros.      NES           1985.0      Platform   \n",
            "2                     Mario Kart Wii      Wii           2008.0        Racing   \n",
            "3                  Wii Sports Resort      Wii           2009.0        Sports   \n",
            "4           Pokemon Red/Pokemon Blue       GB           1996.0  Role-Playing   \n",
            "...                              ...      ...              ...           ...   \n",
            "16710  Samurai Warriors: Sanada Maru      PS3           2016.0        Action   \n",
            "16711               LMA Manager 2007     X360           2006.0        Sports   \n",
            "16712        Haitaka no Psychedelica      PSV           2016.0     Adventure   \n",
            "16713               Spirits & Spells      GBA           2003.0      Platform   \n",
            "16714            Winning Post 8 2016      PSV           2016.0    Simulation   \n",
            "\n",
            "       na_sales  eu_sales  jp_sales  other_sales  critic_score user_score  \\\n",
            "0         41.36     28.96      3.77         8.45          76.0          8   \n",
            "1         29.08      3.58      6.81         0.77           NaN        NaN   \n",
            "2         15.68     12.76      3.79         3.29          82.0        8.3   \n",
            "3         15.61     10.93      3.28         2.95          80.0          8   \n",
            "4         11.27      8.89     10.22         1.00           NaN        NaN   \n",
            "...         ...       ...       ...          ...           ...        ...   \n",
            "16710      0.00      0.00      0.01         0.00           NaN        NaN   \n",
            "16711      0.00      0.01      0.00         0.00           NaN        NaN   \n",
            "16712      0.00      0.00      0.01         0.00           NaN        NaN   \n",
            "16713      0.01      0.00      0.00         0.00           NaN        NaN   \n",
            "16714      0.00      0.00      0.01         0.00           NaN        NaN   \n",
            "\n",
            "      rating  \n",
            "0          E  \n",
            "1        NaN  \n",
            "2          E  \n",
            "3          E  \n",
            "4        NaN  \n",
            "...      ...  \n",
            "16710    NaN  \n",
            "16711    NaN  \n",
            "16712    NaN  \n",
            "16713    NaN  \n",
            "16714    NaN  \n",
            "\n",
            "[16715 rows x 11 columns]\n"
          ]
        }
      ],
      "source": [
        "data.columns = data.columns.str.lower()\n",
        "print(data)"
      ]
    },
    {
      "cell_type": "markdown",
      "metadata": {
        "id": "lxba4LxuKrH-"
      },
      "source": [
        "Тут я привела все названия столбцов к нижнему регистру."
      ]
    },
    {
      "cell_type": "code",
      "execution_count": 54,
      "metadata": {
        "colab": {
          "base_uri": "https://localhost:8080/"
        },
        "id": "Ku7TcbmdKrH-",
        "outputId": "bea8c083-cad2-4f7d-aac1-6e086edfdc19"
      },
      "outputs": [
        {
          "output_type": "stream",
          "name": "stdout",
          "text": [
            "0        2006\n",
            "1        1985\n",
            "2        2008\n",
            "3        2009\n",
            "4        1996\n",
            "         ... \n",
            "16710    2016\n",
            "16711    2006\n",
            "16712    2016\n",
            "16713    2003\n",
            "16714    2016\n",
            "Name: year_of_release, Length: 16715, dtype: Int64\n"
          ]
        }
      ],
      "source": [
        "data['year_of_release']=data['year_of_release'].astype('Int64')\n",
        "print(data['year_of_release'])"
      ]
    },
    {
      "cell_type": "markdown",
      "metadata": {
        "id": "xG7oPoNuKrH-"
      },
      "source": [
        "Тут я изменила тип данных на Int, так как это год."
      ]
    },
    {
      "cell_type": "code",
      "execution_count": 55,
      "metadata": {
        "colab": {
          "base_uri": "https://localhost:8080/"
        },
        "id": "PIpm64dXKrH-",
        "outputId": "c964fde9-0aab-44a5-9685-b69931834b8e"
      },
      "outputs": [
        {
          "output_type": "execute_result",
          "data": {
            "text/plain": [
              "array([8. , 7.5, 8.3, 8.5, 6.6, 8.4, 8.6, 7.7, 6.3, 7.4, 8.2, 9. , 7.9,\n",
              "       8.1, 8.7, 7.1, 3.4, 5.3, 4.8, 3.2, 8.9, 6.4, 7.8, 2.6, 7.2, 9.2,\n",
              "       7. , 7.3, 4.3, 7.6, 5.7, 5. , 9.1, 6.5, 8.8, 6.9, 9.4, 6.8, 6.1,\n",
              "       6.7, 5.4, 4. , 4.9, 4.5, 9.3, 6.2, 4.2, 6. , 3.7, 4.1, 5.8, 5.6,\n",
              "       5.5, 4.4, 4.6, 5.9, 3.9, 3.1, 2.9, 5.2, 3.3, 4.7, 5.1, 3.5, 2.5,\n",
              "       1.9, 3. , 2.7, 2.2, 2. , 9.5, 2.1, 3.6, 2.8, 1.8, 3.8, 0. , 1.6,\n",
              "       9.6, 2.4, 1.7, 1.1, 0.3, 1.5, 0.7, 1.2, 2.3, 0.5, 1.3, 0.2, 0.6,\n",
              "       1.4, 0.9, 1. , 9.7])"
            ]
          },
          "metadata": {},
          "execution_count": 55
        }
      ],
      "source": [
        "data['user_score'].unique()\n",
        "data[data['user_score'] == 'tbd'].count()\n",
        "data = data.replace({'user_score': {'tbd': np.nan}})\n",
        "data['user_score'] = data['user_score'].fillna(data['user_score'].median())\n",
        "data['user_score'] = data['user_score'].astype('float64')\n",
        "data['user_score'].unique()"
      ]
    },
    {
      "cell_type": "markdown",
      "metadata": {
        "id": "R8ZV13O0KrH-"
      },
      "source": [
        "Тут я посмотрела уникальные значения в рейтинге пользователя и решила tbd('подлежит уточнению') и nan заменить на медиану, так как нам необходимо привести этот столбец к числовому типу данных для дальнейшей работы с ним. После всех преобразований у меня получился тип данных float64. Еще была идея заменить на tbt на nan,но я подумала, что потеряю слишком много данных."
      ]
    },
    {
      "cell_type": "code",
      "execution_count": 56,
      "metadata": {
        "colab": {
          "base_uri": "https://localhost:8080/"
        },
        "id": "6Tm8xsR5KrH-",
        "outputId": "1ba1904b-8935-44f5-bfc0-920552b0b6c4"
      },
      "outputs": [
        {
          "output_type": "execute_result",
          "data": {
            "text/plain": [
              "array([76., 71., 82., 80., 89., 58., 87., 91., 61., 97., 95., 77., 88.,\n",
              "       83., 94., 93., 85., 86., 98., 96., 90., 84., 73., 74., 78., 92.,\n",
              "       72., 68., 62., 49., 67., 81., 66., 56., 79., 70., 59., 64., 75.,\n",
              "       60., 63., 69., 50., 25., 42., 44., 55., 48., 57., 29., 47., 65.,\n",
              "       54., 20., 53., 37., 38., 33., 52., 30., 32., 43., 45., 51., 40.,\n",
              "       46., 39., 34., 35., 41., 36., 28., 31., 27., 26., 19., 23., 24.,\n",
              "       21., 17., 22., 13.])"
            ]
          },
          "metadata": {},
          "execution_count": 56
        }
      ],
      "source": [
        "data['critic_score'] = data['critic_score'].fillna(data['critic_score'].median())\n",
        "data['critic_score'].unique()"
      ]
    },
    {
      "cell_type": "markdown",
      "metadata": {
        "id": "W1KvHU4sKrH-"
      },
      "source": [
        "Аналогичное я сделала для рейтинга критиков. Здесь я не стала менять тип данных, так как в дальнейшем будут вычисления, в которых тип данных у рейтинга пользователей и рейтинга критиков должен совпадать с общей суммой продаж."
      ]
    },
    {
      "cell_type": "code",
      "execution_count": 57,
      "metadata": {
        "colab": {
          "base_uri": "https://localhost:8080/"
        },
        "id": "Iytg-_d-KrH-",
        "outputId": "4efe884b-c4ca-40a3-9bda-aa905e23a730"
      },
      "outputs": [
        {
          "output_type": "stream",
          "name": "stdout",
          "text": [
            "0        82.54\n",
            "1        40.24\n",
            "2        35.52\n",
            "3        32.77\n",
            "4        31.38\n",
            "         ...  \n",
            "16710     0.01\n",
            "16711     0.01\n",
            "16712     0.01\n",
            "16713     0.01\n",
            "16714     0.01\n",
            "Name: sum_sales, Length: 16715, dtype: float64\n"
          ]
        }
      ],
      "source": [
        "data['sum_sales'] = data[['na_sales','eu_sales','jp_sales', 'other_sales']].sum(axis = 1)\n",
        "print(data['sum_sales'])"
      ]
    },
    {
      "cell_type": "markdown",
      "metadata": {
        "id": "DxsQNpDuKrH-"
      },
      "source": [
        "Тут я добавила новый столбец - суммарные продажи по всем частям света."
      ]
    },
    {
      "cell_type": "markdown",
      "metadata": {
        "id": "X4tfkm-0KrH-"
      },
      "source": [
        "ОБЩИЙ ВЫВОД: Поработав с данными, я пришла к выводу о том, что за 2016 год в половине столбцов пропуски и передо мной встал выбор - игнорировать этот год и сделать прогноз без него или заполнить пропуски самостоятельно и делать прогноз с данными 2016 года. Я выбрала первый вариант,так как считаю, что сильной разницы между этими вариантами нет. Причины,по которым могли возникнуть пропуски - невозможность получить часть данных, так как год еще не закончился - например, суммарные продажи(не закрыта отчетность итд, те компания еще не подводила итоги).Также причиной может стать технический сбой системы или нежелание раскрывать данные."
      ]
    },
    {
      "cell_type": "markdown",
      "metadata": {
        "id": "ggCDI-rmKrH-"
      },
      "source": [
        "# ИССЛЕДОВАТЕЛЬСКИЙ АНАЛИЗ ДАННЫХ"
      ]
    },
    {
      "cell_type": "code",
      "source": [
        "year_release = data.groupby('year_of_release')['name'].count()\n",
        "year_release.plot(kind='line', color='red', linewidth=2, title = f'Распределение выпускаемых игр по годам')\n",
        "plt.show()"
      ],
      "metadata": {
        "colab": {
          "base_uri": "https://localhost:8080/",
          "height": 472
        },
        "id": "KuMbG2IMPgAy",
        "outputId": "c9ebf993-5906-474b-a6bf-8599253a89b6"
      },
      "execution_count": 59,
      "outputs": [
        {
          "output_type": "display_data",
          "data": {
            "text/plain": [
              "<Figure size 640x480 with 1 Axes>"
            ],
            "image/png": "[encoded data removed]"
          },
          "metadata": {}
        }
      ]
    },
    {
      "cell_type": "markdown",
      "metadata": {
        "id": "3lFiwP4zKrH_"
      },
      "source": [
        "C 1995 по 2006 год постепенно растет количество выпускаемых игр, пик приходится на 2007-2011 года(особенно 2008-2009),а затем идет на значительное снжение(примерно в 2 раза) вплоть до 2016 года. Для прогноза нам важен период 2012-2016 года, остальное можем не брать."
      ]
    },
    {
      "cell_type": "code",
      "execution_count": 61,
      "metadata": {
        "colab": {
          "base_uri": "https://localhost:8080/",
          "height": 686
        },
        "id": "y7EFS_dxKrH_",
        "outputId": "65f2a290-e432-4a0c-9cbb-038462a8af02"
      },
      "outputs": [
        {
          "output_type": "stream",
          "name": "stdout",
          "text": [
            "platform\n",
            "PS2     1255.77\n",
            "X360     971.42\n",
            "PS3      939.65\n",
            "Wii      907.51\n",
            "DS       806.12\n",
            "PS       730.86\n",
            "GBA      317.85\n",
            "PS4      314.14\n",
            "PSP      294.05\n",
            "PC       259.52\n",
            "Name: sum_sales, dtype: float64\n"
          ]
        },
        {
          "output_type": "display_data",
          "data": {
            "text/plain": [
              "<Figure size 640x480 with 1 Axes>"
            ],
            "image/png": "[encoded data removed]"
          },
          "metadata": {}
        }
      ],
      "source": [
        "best_platform = data.groupby('platform')['sum_sales'].sum().sort_values(ascending = False).head(10)\n",
        "print(best_platform)\n",
        "platforms = ['PS2', 'X360', 'PS3','Wii','DS','PS','GBA','PS4','PSP','PC']\n",
        "for platform in platforms:\n",
        "    data[data['platform']== platform].groupby('year_of_release')['sum_sales'].sum().plot(title=f'Сумма продаж выпускаемых игр по годам')"
      ]
    },
    {
      "cell_type": "markdown",
      "metadata": {
        "id": "LG4HLtRkKrH_"
      },
      "source": [
        "Для графика я выбрала 10 платформ с наибольшими суммарными продажами. По графику мы можем видеть то,что примерно с 2004-2005 по 2010 год исчезают старые платформы и на смену им приходят новые. После выполнения данного задания я решила окончательно взять период 2012-2015, так как в 2016 неполные данные и дальше уже работала с этими годами."
      ]
    },
    {
      "cell_type": "code",
      "execution_count": 64,
      "metadata": {
        "colab": {
          "base_uri": "https://localhost:8080/",
          "height": 490
        },
        "id": "vzfun-48KrH_",
        "outputId": "98a084a9-23a3-49cb-ee0f-fb374c998a35"
      },
      "outputs": [
        {
          "output_type": "execute_result",
          "data": {
            "text/plain": [
              "<Axes: title={'center': 'Изменение суммы продаж игр по годам и типу платформы'}, xlabel='year_of_release'>"
            ]
          },
          "metadata": {},
          "execution_count": 64
        },
        {
          "output_type": "display_data",
          "data": {
            "text/plain": [
              "<Figure size 640x480 with 1 Axes>"
            ],
            "image/png": "[encoded data removed]"
          },
          "metadata": {}
        }
      ],
      "source": [
        "data2012_2015 = data[(data['year_of_release'] >= 2012) & (data['year_of_release'] < 2016)]\n",
        "b = pd.pivot_table(data2012_2015, index = 'year_of_release',columns = 'platform', values = 'sum_sales', aggfunc = 'sum')\n",
        "b.plot(title = f'Изменение суммы продаж игр по годам и типу платформы')"
      ]
    },
    {
      "cell_type": "markdown",
      "metadata": {
        "id": "grCL2NYFKrH_"
      },
      "source": [
        "Судя по графику, потенциально прибыльные платформы - PS4 и XOne. Они и лидируют по продажам.Потенциально прибыльной еще может быть плафторма WiiU. Платформы, которые значительно падают - 3DS,PS3,X360."
      ]
    },
    {
      "cell_type": "code",
      "source": [
        "q = data2012_2015['sum_sales'].quantile(0.9)\n",
        "pl_sum_boxplot = sns.boxplot(x=\"platform\", y=\"sum_sales\", whis=3, data=data2012_2015)\n",
        "pl_sum_boxplot.set(ylim=(0, q),title = f'Ящик с усами по типам платформ')"
      ],
      "metadata": {
        "colab": {
          "base_uri": "https://localhost:8080/",
          "height": 490
        },
        "id": "zXYXuFstaMmG",
        "outputId": "c4bfa3b3-789d-45bb-866e-87136742c200"
      },
      "execution_count": 68,
      "outputs": [
        {
          "output_type": "execute_result",
          "data": {
            "text/plain": [
              "[(0.0, 1.2900000000000003), Text(0.5, 1.0, 'Ящик с усами по типам платформ')]"
            ]
          },
          "metadata": {},
          "execution_count": 68
        },
        {
          "output_type": "display_data",
          "data": {
            "text/plain": [
              "<Figure size 640x480 with 1 Axes>"
            ],
            "image/png": "[encoded data removed]"
          },
          "metadata": {}
        }
      ]
    },
    {
      "cell_type": "markdown",
      "metadata": {
        "id": "p3MrDUIVKrH_"
      },
      "source": [
        "Ящик с усами подтверждает тот факт, что на PS4 и XOne приходится больше всего глобальных продаж игр, меньше всего - на PSV и PSP."
      ]
    },
    {
      "cell_type": "code",
      "execution_count": 69,
      "metadata": {
        "colab": {
          "base_uri": "https://localhost:8080/",
          "height": 920
        },
        "id": "SqddTVd0KrH_",
        "outputId": "23deba0b-590c-4efe-c33d-8044581460af"
      },
      "outputs": [
        {
          "output_type": "stream",
          "name": "stdout",
          "text": [
            "Корреляция с оценкой критиков: 0.3833381059971254\n",
            "Корреляция с оценкой пользователей: -0.0932881735161592\n"
          ]
        },
        {
          "output_type": "display_data",
          "data": {
            "text/plain": [
              "<Figure size 640x480 with 1 Axes>"
            ],
            "image/png": "[encoded data removed]"
          },
          "metadata": {}
        },
        {
          "output_type": "display_data",
          "data": {
            "text/plain": [
              "<Figure size 640x480 with 1 Axes>"
            ],
            "image/png": "[encoded data removed]"
          },
          "metadata": {}
        }
      ],
      "source": [
        "data_XOne = data2012_2015[data2012_2015['platform'] == 'XOne']\n",
        "data_XOne.head(20)\n",
        "data_XOne.plot(x = 'sum_sales',y = 'critic_score',kind = 'scatter')\n",
        "data_XOne.plot(x = 'sum_sales',y = 'user_score',kind = 'scatter')\n",
        "print('Корреляция с оценкой критиков:', data_XOne['sum_sales'].corr(data_XOne['critic_score']))\n",
        "print('Корреляция с оценкой пользователей:', data_XOne['sum_sales'].corr(data_XOne['user_score']))"
      ]
    },
    {
      "cell_type": "markdown",
      "metadata": {
        "id": "Mn55MvNVKrIA"
      },
      "source": [
        "Суммарные продажи совсем не коррелируют с оценкой пользователей и слабо коррелируют с оценкой пользователей на платформе XOne."
      ]
    },
    {
      "cell_type": "code",
      "execution_count": 70,
      "metadata": {
        "colab": {
          "base_uri": "https://localhost:8080/",
          "height": 919
        },
        "id": "_ZwQ0qHmKrIA",
        "outputId": "fd9369e0-cbee-47b3-ffc0-abe69068f237"
      },
      "outputs": [
        {
          "output_type": "stream",
          "name": "stdout",
          "text": [
            "Корреляция с оценкой критиков: 0.311298875479086\n",
            "Корреляция с оценкой пользователей: 0.3251404067866232\n"
          ]
        },
        {
          "output_type": "display_data",
          "data": {
            "text/plain": [
              "<Figure size 640x480 with 1 Axes>"
            ],
            "image/png": "[encoded data removed]"
          },
          "metadata": {}
        },
        {
          "output_type": "display_data",
          "data": {
            "text/plain": [
              "<Figure size 640x480 with 1 Axes>"
            ],
            "image/png": "[encoded data removed]"
          },
          "metadata": {}
        }
      ],
      "source": [
        "data_PS4 = data2012_2015[data2012_2015['platform'] == 'WiiU']\n",
        "data_PS4.head(20)\n",
        "data_PS4.plot(x = 'sum_sales',y = 'critic_score',kind = 'scatter')\n",
        "data_PS4.plot(x = 'sum_sales',y = 'user_score',kind = 'scatter')\n",
        "print('Корреляция с оценкой критиков:', data_PS4['sum_sales'].corr(data_PS4['critic_score']))\n",
        "print('Корреляция с оценкой пользователей:', data_PS4['sum_sales'].corr(data_PS4['user_score']))"
      ]
    },
    {
      "cell_type": "markdown",
      "metadata": {
        "id": "d9RUKQFeKrIA"
      },
      "source": [
        "Для примера оставлю результат еще одной платформы WiiU. Я попробовала данный код с остальными платформами по очереди. Результаты примерно одинаковы - корреляции либо нет, либо она слабая в обоих случаях."
      ]
    },
    {
      "cell_type": "code",
      "execution_count": 71,
      "metadata": {
        "colab": {
          "base_uri": "https://localhost:8080/"
        },
        "id": "-ztHj-LXKrIA",
        "outputId": "6e0969db-7c9c-42df-91ed-13be90a7f5b5"
      },
      "outputs": [
        {
          "output_type": "execute_result",
          "data": {
            "text/plain": [
              "genre\n",
              "Shooter         0.525\n",
              "Sports          0.305\n",
              "Platform        0.285\n",
              "Racing          0.230\n",
              "Misc            0.180\n",
              "Fighting        0.160\n",
              "Role-Playing    0.150\n",
              "Simulation      0.150\n",
              "Action          0.140\n",
              "Strategy        0.080\n",
              "Puzzle          0.050\n",
              "Adventure       0.030\n",
              "Name: sum_sales, dtype: float64"
            ]
          },
          "metadata": {},
          "execution_count": 71
        }
      ],
      "source": [
        "data2012_2015.groupby('genre')['sum_sales'].median().sort_values(ascending = False)"
      ]
    },
    {
      "cell_type": "markdown",
      "metadata": {
        "id": "b7kOlj1OKrIA"
      },
      "source": [
        "Судя по таблице, самые прибыльные жанры - shooter,sports,platform. Жанры с самыми низкими продажами - puzzle,strategy и adventure."
      ]
    },
    {
      "cell_type": "markdown",
      "metadata": {
        "id": "Vu22Cka9KrIA"
      },
      "source": [
        "ОБЩИЙ ВЫВОД: В ходе иссдледовательского анализа данных мы пришли к выводу, что строить прогноз на 2017 год мы будем по временному промежутку 2012-2015 года, 2016 не берем, так как части важных для нас данных нет. В период между 2004-2005 и 2010 годами уходят старые платформы и появляются новые. Самыми прибыльными и потенциальными платформами я выбрала XOne и PS4.Платформы, которые значительно падают - 3DS,PS3,X360. На успех платформы практически не влияют ни отзывы пользователей, ни отзывы критиков,хотя отзывы критиков влияют больше, чем отзывы пользователей. Самые прибыльные жанры - shooter,sports,platform. Жанры с самыми низкими продажами - puzzle,strategy и adventure."
      ]
    },
    {
      "cell_type": "markdown",
      "metadata": {
        "id": "wahG16uAKrIA"
      },
      "source": [
        "# ПОРТРЕТ ПОЛЬЗОВАТЕЛЯ ПО РЕГИОНАМ"
      ]
    },
    {
      "cell_type": "code",
      "execution_count": 72,
      "metadata": {
        "colab": {
          "base_uri": "https://localhost:8080/",
          "height": 426
        },
        "id": "JQkpta-fKrIA",
        "outputId": "6c4a752a-a5c7-41ac-e96b-0213aa8bb22c"
      },
      "outputs": [
        {
          "output_type": "execute_result",
          "data": {
            "text/plain": [
              "          dolya_prodazh_eu  dolya_prodazh_jp  dolya_prodazh_na\n",
              "platform                                                      \n",
              "3DS              17.754282         58.992996         20.614433\n",
              "DS               57.774805         18.555881         19.643181\n",
              "PC               76.096906          0.000000         17.871285\n",
              "PS3              24.765851         38.421529         27.024659\n",
              "PS4              40.559477         15.820047         30.427710\n",
              "PSP               0.979125         98.021203          0.598814\n",
              "PSV              12.535995         67.364456         13.599651\n",
              "Wii              49.737587         15.839193         29.748151\n",
              "WiiU             32.315877         17.148229         44.249043\n",
              "X360             33.478681          3.582369         55.218216\n",
              "XOne             36.145128          0.799141         54.919878"
            ],
            "text/html": [
              "\n",
              "  <div id=\"df-3811bbd6-d6e0-4846-86f7-3ced2448fabe\" class=\"colab-df-container\">\n",
              "    <div>\n",
              "<style scoped>\n",
              "    .dataframe tbody tr th:only-of-type {\n",
              "        vertical-align: middle;\n",
              "    }\n",
              "\n",
              "    .dataframe tbody tr th {\n",
              "        vertical-align: top;\n",
              "    }\n",
              "\n",
              "    .dataframe thead th {\n",
              "        text-align: right;\n",
              "    }\n",
              "</style>\n",
              "<table border=\"1\" class=\"dataframe\">\n",
              "  <thead>\n",
              "    <tr style=\"text-align: right;\">\n",
              "      <th></th>\n",
              "      <th>dolya_prodazh_eu</th>\n",
              "      <th>dolya_prodazh_jp</th>\n",
              "      <th>dolya_prodazh_na</th>\n",
              "    </tr>\n",
              "    <tr>\n",
              "      <th>platform</th>\n",
              "      <th></th>\n",
              "      <th></th>\n",
              "      <th></th>\n",
              "    </tr>\n",
              "  </thead>\n",
              "  <tbody>\n",
              "    <tr>\n",
              "      <th>3DS</th>\n",
              "      <td>17.754282</td>\n",
              "      <td>58.992996</td>\n",
              "      <td>20.614433</td>\n",
              "    </tr>\n",
              "    <tr>\n",
              "      <th>DS</th>\n",
              "      <td>57.774805</td>\n",
              "      <td>18.555881</td>\n",
              "      <td>19.643181</td>\n",
              "    </tr>\n",
              "    <tr>\n",
              "      <th>PC</th>\n",
              "      <td>76.096906</td>\n",
              "      <td>0.000000</td>\n",
              "      <td>17.871285</td>\n",
              "    </tr>\n",
              "    <tr>\n",
              "      <th>PS3</th>\n",
              "      <td>24.765851</td>\n",
              "      <td>38.421529</td>\n",
              "      <td>27.024659</td>\n",
              "    </tr>\n",
              "    <tr>\n",
              "      <th>PS4</th>\n",
              "      <td>40.559477</td>\n",
              "      <td>15.820047</td>\n",
              "      <td>30.427710</td>\n",
              "    </tr>\n",
              "    <tr>\n",
              "      <th>PSP</th>\n",
              "      <td>0.979125</td>\n",
              "      <td>98.021203</td>\n",
              "      <td>0.598814</td>\n",
              "    </tr>\n",
              "    <tr>\n",
              "      <th>PSV</th>\n",
              "      <td>12.535995</td>\n",
              "      <td>67.364456</td>\n",
              "      <td>13.599651</td>\n",
              "    </tr>\n",
              "    <tr>\n",
              "      <th>Wii</th>\n",
              "      <td>49.737587</td>\n",
              "      <td>15.839193</td>\n",
              "      <td>29.748151</td>\n",
              "    </tr>\n",
              "    <tr>\n",
              "      <th>WiiU</th>\n",
              "      <td>32.315877</td>\n",
              "      <td>17.148229</td>\n",
              "      <td>44.249043</td>\n",
              "    </tr>\n",
              "    <tr>\n",
              "      <th>X360</th>\n",
              "      <td>33.478681</td>\n",
              "      <td>3.582369</td>\n",
              "      <td>55.218216</td>\n",
              "    </tr>\n",
              "    <tr>\n",
              "      <th>XOne</th>\n",
              "      <td>36.145128</td>\n",
              "      <td>0.799141</td>\n",
              "      <td>54.919878</td>\n",
              "    </tr>\n",
              "  </tbody>\n",
              "</table>\n",
              "</div>\n",
              "    <div class=\"colab-df-buttons\">\n",
              "\n",
              "  <div class=\"colab-df-container\">\n",
              "    <button class=\"colab-df-convert\" onclick=\"convertToInteractive('df-3811bbd6-d6e0-4846-86f7-3ced2448fabe')\"\n",
              "            title=\"Convert this dataframe to an interactive table.\"\n",
              "            style=\"display:none;\">\n",
              "\n",
              "  <svg xmlns=\"http://www.w3.org/2000/svg\" height=\"24px\" viewBox=\"0 -960 960 960\">\n",
              "    <path d=\"M120-120v-720h720v720H120Zm60-500h600v-160H180v160Zm220 220h160v-160H400v160Zm0 220h160v-160H400v160ZM180-400h160v-160H180v160Zm440 0h160v-160H620v160ZM180-180h160v-160H180v160Zm440 0h160v-160H620v160Z\"/>\n",
              "  </svg>\n",
              "    </button>\n",
              "\n",
              "  <style>\n",
              "    .colab-df-container {\n",
              "      display:flex;\n",
              "      gap: 12px;\n",
              "    }\n",
              "\n",
              "    .colab-df-convert {\n",
              "      background-color: #E8F0FE;\n",
              "      border: none;\n",
              "      border-radius: 50%;\n",
              "      cursor: pointer;\n",
              "      display: none;\n",
              "      fill: #1967D2;\n",
              "      height: 32px;\n",
              "      padding: 0 0 0 0;\n",
              "      width: 32px;\n",
              "    }\n",
              "\n",
              "    .colab-df-convert:hover {\n",
              "      background-color: #E2EBFA;\n",
              "      box-shadow: 0px 1px 2px rgba(60, 64, 67, 0.3), 0px 1px 3px 1px rgba(60, 64, 67, 0.15);\n",
              "      fill: #174EA6;\n",
              "    }\n",
              "\n",
              "    .colab-df-buttons div {\n",
              "      margin-bottom: 4px;\n",
              "    }\n",
              "\n",
              "    [theme=dark] .colab-df-convert {\n",
              "      background-color: #3B4455;\n",
              "      fill: #D2E3FC;\n",
              "    }\n",
              "\n",
              "    [theme=dark] .colab-df-convert:hover {\n",
              "      background-color: #434B5C;\n",
              "      box-shadow: 0px 1px 3px 1px rgba(0, 0, 0, 0.15);\n",
              "      filter: drop-shadow(0px 1px 2px rgba(0, 0, 0, 0.3));\n",
              "      fill: #FFFFFF;\n",
              "    }\n",
              "  </style>\n",
              "\n",
              "    <script>\n",
              "      const buttonEl =\n",
              "        document.querySelector('#df-3811bbd6-d6e0-4846-86f7-3ced2448fabe button.colab-df-convert');\n",
              "      buttonEl.style.display =\n",
              "        google.colab.kernel.accessAllowed ? 'block' : 'none';\n",
              "\n",
              "      async function convertToInteractive(key) {\n",
              "        const element = document.querySelector('#df-3811bbd6-d6e0-4846-86f7-3ced2448fabe');\n",
              "        const dataTable =\n",
              "          await google.colab.kernel.invokeFunction('convertToInteractive',\n",
              "                                                    [key], {});\n",
              "        if (!dataTable) return;\n",
              "\n",
              "        const docLinkHtml = 'Like what you see? Visit the ' +\n",
              "          '<a target=\"_blank\" href=https://colab.research.google.com/notebooks/data_table.ipynb>data table notebook</a>'\n",
              "          + ' to learn more about interactive tables.';\n",
              "        element.innerHTML = '';\n",
              "        dataTable['output_type'] = 'display_data';\n",
              "        await google.colab.output.renderOutput(dataTable, element);\n",
              "        const docLink = document.createElement('div');\n",
              "        docLink.innerHTML = docLinkHtml;\n",
              "        element.appendChild(docLink);\n",
              "      }\n",
              "    </script>\n",
              "  </div>\n",
              "\n",
              "\n",
              "<div id=\"df-f9520e00-96ec-4e0b-b325-baa6e143f0fb\">\n",
              "  <button class=\"colab-df-quickchart\" onclick=\"quickchart('df-f9520e00-96ec-4e0b-b325-baa6e143f0fb')\"\n",
              "            title=\"Suggest charts\"\n",
              "            style=\"display:none;\">\n",
              "\n",
              "<svg xmlns=\"http://www.w3.org/2000/svg\" height=\"24px\"viewBox=\"0 0 24 24\"\n",
              "     width=\"24px\">\n",
              "    <g>\n",
              "        <path d=\"M19 3H5c-1.1 0-2 .9-2 2v14c0 1.1.9 2 2 2h14c1.1 0 2-.9 2-2V5c0-1.1-.9-2-2-2zM9 17H7v-7h2v7zm4 0h-2V7h2v10zm4 0h-2v-4h2v4z\"/>\n",
              "    </g>\n",
              "</svg>\n",
              "  </button>\n",
              "\n",
              "<style>\n",
              "  .colab-df-quickchart {\n",
              "      --bg-color: #E8F0FE;\n",
              "      --fill-color: #1967D2;\n",
              "      --hover-bg-color: #E2EBFA;\n",
              "      --hover-fill-color: #174EA6;\n",
              "      --disabled-fill-color: #AAA;\n",
              "      --disabled-bg-color: #DDD;\n",
              "  }\n",
              "\n",
              "  [theme=dark] .colab-df-quickchart {\n",
              "      --bg-color: #3B4455;\n",
              "      --fill-color: #D2E3FC;\n",
              "      --hover-bg-color: #434B5C;\n",
              "      --hover-fill-color: #FFFFFF;\n",
              "      --disabled-bg-color: #3B4455;\n",
              "      --disabled-fill-color: #666;\n",
              "  }\n",
              "\n",
              "  .colab-df-quickchart {\n",
              "    background-color: var(--bg-color);\n",
              "    border: none;\n",
              "    border-radius: 50%;\n",
              "    cursor: pointer;\n",
              "    display: none;\n",
              "    fill: var(--fill-color);\n",
              "    height: 32px;\n",
              "    padding: 0;\n",
              "    width: 32px;\n",
              "  }\n",
              "\n",
              "  .colab-df-quickchart:hover {\n",
              "    background-color: var(--hover-bg-color);\n",
              "    box-shadow: 0 1px 2px rgba(60, 64, 67, 0.3), 0 1px 3px 1px rgba(60, 64, 67, 0.15);\n",
              "    fill: var(--button-hover-fill-color);\n",
              "  }\n",
              "\n",
              "  .colab-df-quickchart-complete:disabled,\n",
              "  .colab-df-quickchart-complete:disabled:hover {\n",
              "    background-color: var(--disabled-bg-color);\n",
              "    fill: var(--disabled-fill-color);\n",
              "    box-shadow: none;\n",
              "  }\n",
              "\n",
              "  .colab-df-spinner {\n",
              "    border: 2px solid var(--fill-color);\n",
              "    border-color: transparent;\n",
              "    border-bottom-color: var(--fill-color);\n",
              "    animation:\n",
              "      spin 1s steps(1) infinite;\n",
              "  }\n",
              "\n",
              "  @keyframes spin {\n",
              "    0% {\n",
              "      border-color: transparent;\n",
              "      border-bottom-color: var(--fill-color);\n",
              "      border-left-color: var(--fill-color);\n",
              "    }\n",
              "    20% {\n",
              "      border-color: transparent;\n",
              "      border-left-color: var(--fill-color);\n",
              "      border-top-color: var(--fill-color);\n",
              "    }\n",
              "    30% {\n",
              "      border-color: transparent;\n",
              "      border-left-color: var(--fill-color);\n",
              "      border-top-color: var(--fill-color);\n",
              "      border-right-color: var(--fill-color);\n",
              "    }\n",
              "    40% {\n",
              "      border-color: transparent;\n",
              "      border-right-color: var(--fill-color);\n",
              "      border-top-color: var(--fill-color);\n",
              "    }\n",
              "    60% {\n",
              "      border-color: transparent;\n",
              "      border-right-color: var(--fill-color);\n",
              "    }\n",
              "    80% {\n",
              "      border-color: transparent;\n",
              "      border-right-color: var(--fill-color);\n",
              "      border-bottom-color: var(--fill-color);\n",
              "    }\n",
              "    90% {\n",
              "      border-color: transparent;\n",
              "      border-bottom-color: var(--fill-color);\n",
              "    }\n",
              "  }\n",
              "</style>\n",
              "\n",
              "  <script>\n",
              "    async function quickchart(key) {\n",
              "      const quickchartButtonEl =\n",
              "        document.querySelector('#' + key + ' button');\n",
              "      quickchartButtonEl.disabled = true;  // To prevent multiple clicks.\n",
              "      quickchartButtonEl.classList.add('colab-df-spinner');\n",
              "      try {\n",
              "        const charts = await google.colab.kernel.invokeFunction(\n",
              "            'suggestCharts', [key], {});\n",
              "      } catch (error) {\n",
              "        console.error('Error during call to suggestCharts:', error);\n",
              "      }\n",
              "      quickchartButtonEl.classList.remove('colab-df-spinner');\n",
              "      quickchartButtonEl.classList.add('colab-df-quickchart-complete');\n",
              "    }\n",
              "    (() => {\n",
              "      let quickchartButtonEl =\n",
              "        document.querySelector('#df-f9520e00-96ec-4e0b-b325-baa6e143f0fb button');\n",
              "      quickchartButtonEl.style.display =\n",
              "        google.colab.kernel.accessAllowed ? 'block' : 'none';\n",
              "    })();\n",
              "  </script>\n",
              "</div>\n",
              "    </div>\n",
              "  </div>\n"
            ],
            "application/vnd.google.colaboratory.intrinsic+json": {
              "type": "dataframe",
              "summary": "{\n  \"name\": \"pd\",\n  \"rows\": 11,\n  \"fields\": [\n    {\n      \"column\": \"dolya_prodazh_eu\",\n      \"properties\": {\n        \"dtype\": \"number\",\n        \"std\": 21.283900767365736,\n        \"min\": 0.979124536945901,\n        \"max\": 76.09690569204396,\n        \"samples\": [\n          0.979124536945901,\n          17.7542823706224,\n          33.47868064207883\n        ],\n        \"num_unique_values\": 11,\n        \"semantic_type\": \"\",\n        \"description\": \"\"\n      }\n    },\n    {\n      \"column\": \"dolya_prodazh_jp\",\n      \"properties\": {\n        \"dtype\": \"number\",\n        \"std\": 31.750498167512713,\n        \"min\": 0.0,\n        \"max\": 98.02120270073348,\n        \"samples\": [\n          98.02120270073348,\n          58.99299613777507,\n          3.5823691684907546\n        ],\n        \"num_unique_values\": 11,\n        \"semantic_type\": \"\",\n        \"description\": \"\"\n      }\n    },\n    {\n      \"column\": \"dolya_prodazh_na\",\n      \"properties\": {\n        \"dtype\": \"number\",\n        \"std\": 17.092196820255484,\n        \"min\": 0.5988137066001739,\n        \"max\": 55.21821644157032,\n        \"samples\": [\n          0.5988137066001739,\n          20.6144332372548,\n          55.21821644157032\n        ],\n        \"num_unique_values\": 11,\n        \"semantic_type\": \"\",\n        \"description\": \"\"\n      }\n    }\n  ]\n}"
            }
          },
          "metadata": {},
          "execution_count": 72
        }
      ],
      "source": [
        "dolya_prodazh_na = data2012_2015['na_sales'] / data2012_2015['sum_sales']*100\n",
        "dolya_prodazh_eu = data2012_2015['eu_sales'] / data2012_2015['sum_sales']*100\n",
        "dolya_prodazh_jp = data2012_2015['jp_sales'] / data2012_2015['sum_sales']*100\n",
        "data2012_2015_copy = data2012_2015.copy()\n",
        "data2012_2015_copy['dolya_prodazh_na'] = dolya_prodazh_na\n",
        "data2012_2015_copy['dolya_prodazh_eu'] = dolya_prodazh_eu\n",
        "data2012_2015_copy['dolya_prodazh_jp'] = dolya_prodazh_jp\n",
        "pd.pivot_table(data2012_2015_copy, index = 'platform', values = ['dolya_prodazh_na', 'dolya_prodazh_eu', 'dolya_prodazh_jp'])"
      ]
    },
    {
      "cell_type": "markdown",
      "metadata": {
        "id": "AGFq3D7lKrIB"
      },
      "source": [
        "Для жителей Европы ТОП-5 платформ в порядке убывания по доле продаж: PC,DS,Wii,PS4,XOne.Для жителей Японии ТОП-5 платформ в порядке убывания по доле продаж: PSP, PSV, 3DS, PS3, DS. Для жителей Южной Америки ТОП-5 платформ в порядке убывания по доле продаж: X360,XOne,WiiU,PS4,Wii. Любимые платформы Европы и Южной Америки пересекаются, а вот вкус японцев в этом плане совсем отличаются."
      ]
    },
    {
      "cell_type": "code",
      "execution_count": 73,
      "metadata": {
        "colab": {
          "base_uri": "https://localhost:8080/",
          "height": 457
        },
        "id": "e4BBIAEcKrIB",
        "outputId": "b15b433c-0188-472f-f5e5-2bb3ac101e06"
      },
      "outputs": [
        {
          "output_type": "execute_result",
          "data": {
            "text/plain": [
              "              eu_sales  jp_sales  na_sales\n",
              "genre                                     \n",
              "Action          148.66     45.73    168.55\n",
              "Adventure         8.14      7.06      7.97\n",
              "Fighting          9.45      8.69     17.95\n",
              "Misc             25.66     11.82     37.43\n",
              "Platform         20.02      8.52     24.09\n",
              "Puzzle            1.39      2.14      1.13\n",
              "Racing           25.52      2.49     16.49\n",
              "Role-Playing     44.25     58.83     58.11\n",
              "Shooter          97.57      8.17    128.53\n",
              "Simulation       13.28     10.08      7.81\n",
              "Sports           57.08      7.09     73.99\n",
              "Strategy          4.58      2.65      3.99"
            ],
            "text/html": [
              "\n",
              "  <div id=\"df-3082298a-86a2-42c6-b5be-4fb874f0e664\" class=\"colab-df-container\">\n",
              "    <div>\n",
              "<style scoped>\n",
              "    .dataframe tbody tr th:only-of-type {\n",
              "        vertical-align: middle;\n",
              "    }\n",
              "\n",
              "    .dataframe tbody tr th {\n",
              "        vertical-align: top;\n",
              "    }\n",
              "\n",
              "    .dataframe thead th {\n",
              "        text-align: right;\n",
              "    }\n",
              "</style>\n",
              "<table border=\"1\" class=\"dataframe\">\n",
              "  <thead>\n",
              "    <tr style=\"text-align: right;\">\n",
              "      <th></th>\n",
              "      <th>eu_sales</th>\n",
              "      <th>jp_sales</th>\n",
              "      <th>na_sales</th>\n",
              "    </tr>\n",
              "    <tr>\n",
              "      <th>genre</th>\n",
              "      <th></th>\n",
              "      <th></th>\n",
              "      <th></th>\n",
              "    </tr>\n",
              "  </thead>\n",
              "  <tbody>\n",
              "    <tr>\n",
              "      <th>Action</th>\n",
              "      <td>148.66</td>\n",
              "      <td>45.73</td>\n",
              "      <td>168.55</td>\n",
              "    </tr>\n",
              "    <tr>\n",
              "      <th>Adventure</th>\n",
              "      <td>8.14</td>\n",
              "      <td>7.06</td>\n",
              "      <td>7.97</td>\n",
              "    </tr>\n",
              "    <tr>\n",
              "      <th>Fighting</th>\n",
              "      <td>9.45</td>\n",
              "      <td>8.69</td>\n",
              "      <td>17.95</td>\n",
              "    </tr>\n",
              "    <tr>\n",
              "      <th>Misc</th>\n",
              "      <td>25.66</td>\n",
              "      <td>11.82</td>\n",
              "      <td>37.43</td>\n",
              "    </tr>\n",
              "    <tr>\n",
              "      <th>Platform</th>\n",
              "      <td>20.02</td>\n",
              "      <td>8.52</td>\n",
              "      <td>24.09</td>\n",
              "    </tr>\n",
              "    <tr>\n",
              "      <th>Puzzle</th>\n",
              "      <td>1.39</td>\n",
              "      <td>2.14</td>\n",
              "      <td>1.13</td>\n",
              "    </tr>\n",
              "    <tr>\n",
              "      <th>Racing</th>\n",
              "      <td>25.52</td>\n",
              "      <td>2.49</td>\n",
              "      <td>16.49</td>\n",
              "    </tr>\n",
              "    <tr>\n",
              "      <th>Role-Playing</th>\n",
              "      <td>44.25</td>\n",
              "      <td>58.83</td>\n",
              "      <td>58.11</td>\n",
              "    </tr>\n",
              "    <tr>\n",
              "      <th>Shooter</th>\n",
              "      <td>97.57</td>\n",
              "      <td>8.17</td>\n",
              "      <td>128.53</td>\n",
              "    </tr>\n",
              "    <tr>\n",
              "      <th>Simulation</th>\n",
              "      <td>13.28</td>\n",
              "      <td>10.08</td>\n",
              "      <td>7.81</td>\n",
              "    </tr>\n",
              "    <tr>\n",
              "      <th>Sports</th>\n",
              "      <td>57.08</td>\n",
              "      <td>7.09</td>\n",
              "      <td>73.99</td>\n",
              "    </tr>\n",
              "    <tr>\n",
              "      <th>Strategy</th>\n",
              "      <td>4.58</td>\n",
              "      <td>2.65</td>\n",
              "      <td>3.99</td>\n",
              "    </tr>\n",
              "  </tbody>\n",
              "</table>\n",
              "</div>\n",
              "    <div class=\"colab-df-buttons\">\n",
              "\n",
              "  <div class=\"colab-df-container\">\n",
              "    <button class=\"colab-df-convert\" onclick=\"convertToInteractive('df-3082298a-86a2-42c6-b5be-4fb874f0e664')\"\n",
              "            title=\"Convert this dataframe to an interactive table.\"\n",
              "            style=\"display:none;\">\n",
              "\n",
              "  <svg xmlns=\"http://www.w3.org/2000/svg\" height=\"24px\" viewBox=\"0 -960 960 960\">\n",
              "    <path d=\"M120-120v-720h720v720H120Zm60-500h600v-160H180v160Zm220 220h160v-160H400v160Zm0 220h160v-160H400v160ZM180-400h160v-160H180v160Zm440 0h160v-160H620v160ZM180-180h160v-160H180v160Zm440 0h160v-160H620v160Z\"/>\n",
              "  </svg>\n",
              "    </button>\n",
              "\n",
              "  <style>\n",
              "    .colab-df-container {\n",
              "      display:flex;\n",
              "      gap: 12px;\n",
              "    }\n",
              "\n",
              "    .colab-df-convert {\n",
              "      background-color: #E8F0FE;\n",
              "      border: none;\n",
              "      border-radius: 50%;\n",
              "      cursor: pointer;\n",
              "      display: none;\n",
              "      fill: #1967D2;\n",
              "      height: 32px;\n",
              "      padding: 0 0 0 0;\n",
              "      width: 32px;\n",
              "    }\n",
              "\n",
              "    .colab-df-convert:hover {\n",
              "      background-color: #E2EBFA;\n",
              "      box-shadow: 0px 1px 2px rgba(60, 64, 67, 0.3), 0px 1px 3px 1px rgba(60, 64, 67, 0.15);\n",
              "      fill: #174EA6;\n",
              "    }\n",
              "\n",
              "    .colab-df-buttons div {\n",
              "      margin-bottom: 4px;\n",
              "    }\n",
              "\n",
              "    [theme=dark] .colab-df-convert {\n",
              "      background-color: #3B4455;\n",
              "      fill: #D2E3FC;\n",
              "    }\n",
              "\n",
              "    [theme=dark] .colab-df-convert:hover {\n",
              "      background-color: #434B5C;\n",
              "      box-shadow: 0px 1px 3px 1px rgba(0, 0, 0, 0.15);\n",
              "      filter: drop-shadow(0px 1px 2px rgba(0, 0, 0, 0.3));\n",
              "      fill: #FFFFFF;\n",
              "    }\n",
              "  </style>\n",
              "\n",
              "    <script>\n",
              "      const buttonEl =\n",
              "        document.querySelector('#df-3082298a-86a2-42c6-b5be-4fb874f0e664 button.colab-df-convert');\n",
              "      buttonEl.style.display =\n",
              "        google.colab.kernel.accessAllowed ? 'block' : 'none';\n",
              "\n",
              "      async function convertToInteractive(key) {\n",
              "        const element = document.querySelector('#df-3082298a-86a2-42c6-b5be-4fb874f0e664');\n",
              "        const dataTable =\n",
              "          await google.colab.kernel.invokeFunction('convertToInteractive',\n",
              "                                                    [key], {});\n",
              "        if (!dataTable) return;\n",
              "\n",
              "        const docLinkHtml = 'Like what you see? Visit the ' +\n",
              "          '<a target=\"_blank\" href=https://colab.research.google.com/notebooks/data_table.ipynb>data table notebook</a>'\n",
              "          + ' to learn more about interactive tables.';\n",
              "        element.innerHTML = '';\n",
              "        dataTable['output_type'] = 'display_data';\n",
              "        await google.colab.output.renderOutput(dataTable, element);\n",
              "        const docLink = document.createElement('div');\n",
              "        docLink.innerHTML = docLinkHtml;\n",
              "        element.appendChild(docLink);\n",
              "      }\n",
              "    </script>\n",
              "  </div>\n",
              "\n",
              "\n",
              "<div id=\"df-42007603-eedd-4e31-b461-d659d02e48e3\">\n",
              "  <button class=\"colab-df-quickchart\" onclick=\"quickchart('df-42007603-eedd-4e31-b461-d659d02e48e3')\"\n",
              "            title=\"Suggest charts\"\n",
              "            style=\"display:none;\">\n",
              "\n",
              "<svg xmlns=\"http://www.w3.org/2000/svg\" height=\"24px\"viewBox=\"0 0 24 24\"\n",
              "     width=\"24px\">\n",
              "    <g>\n",
              "        <path d=\"M19 3H5c-1.1 0-2 .9-2 2v14c0 1.1.9 2 2 2h14c1.1 0 2-.9 2-2V5c0-1.1-.9-2-2-2zM9 17H7v-7h2v7zm4 0h-2V7h2v10zm4 0h-2v-4h2v4z\"/>\n",
              "    </g>\n",
              "</svg>\n",
              "  </button>\n",
              "\n",
              "<style>\n",
              "  .colab-df-quickchart {\n",
              "      --bg-color: #E8F0FE;\n",
              "      --fill-color: #1967D2;\n",
              "      --hover-bg-color: #E2EBFA;\n",
              "      --hover-fill-color: #174EA6;\n",
              "      --disabled-fill-color: #AAA;\n",
              "      --disabled-bg-color: #DDD;\n",
              "  }\n",
              "\n",
              "  [theme=dark] .colab-df-quickchart {\n",
              "      --bg-color: #3B4455;\n",
              "      --fill-color: #D2E3FC;\n",
              "      --hover-bg-color: #434B5C;\n",
              "      --hover-fill-color: #FFFFFF;\n",
              "      --disabled-bg-color: #3B4455;\n",
              "      --disabled-fill-color: #666;\n",
              "  }\n",
              "\n",
              "  .colab-df-quickchart {\n",
              "    background-color: var(--bg-color);\n",
              "    border: none;\n",
              "    border-radius: 50%;\n",
              "    cursor: pointer;\n",
              "    display: none;\n",
              "    fill: var(--fill-color);\n",
              "    height: 32px;\n",
              "    padding: 0;\n",
              "    width: 32px;\n",
              "  }\n",
              "\n",
              "  .colab-df-quickchart:hover {\n",
              "    background-color: var(--hover-bg-color);\n",
              "    box-shadow: 0 1px 2px rgba(60, 64, 67, 0.3), 0 1px 3px 1px rgba(60, 64, 67, 0.15);\n",
              "    fill: var(--button-hover-fill-color);\n",
              "  }\n",
              "\n",
              "  .colab-df-quickchart-complete:disabled,\n",
              "  .colab-df-quickchart-complete:disabled:hover {\n",
              "    background-color: var(--disabled-bg-color);\n",
              "    fill: var(--disabled-fill-color);\n",
              "    box-shadow: none;\n",
              "  }\n",
              "\n",
              "  .colab-df-spinner {\n",
              "    border: 2px solid var(--fill-color);\n",
              "    border-color: transparent;\n",
              "    border-bottom-color: var(--fill-color);\n",
              "    animation:\n",
              "      spin 1s steps(1) infinite;\n",
              "  }\n",
              "\n",
              "  @keyframes spin {\n",
              "    0% {\n",
              "      border-color: transparent;\n",
              "      border-bottom-color: var(--fill-color);\n",
              "      border-left-color: var(--fill-color);\n",
              "    }\n",
              "    20% {\n",
              "      border-color: transparent;\n",
              "      border-left-color: var(--fill-color);\n",
              "      border-top-color: var(--fill-color);\n",
              "    }\n",
              "    30% {\n",
              "      border-color: transparent;\n",
              "      border-left-color: var(--fill-color);\n",
              "      border-top-color: var(--fill-color);\n",
              "      border-right-color: var(--fill-color);\n",
              "    }\n",
              "    40% {\n",
              "      border-color: transparent;\n",
              "      border-right-color: var(--fill-color);\n",
              "      border-top-color: var(--fill-color);\n",
              "    }\n",
              "    60% {\n",
              "      border-color: transparent;\n",
              "      border-right-color: var(--fill-color);\n",
              "    }\n",
              "    80% {\n",
              "      border-color: transparent;\n",
              "      border-right-color: var(--fill-color);\n",
              "      border-bottom-color: var(--fill-color);\n",
              "    }\n",
              "    90% {\n",
              "      border-color: transparent;\n",
              "      border-bottom-color: var(--fill-color);\n",
              "    }\n",
              "  }\n",
              "</style>\n",
              "\n",
              "  <script>\n",
              "    async function quickchart(key) {\n",
              "      const quickchartButtonEl =\n",
              "        document.querySelector('#' + key + ' button');\n",
              "      quickchartButtonEl.disabled = true;  // To prevent multiple clicks.\n",
              "      quickchartButtonEl.classList.add('colab-df-spinner');\n",
              "      try {\n",
              "        const charts = await google.colab.kernel.invokeFunction(\n",
              "            'suggestCharts', [key], {});\n",
              "      } catch (error) {\n",
              "        console.error('Error during call to suggestCharts:', error);\n",
              "      }\n",
              "      quickchartButtonEl.classList.remove('colab-df-spinner');\n",
              "      quickchartButtonEl.classList.add('colab-df-quickchart-complete');\n",
              "    }\n",
              "    (() => {\n",
              "      let quickchartButtonEl =\n",
              "        document.querySelector('#df-42007603-eedd-4e31-b461-d659d02e48e3 button');\n",
              "      quickchartButtonEl.style.display =\n",
              "        google.colab.kernel.accessAllowed ? 'block' : 'none';\n",
              "    })();\n",
              "  </script>\n",
              "</div>\n",
              "    </div>\n",
              "  </div>\n"
            ],
            "application/vnd.google.colaboratory.intrinsic+json": {
              "type": "dataframe",
              "summary": "{\n  \"name\": \"pd\",\n  \"rows\": 12,\n  \"fields\": [\n    {\n      \"column\": \"eu_sales\",\n      \"properties\": {\n        \"dtype\": \"number\",\n        \"std\": 44.31664110453181,\n        \"min\": 1.39,\n        \"max\": 148.66,\n        \"samples\": [\n          57.08,\n          13.28,\n          148.66\n        ],\n        \"num_unique_values\": 12,\n        \"semantic_type\": \"\",\n        \"description\": \"\"\n      }\n    },\n    {\n      \"column\": \"jp_sales\",\n      \"properties\": {\n        \"dtype\": \"number\",\n        \"std\": 18.15192324312337,\n        \"min\": 2.14,\n        \"max\": 58.83,\n        \"samples\": [\n          7.09,\n          10.08,\n          45.730000000000004\n        ],\n        \"num_unique_values\": 12,\n        \"semantic_type\": \"\",\n        \"description\": \"\"\n      }\n    },\n    {\n      \"column\": \"na_sales\",\n      \"properties\": {\n        \"dtype\": \"number\",\n        \"std\": 53.6409655755635,\n        \"min\": 1.1300000000000001,\n        \"max\": 168.55,\n        \"samples\": [\n          73.99,\n          7.81,\n          168.55\n        ],\n        \"num_unique_values\": 12,\n        \"semantic_type\": \"\",\n        \"description\": \"\"\n      }\n    }\n  ]\n}"
            }
          },
          "metadata": {},
          "execution_count": 73
        }
      ],
      "source": [
        "pd.pivot_table(data2012_2015,index = 'genre', values = ['na_sales','eu_sales','jp_sales'],aggfunc = 'sum')"
      ]
    },
    {
      "cell_type": "markdown",
      "metadata": {
        "id": "hERv9Ks-KrIB"
      },
      "source": [
        "Самые популярные жанры у жителей Европы по убыванию: action,shooter, sports, role-playing, misc. Самые популярные жанры у жителей Японии по убыванию: role_playing, action, misc, simulation, fighting. Самые популярные жанры у жителей Южной Америки по убыванию: action, shooter,sports, role_playing,misc. Тут мы делаем выводы о том, что жанры Европы и Южной Америки совпадают, а вот рынок Японии сильно отличается, хоть и частично перекликается с другими рынками."
      ]
    },
    {
      "cell_type": "code",
      "execution_count": 74,
      "metadata": {
        "colab": {
          "base_uri": "https://localhost:8080/"
        },
        "id": "oPT408zdKrIC",
        "outputId": "10975ba8-1782-4467-c858-d5a38b9d1f57"
      },
      "outputs": [
        {
          "output_type": "stream",
          "name": "stdout",
          "text": [
            "   Южная Америка  Европа  Япония\n",
            "0          94.78   84.03   94.52\n",
            "1         451.26  371.57   78.75\n"
          ]
        }
      ],
      "source": [
        "a = data2012_2015[data2012_2015['rating'].isnull() == True]['na_sales'].sum()\n",
        "b = data2012_2015[data2012_2015['rating'].isnull() == True]['eu_sales'].sum()\n",
        "c = data2012_2015[data2012_2015['rating'].isnull() == True]['jp_sales'].sum()\n",
        "d = data2012_2015[data2012_2015['rating'].isnull() == False]['na_sales'].sum()\n",
        "e = data2012_2015[data2012_2015['rating'].isnull() == False]['eu_sales'].sum()\n",
        "f = data2012_2015[data2012_2015['rating'].isnull() == False]['jp_sales'].sum()\n",
        "\n",
        "rating_impact = pd.DataFrame({'Южная Америка':[a,d],'Европа':[b,e],'Япония':[c,f]})\n",
        "print(rating_impact)\n",
        "#0 - рейтинга нет\n",
        "#1 - рейтинг есть"
      ]
    },
    {
      "cell_type": "markdown",
      "metadata": {
        "id": "ccy2sKprKrID"
      },
      "source": [
        "Тут мы можем сделать вывод о том,что в Японии игры без рейтинга ESRB покупаются лучше, чем с ним,а в Южной Америке и Европе наоборот."
      ]
    },
    {
      "cell_type": "markdown",
      "metadata": {
        "id": "-R5XggP6KrID"
      },
      "source": [
        "ОБЩИЙ ВЫВОД: Портреты игрока в Европе и Южной Америке очень сильно похожи друг на друга(особенно по части жанров),а вот рынок Японии сильно отличается как по жанрам, так и по популярным платформам. Возможно, эта разница объясняется различием менталитетов."
      ]
    },
    {
      "cell_type": "markdown",
      "metadata": {
        "id": "8icNPQtvKrID"
      },
      "source": [
        "# ПРОВЕРКА ГИПОТЕЗ"
      ]
    },
    {
      "cell_type": "code",
      "execution_count": 75,
      "metadata": {
        "colab": {
          "base_uri": "https://localhost:8080/"
        },
        "id": "fdiLy--8KrIE",
        "outputId": "d13a53e7-8105-4ff7-d783-10fc6eb4b8ca"
      },
      "outputs": [
        {
          "output_type": "stream",
          "name": "stdout",
          "text": [
            "p-значение: 0.4647944599325482\n",
            "Не получилось отвергнуть нулевую гипотезу\n"
          ]
        }
      ],
      "source": [
        "row = data2012_2015[data2012_2015['platform'] == 'XOne']['user_score']\n",
        "row1 = data2012_2015[data2012_2015['platform'] == 'PC']['user_score']\n",
        "results = st.ttest_ind(row,row1)\n",
        "\n",
        "alpha = 0.05\n",
        "\n",
        "print('p-значение:', results.pvalue)\n",
        "\n",
        "if results.pvalue < alpha:\n",
        "    print('Отвергаем нулевую гипотезу')\n",
        "else:\n",
        "    print('Не получилось отвергнуть нулевую гипотезу')"
      ]
    },
    {
      "cell_type": "markdown",
      "metadata": {
        "id": "ba-SUiUZKrIE"
      },
      "source": [
        "H_0: Средние пользовательские рейтинги платформы XOne = Средние пользовательские рейтинги платформы PC(нужная нам гипотеза).H_1: Средние пользовательские рейтинги платформы XOne != Средние пользовательские рейтинги платформы PC.Для проверки я применила метод ttest_ind, так как обе генеральные совокупности не зависят друг от друга. Equal_var не задавала, так как выборки по размеру не сильно отличаются."
      ]
    },
    {
      "cell_type": "code",
      "execution_count": 76,
      "metadata": {
        "colab": {
          "base_uri": "https://localhost:8080/"
        },
        "id": "Mvqaca2-KrIE",
        "outputId": "6378ab4a-8e27-4cf5-81ec-03a96a4555ff"
      },
      "outputs": [
        {
          "output_type": "stream",
          "name": "stdout",
          "text": [
            "p-значение: 9.093575548670104e-19\n",
            "Отвергаем нулевую гипотезу\n"
          ]
        }
      ],
      "source": [
        "row = data2012_2015[data2012_2015['genre'] == 'Action']['user_score']\n",
        "row1 = data2012_2015[data2012_2015['genre'] == 'Sports']['user_score']\n",
        "results = st.ttest_ind(row,row1,equal_var = False)\n",
        "\n",
        "alpha = 0.05\n",
        "\n",
        "print('p-значение:', results.pvalue)\n",
        "\n",
        "if results.pvalue < alpha:\n",
        "    print('Отвергаем нулевую гипотезу')\n",
        "else:\n",
        "    print('Не получилось отвергнуть нулевую гипотезу')"
      ]
    },
    {
      "cell_type": "markdown",
      "metadata": {
        "id": "y5MYdJvIKrIE"
      },
      "source": [
        "H_0: Средние пользовательские рейтинги жанра Action = средние пользовательские рейтинги жанра Sports.\n",
        "H_1: Средние пользовательские рейтинги жанра Action != средние пользовательские рейтинги жанра Sports(нужная нам гипотеза).\n",
        "Для проверки я применила метод ttest_ind, так как обе генеральные совокупности не зависят друг от друга. Задала параметр equal_var = False, так как выборки отличаются друг от друга в несколько раз."
      ]
    },
    {
      "cell_type": "markdown",
      "metadata": {
        "id": "B0rt6LjbKrIE"
      },
      "source": [
        "# ОБЩИЙ ВЫВОД"
      ]
    },
    {
      "cell_type": "markdown",
      "metadata": {
        "id": "ghbMdyPZKrIE"
      },
      "source": [
        "В самом начале я ознакомилась с датасетом при помощи просмотра таблицы и построения первичных гистограмм, затем обработала данные(изменила тип некоторых данных, добавила новый столбец итд), после чего провела исследовательский анализ данных, составила портрет пользователей в разных регионах и в самом конце проверила две интересные гипотезы. Вот несколько важных выводов c моей работы:\n",
        "1. Потенциально прибыльные платформы - XOne и PS4.\n",
        "2. На рейтинг платформ особо не влияют ни оценки пользователей, ни оценки критиков, хотя оценки критиков влияют больше.\n",
        "3. Cамые прибыльные жанры - shooter,sports,platform. Жанры с самыми низкими продажами - puzzle,strategy и adventure.\n",
        "4. Пользователи Европы и Южной Америки похожи друг на друга, а вот пользователи Японии сильно отличаются.\n",
        "5. В Японии игры без рейтинга ESRB покупаются лучше, чем с ним,а в Южной Америке и Европе наоборот.\n",
        "6. Средние пользовательские рейтинги жанров Action (англ. «действие», экшен-игры) и Sports (англ. «спортивные соревнования») разные.\n"
      ]
    }
  ],
  "metadata": {
    "ExecuteTimeLog": [
      {
        "duration": 794,
        "start_time": "2023-02-24T08:14:47.952Z"
      },
      {
        "duration": 150,
        "start_time": "2023-02-24T08:15:22.109Z"
      },
      {
        "duration": 117,
        "start_time": "2023-02-24T08:15:27.311Z"
      },
      {
        "duration": 78,
        "start_time": "2023-02-24T08:15:57.833Z"
      },
      {
        "duration": 68,
        "start_time": "2023-02-24T08:16:36.459Z"
      },
      {
        "duration": 971,
        "start_time": "2023-02-24T08:17:06.450Z"
      },
      {
        "duration": 827,
        "start_time": "2023-02-24T08:17:22.707Z"
      },
      {
        "duration": 18,
        "start_time": "2023-02-24T08:19:33.681Z"
      },
      {
        "duration": 31,
        "start_time": "2023-02-24T08:25:35.232Z"
      },
      {
        "duration": 9,
        "start_time": "2023-02-24T08:25:59.953Z"
      },
      {
        "duration": 20,
        "start_time": "2023-02-24T08:26:18.968Z"
      },
      {
        "duration": 30,
        "start_time": "2023-02-24T08:26:43.227Z"
      },
      {
        "duration": 21,
        "start_time": "2023-02-24T08:31:28.881Z"
      },
      {
        "duration": 18,
        "start_time": "2023-02-24T08:31:50.463Z"
      },
      {
        "duration": 15,
        "start_time": "2023-02-24T08:31:54.632Z"
      },
      {
        "duration": 12,
        "start_time": "2023-02-24T08:31:59.165Z"
      },
      {
        "duration": 946,
        "start_time": "2023-02-24T08:32:00.936Z"
      },
      {
        "duration": 15,
        "start_time": "2023-02-24T08:32:04.474Z"
      },
      {
        "duration": 51,
        "start_time": "2023-02-24T08:32:18.459Z"
      },
      {
        "duration": 5,
        "start_time": "2023-02-24T08:32:23.114Z"
      },
      {
        "duration": 1563,
        "start_time": "2023-02-24T08:32:50.524Z"
      },
      {
        "duration": 39,
        "start_time": "2023-02-24T08:32:56.337Z"
      },
      {
        "duration": 21,
        "start_time": "2023-02-24T08:34:11.276Z"
      },
      {
        "duration": 8,
        "start_time": "2023-02-24T08:34:19.986Z"
      },
      {
        "duration": 21,
        "start_time": "2023-02-24T08:35:20.786Z"
      },
      {
        "duration": 24,
        "start_time": "2023-02-24T08:36:10.258Z"
      },
      {
        "duration": 8,
        "start_time": "2023-02-24T08:37:18.623Z"
      },
      {
        "duration": 16,
        "start_time": "2023-02-24T08:37:38.265Z"
      },
      {
        "duration": 18,
        "start_time": "2023-02-24T08:38:15.028Z"
      },
      {
        "duration": 12,
        "start_time": "2023-02-24T08:38:24.021Z"
      },
      {
        "duration": 11,
        "start_time": "2023-02-24T08:38:31.991Z"
      },
      {
        "duration": 2253,
        "start_time": "2023-02-24T08:40:15.678Z"
      },
      {
        "duration": 1768,
        "start_time": "2023-02-24T08:40:18.265Z"
      },
      {
        "duration": 17,
        "start_time": "2023-02-24T08:40:34.794Z"
      },
      {
        "duration": 14,
        "start_time": "2023-02-24T08:41:11.020Z"
      },
      {
        "duration": 23,
        "start_time": "2023-02-24T08:41:16.465Z"
      },
      {
        "duration": 11,
        "start_time": "2023-02-24T08:41:20.482Z"
      },
      {
        "duration": 8,
        "start_time": "2023-02-24T08:43:10.691Z"
      },
      {
        "duration": 9,
        "start_time": "2023-02-24T08:43:36.004Z"
      },
      {
        "duration": 36,
        "start_time": "2023-02-24T08:44:02.264Z"
      },
      {
        "duration": 16,
        "start_time": "2023-02-24T08:46:15.956Z"
      },
      {
        "duration": 12,
        "start_time": "2023-02-24T08:47:00.996Z"
      },
      {
        "duration": 11,
        "start_time": "2023-02-24T08:47:07.608Z"
      },
      {
        "duration": 22,
        "start_time": "2023-02-24T08:47:36.318Z"
      },
      {
        "duration": 28,
        "start_time": "2023-02-24T08:47:57.565Z"
      },
      {
        "duration": 17,
        "start_time": "2023-02-24T08:48:01.564Z"
      },
      {
        "duration": 19,
        "start_time": "2023-02-24T08:48:36.261Z"
      },
      {
        "duration": 18,
        "start_time": "2023-02-24T08:49:16.029Z"
      },
      {
        "duration": 28,
        "start_time": "2023-02-24T08:49:30.457Z"
      },
      {
        "duration": 27,
        "start_time": "2023-02-24T08:50:01.018Z"
      },
      {
        "duration": 1213,
        "start_time": "2023-02-24T08:50:25.075Z"
      },
      {
        "duration": 34,
        "start_time": "2023-02-24T08:50:57.962Z"
      },
      {
        "duration": 31,
        "start_time": "2023-02-24T08:51:10.930Z"
      },
      {
        "duration": 10,
        "start_time": "2023-02-24T08:51:15.982Z"
      },
      {
        "duration": 24,
        "start_time": "2023-02-24T08:51:50.969Z"
      },
      {
        "duration": 8,
        "start_time": "2023-02-24T08:52:51.566Z"
      },
      {
        "duration": 12,
        "start_time": "2023-02-24T08:53:32.539Z"
      },
      {
        "duration": 33,
        "start_time": "2023-02-24T08:53:46.959Z"
      },
      {
        "duration": 20,
        "start_time": "2023-02-24T08:54:05.183Z"
      },
      {
        "duration": 27,
        "start_time": "2023-02-24T08:54:47.206Z"
      },
      {
        "duration": 33,
        "start_time": "2023-02-24T08:55:06.323Z"
      },
      {
        "duration": 12,
        "start_time": "2023-02-24T09:00:56.153Z"
      },
      {
        "duration": 10,
        "start_time": "2023-02-24T09:01:29.328Z"
      },
      {
        "duration": 17,
        "start_time": "2023-02-24T09:01:38.607Z"
      },
      {
        "duration": 19,
        "start_time": "2023-02-24T09:01:58.312Z"
      },
      {
        "duration": 18,
        "start_time": "2023-02-24T09:02:23.535Z"
      },
      {
        "duration": 2,
        "start_time": "2023-02-24T09:02:29.424Z"
      },
      {
        "duration": 789,
        "start_time": "2023-02-24T09:02:30.966Z"
      },
      {
        "duration": 18,
        "start_time": "2023-02-24T09:02:36.370Z"
      },
      {
        "duration": 14,
        "start_time": "2023-02-24T09:04:14.821Z"
      },
      {
        "duration": 10,
        "start_time": "2023-02-24T09:04:49.775Z"
      },
      {
        "duration": 13,
        "start_time": "2023-02-24T09:05:41.064Z"
      },
      {
        "duration": 8,
        "start_time": "2023-02-24T09:05:48.181Z"
      },
      {
        "duration": 15,
        "start_time": "2023-02-24T09:05:57.009Z"
      },
      {
        "duration": 19,
        "start_time": "2023-02-24T09:06:04.919Z"
      },
      {
        "duration": 16,
        "start_time": "2023-02-24T09:06:23.719Z"
      },
      {
        "duration": 17,
        "start_time": "2023-02-24T09:06:33.647Z"
      },
      {
        "duration": 20,
        "start_time": "2023-02-24T09:06:36.226Z"
      },
      {
        "duration": 3,
        "start_time": "2023-02-24T09:06:40.735Z"
      },
      {
        "duration": 918,
        "start_time": "2023-02-24T09:06:42.416Z"
      },
      {
        "duration": 10,
        "start_time": "2023-02-24T09:06:47.607Z"
      },
      {
        "duration": 7,
        "start_time": "2023-02-24T09:06:49.902Z"
      },
      {
        "duration": 16,
        "start_time": "2023-02-24T09:06:56.897Z"
      },
      {
        "duration": 15,
        "start_time": "2023-02-24T09:09:01.332Z"
      },
      {
        "duration": 15,
        "start_time": "2023-02-24T09:09:05.013Z"
      },
      {
        "duration": 3,
        "start_time": "2023-02-24T09:10:08.492Z"
      },
      {
        "duration": 16,
        "start_time": "2023-02-24T09:10:14.858Z"
      },
      {
        "duration": 15,
        "start_time": "2023-02-24T09:10:21.200Z"
      },
      {
        "duration": 3,
        "start_time": "2023-02-24T09:10:30.949Z"
      },
      {
        "duration": 2,
        "start_time": "2023-02-24T09:10:38.462Z"
      },
      {
        "duration": 1126,
        "start_time": "2023-02-24T09:10:40.297Z"
      },
      {
        "duration": 11,
        "start_time": "2023-02-24T09:10:46.294Z"
      },
      {
        "duration": 10,
        "start_time": "2023-02-24T09:10:58.018Z"
      },
      {
        "duration": 11,
        "start_time": "2023-02-24T09:11:04.180Z"
      },
      {
        "duration": 8,
        "start_time": "2023-02-24T09:12:49.092Z"
      },
      {
        "duration": 15,
        "start_time": "2023-02-24T09:13:03.913Z"
      },
      {
        "duration": 19,
        "start_time": "2023-02-24T09:14:32.504Z"
      },
      {
        "duration": 15,
        "start_time": "2023-02-24T09:14:47.204Z"
      },
      {
        "duration": 15,
        "start_time": "2023-02-24T09:15:03.675Z"
      },
      {
        "duration": 15,
        "start_time": "2023-02-24T09:15:07.801Z"
      },
      {
        "duration": 5,
        "start_time": "2023-02-24T09:19:25.063Z"
      },
      {
        "duration": 5,
        "start_time": "2023-02-24T09:19:39.251Z"
      },
      {
        "duration": 26,
        "start_time": "2023-02-24T09:19:46.384Z"
      },
      {
        "duration": 11,
        "start_time": "2023-02-24T09:20:07.354Z"
      },
      {
        "duration": 23,
        "start_time": "2023-02-24T09:20:46.965Z"
      },
      {
        "duration": 24,
        "start_time": "2023-02-24T09:21:07.195Z"
      },
      {
        "duration": 9,
        "start_time": "2023-02-24T09:24:07.050Z"
      },
      {
        "duration": 7,
        "start_time": "2023-02-24T09:24:21.803Z"
      },
      {
        "duration": 10,
        "start_time": "2023-02-24T09:24:51.549Z"
      },
      {
        "duration": 6,
        "start_time": "2023-02-24T09:25:11.072Z"
      },
      {
        "duration": 9,
        "start_time": "2023-02-24T09:26:44.111Z"
      },
      {
        "duration": 199,
        "start_time": "2023-02-24T09:27:43.906Z"
      },
      {
        "duration": 199,
        "start_time": "2023-02-24T09:27:56.986Z"
      },
      {
        "duration": 311,
        "start_time": "2023-02-24T09:28:06.578Z"
      },
      {
        "duration": 436,
        "start_time": "2023-02-24T09:28:37.310Z"
      },
      {
        "duration": 9,
        "start_time": "2023-02-24T09:31:50.202Z"
      },
      {
        "duration": 9,
        "start_time": "2023-02-24T09:32:09.620Z"
      },
      {
        "duration": 10,
        "start_time": "2023-02-24T09:32:26.581Z"
      },
      {
        "duration": 11,
        "start_time": "2023-02-24T09:32:36.808Z"
      },
      {
        "duration": 12,
        "start_time": "2023-02-24T09:32:45.432Z"
      },
      {
        "duration": 11,
        "start_time": "2023-02-24T09:35:13.252Z"
      },
      {
        "duration": 14,
        "start_time": "2023-02-24T09:37:00.866Z"
      },
      {
        "duration": 8,
        "start_time": "2023-02-24T09:37:17.023Z"
      },
      {
        "duration": 8,
        "start_time": "2023-02-24T09:37:27.903Z"
      },
      {
        "duration": 14,
        "start_time": "2023-02-24T09:37:53.434Z"
      },
      {
        "duration": 522,
        "start_time": "2023-02-24T09:54:05.079Z"
      },
      {
        "duration": 7,
        "start_time": "2023-02-24T09:54:09.715Z"
      },
      {
        "duration": 11,
        "start_time": "2023-02-24T09:54:23.923Z"
      },
      {
        "duration": 14,
        "start_time": "2023-02-24T09:58:24.824Z"
      },
      {
        "duration": 15,
        "start_time": "2023-02-24T09:58:41.964Z"
      },
      {
        "duration": 16,
        "start_time": "2023-02-24T09:58:57.658Z"
      },
      {
        "duration": 11,
        "start_time": "2023-02-24T09:59:03.728Z"
      },
      {
        "duration": 135,
        "start_time": "2023-02-24T09:59:53.581Z"
      },
      {
        "duration": 15,
        "start_time": "2023-02-24T10:00:17.465Z"
      },
      {
        "duration": 7,
        "start_time": "2023-02-24T10:00:40.921Z"
      },
      {
        "duration": 13,
        "start_time": "2023-02-24T10:01:12.159Z"
      },
      {
        "duration": 45,
        "start_time": "2023-02-24T10:01:36.933Z"
      },
      {
        "duration": 9,
        "start_time": "2023-02-24T10:01:47.154Z"
      },
      {
        "duration": 10,
        "start_time": "2023-02-24T10:04:21.888Z"
      },
      {
        "duration": 7,
        "start_time": "2023-02-24T10:04:38.215Z"
      },
      {
        "duration": 26,
        "start_time": "2023-02-24T10:05:18.631Z"
      },
      {
        "duration": 27,
        "start_time": "2023-02-24T10:08:21.165Z"
      },
      {
        "duration": 18,
        "start_time": "2023-02-24T10:08:28.130Z"
      },
      {
        "duration": 10,
        "start_time": "2023-02-24T10:08:40.464Z"
      },
      {
        "duration": 95,
        "start_time": "2023-02-24T10:14:59.961Z"
      },
      {
        "duration": 56,
        "start_time": "2023-02-24T10:15:30.151Z"
      },
      {
        "duration": 68,
        "start_time": "2023-02-24T10:16:11.430Z"
      },
      {
        "duration": 81,
        "start_time": "2023-02-24T10:16:53.036Z"
      },
      {
        "duration": 795,
        "start_time": "2023-02-24T10:17:17.967Z"
      },
      {
        "duration": 14,
        "start_time": "2023-02-24T10:17:40.288Z"
      },
      {
        "duration": 107,
        "start_time": "2023-02-24T10:17:46.460Z"
      },
      {
        "duration": 33,
        "start_time": "2023-02-24T10:19:33.459Z"
      },
      {
        "duration": 16,
        "start_time": "2023-02-24T10:22:43.405Z"
      },
      {
        "duration": 15,
        "start_time": "2023-02-24T10:23:54.460Z"
      },
      {
        "duration": 15,
        "start_time": "2023-02-24T10:27:32.995Z"
      },
      {
        "duration": 7,
        "start_time": "2023-02-24T10:27:47.604Z"
      },
      {
        "duration": 13,
        "start_time": "2023-02-24T10:27:52.923Z"
      },
      {
        "duration": 15,
        "start_time": "2023-02-24T10:28:14.697Z"
      },
      {
        "duration": 16,
        "start_time": "2023-02-24T10:29:07.733Z"
      },
      {
        "duration": 11,
        "start_time": "2023-02-24T10:29:26.116Z"
      },
      {
        "duration": 283,
        "start_time": "2023-02-24T10:29:57.436Z"
      },
      {
        "duration": 15,
        "start_time": "2023-02-24T10:30:48.285Z"
      },
      {
        "duration": 21,
        "start_time": "2023-02-24T10:30:56.559Z"
      },
      {
        "duration": 8,
        "start_time": "2023-02-24T10:35:40.382Z"
      },
      {
        "duration": 135,
        "start_time": "2023-02-24T10:36:21.587Z"
      },
      {
        "duration": 18,
        "start_time": "2023-02-24T10:37:25.629Z"
      },
      {
        "duration": 1524,
        "start_time": "2023-02-24T10:37:44.896Z"
      },
      {
        "duration": 1456,
        "start_time": "2023-02-24T10:37:57.697Z"
      },
      {
        "duration": 7,
        "start_time": "2023-02-24T10:38:08.925Z"
      },
      {
        "duration": 156,
        "start_time": "2023-02-24T10:38:49.868Z"
      },
      {
        "duration": 1340,
        "start_time": "2023-02-24T10:39:42.987Z"
      },
      {
        "duration": 0,
        "start_time": "2023-02-24T11:10:49.117Z"
      },
      {
        "duration": 0,
        "start_time": "2023-02-24T11:10:49.127Z"
      },
      {
        "duration": 0,
        "start_time": "2023-02-24T11:10:49.143Z"
      },
      {
        "duration": 0,
        "start_time": "2023-02-24T11:10:49.151Z"
      },
      {
        "duration": 0,
        "start_time": "2023-02-24T11:10:49.157Z"
      },
      {
        "duration": 967,
        "start_time": "2023-02-25T04:33:26.210Z"
      },
      {
        "duration": 1529,
        "start_time": "2023-02-25T04:33:27.179Z"
      },
      {
        "duration": 45,
        "start_time": "2023-02-25T04:33:28.719Z"
      },
      {
        "duration": 6,
        "start_time": "2023-02-25T04:33:28.765Z"
      },
      {
        "duration": 40,
        "start_time": "2023-02-25T04:33:34.590Z"
      },
      {
        "duration": 309,
        "start_time": "2023-02-25T04:33:37.778Z"
      },
      {
        "duration": 199,
        "start_time": "2023-02-25T04:33:43.588Z"
      },
      {
        "duration": 175,
        "start_time": "2023-02-25T04:34:39.931Z"
      },
      {
        "duration": 192,
        "start_time": "2023-02-25T04:35:47.135Z"
      },
      {
        "duration": 304,
        "start_time": "2023-02-25T04:36:16.439Z"
      },
      {
        "duration": 199,
        "start_time": "2023-02-25T04:38:34.916Z"
      },
      {
        "duration": 82,
        "start_time": "2023-02-25T04:38:55.501Z"
      },
      {
        "duration": 29,
        "start_time": "2023-02-25T04:39:05.059Z"
      },
      {
        "duration": 180,
        "start_time": "2023-02-25T04:39:12.095Z"
      },
      {
        "duration": 18,
        "start_time": "2023-02-25T04:44:33.852Z"
      },
      {
        "duration": 15,
        "start_time": "2023-02-25T04:44:39.528Z"
      },
      {
        "duration": 1038,
        "start_time": "2023-02-25T04:44:41.544Z"
      },
      {
        "duration": 34,
        "start_time": "2023-02-25T04:44:47.643Z"
      },
      {
        "duration": 5,
        "start_time": "2023-02-25T04:44:51.197Z"
      },
      {
        "duration": 373,
        "start_time": "2023-02-25T04:44:56.565Z"
      },
      {
        "duration": 19,
        "start_time": "2023-02-25T04:45:01.857Z"
      },
      {
        "duration": 225,
        "start_time": "2023-02-25T04:45:07.218Z"
      },
      {
        "duration": 16,
        "start_time": "2023-02-25T04:48:45.349Z"
      },
      {
        "duration": 11,
        "start_time": "2023-02-25T04:48:56.055Z"
      },
      {
        "duration": 10,
        "start_time": "2023-02-25T04:49:05.258Z"
      },
      {
        "duration": 18,
        "start_time": "2023-02-25T04:50:58.152Z"
      },
      {
        "duration": 184,
        "start_time": "2023-02-25T04:51:07.314Z"
      },
      {
        "duration": 43,
        "start_time": "2023-02-25T05:51:26.788Z"
      },
      {
        "duration": 37,
        "start_time": "2023-02-25T05:51:33.758Z"
      },
      {
        "duration": 23,
        "start_time": "2023-02-25T05:51:51.144Z"
      },
      {
        "duration": 8,
        "start_time": "2023-02-25T05:52:02.088Z"
      },
      {
        "duration": 1851,
        "start_time": "2023-02-25T05:52:04.691Z"
      },
      {
        "duration": 72,
        "start_time": "2023-02-25T05:52:06.548Z"
      },
      {
        "duration": 26,
        "start_time": "2023-02-25T05:52:06.817Z"
      },
      {
        "duration": 662,
        "start_time": "2023-02-25T05:52:07.528Z"
      },
      {
        "duration": 419,
        "start_time": "2023-02-25T05:52:08.196Z"
      },
      {
        "duration": 27,
        "start_time": "2023-02-25T05:52:09.696Z"
      },
      {
        "duration": 3276,
        "start_time": "2023-02-25T05:54:27.023Z"
      },
      {
        "duration": 17,
        "start_time": "2023-02-25T05:54:43.666Z"
      },
      {
        "duration": 31,
        "start_time": "2023-02-25T05:54:59.020Z"
      },
      {
        "duration": 14,
        "start_time": "2023-02-25T05:55:09.298Z"
      },
      {
        "duration": 11,
        "start_time": "2023-02-25T05:56:20.788Z"
      },
      {
        "duration": 19,
        "start_time": "2023-02-25T05:56:33.516Z"
      },
      {
        "duration": 11,
        "start_time": "2023-02-25T05:56:54.444Z"
      },
      {
        "duration": 10,
        "start_time": "2023-02-25T05:57:38.528Z"
      },
      {
        "duration": 16,
        "start_time": "2023-02-25T05:57:44.728Z"
      },
      {
        "duration": 4,
        "start_time": "2023-02-25T05:57:52.288Z"
      },
      {
        "duration": 51,
        "start_time": "2023-02-25T05:57:58.264Z"
      },
      {
        "duration": 523,
        "start_time": "2023-02-25T05:58:02.767Z"
      },
      {
        "duration": 314,
        "start_time": "2023-02-25T05:58:07.168Z"
      },
      {
        "duration": 18,
        "start_time": "2023-02-25T05:58:14.586Z"
      },
      {
        "duration": 21,
        "start_time": "2023-02-25T05:58:20.981Z"
      },
      {
        "duration": 30,
        "start_time": "2023-02-25T05:59:42.240Z"
      },
      {
        "duration": 13,
        "start_time": "2023-02-25T06:00:08.865Z"
      },
      {
        "duration": 22,
        "start_time": "2023-02-25T06:01:17.044Z"
      },
      {
        "duration": 11,
        "start_time": "2023-02-25T06:01:34.772Z"
      },
      {
        "duration": 36,
        "start_time": "2023-02-25T06:01:57.607Z"
      },
      {
        "duration": 2691,
        "start_time": "2023-02-25T06:03:59.926Z"
      },
      {
        "duration": 169,
        "start_time": "2023-02-25T06:04:15.033Z"
      },
      {
        "duration": 2518,
        "start_time": "2023-02-25T06:04:25.187Z"
      },
      {
        "duration": 2007,
        "start_time": "2023-02-25T06:04:52.006Z"
      },
      {
        "duration": 1995,
        "start_time": "2023-02-25T06:05:10.120Z"
      },
      {
        "duration": 24,
        "start_time": "2023-02-25T06:09:39.799Z"
      },
      {
        "duration": 6,
        "start_time": "2023-02-25T06:10:11.797Z"
      },
      {
        "duration": 24,
        "start_time": "2023-02-25T06:10:23.031Z"
      },
      {
        "duration": 18,
        "start_time": "2023-02-25T06:11:39.272Z"
      },
      {
        "duration": 98,
        "start_time": "2023-02-25T06:11:45.688Z"
      },
      {
        "duration": 105,
        "start_time": "2023-02-25T06:12:01.870Z"
      },
      {
        "duration": 12,
        "start_time": "2023-02-25T07:06:33.939Z"
      },
      {
        "duration": 1375,
        "start_time": "2023-02-25T07:06:34.984Z"
      },
      {
        "duration": 49,
        "start_time": "2023-02-25T07:06:38.987Z"
      },
      {
        "duration": 17,
        "start_time": "2023-02-25T07:06:42.046Z"
      },
      {
        "duration": 453,
        "start_time": "2023-02-25T07:06:44.898Z"
      },
      {
        "duration": 295,
        "start_time": "2023-02-25T07:06:49.064Z"
      },
      {
        "duration": 535,
        "start_time": "2023-02-25T07:07:02.696Z"
      },
      {
        "duration": 23,
        "start_time": "2023-02-25T07:17:26.056Z"
      },
      {
        "duration": 16,
        "start_time": "2023-02-25T07:17:46.679Z"
      },
      {
        "duration": 13,
        "start_time": "2023-02-25T07:18:14.610Z"
      },
      {
        "duration": 610,
        "start_time": "2023-02-25T07:18:23.521Z"
      },
      {
        "duration": 75,
        "start_time": "2023-02-25T07:44:27.476Z"
      },
      {
        "duration": 121,
        "start_time": "2023-02-25T07:44:34.486Z"
      },
      {
        "duration": 1123,
        "start_time": "2023-02-25T07:45:02.884Z"
      },
      {
        "duration": 47,
        "start_time": "2023-02-25T07:45:11.416Z"
      },
      {
        "duration": 208,
        "start_time": "2023-02-25T07:45:16.956Z"
      },
      {
        "duration": 1287,
        "start_time": "2023-02-25T07:45:22.368Z"
      },
      {
        "duration": 795,
        "start_time": "2023-02-25T07:45:49.896Z"
      },
      {
        "duration": 570,
        "start_time": "2023-02-25T07:48:37.364Z"
      },
      {
        "duration": 28,
        "start_time": "2023-02-25T07:49:07.115Z"
      },
      {
        "duration": 439,
        "start_time": "2023-02-25T07:49:10.924Z"
      },
      {
        "duration": 677,
        "start_time": "2023-02-25T07:49:15.248Z"
      },
      {
        "duration": 367,
        "start_time": "2023-02-25T07:49:34.484Z"
      },
      {
        "duration": 459,
        "start_time": "2023-02-25T07:59:37.032Z"
      },
      {
        "duration": 424,
        "start_time": "2023-02-25T07:59:43.232Z"
      },
      {
        "duration": 32,
        "start_time": "2023-02-25T08:08:15.751Z"
      },
      {
        "duration": 32,
        "start_time": "2023-02-25T08:08:48.142Z"
      },
      {
        "duration": 10,
        "start_time": "2023-02-25T08:09:26.157Z"
      },
      {
        "duration": 89,
        "start_time": "2023-02-25T08:09:30.767Z"
      },
      {
        "duration": 67,
        "start_time": "2023-02-25T08:09:40.948Z"
      },
      {
        "duration": 4,
        "start_time": "2023-02-25T08:11:15.385Z"
      },
      {
        "duration": 1567,
        "start_time": "2023-02-25T08:11:17.656Z"
      },
      {
        "duration": 67,
        "start_time": "2023-02-25T08:11:23.376Z"
      },
      {
        "duration": 27,
        "start_time": "2023-02-25T08:11:39.521Z"
      },
      {
        "duration": 41,
        "start_time": "2023-02-25T08:12:02.914Z"
      },
      {
        "duration": 30,
        "start_time": "2023-02-25T08:12:17.236Z"
      },
      {
        "duration": 64,
        "start_time": "2023-02-25T08:12:22.123Z"
      },
      {
        "duration": 20,
        "start_time": "2023-02-25T08:12:29.551Z"
      },
      {
        "duration": 29,
        "start_time": "2023-02-25T08:12:33.667Z"
      },
      {
        "duration": 37,
        "start_time": "2023-02-25T08:12:40.297Z"
      },
      {
        "duration": 28,
        "start_time": "2023-02-25T08:12:51.381Z"
      },
      {
        "duration": 27,
        "start_time": "2023-02-25T08:12:58.676Z"
      },
      {
        "duration": 26,
        "start_time": "2023-02-25T08:13:08.451Z"
      },
      {
        "duration": 33,
        "start_time": "2023-02-25T08:22:10.052Z"
      },
      {
        "duration": 57,
        "start_time": "2023-02-25T08:22:24.824Z"
      },
      {
        "duration": 62,
        "start_time": "2023-02-25T08:22:28.387Z"
      },
      {
        "duration": 31,
        "start_time": "2023-02-25T08:22:38.768Z"
      },
      {
        "duration": 27,
        "start_time": "2023-02-25T08:22:40.877Z"
      },
      {
        "duration": 21,
        "start_time": "2023-02-25T08:22:45.655Z"
      },
      {
        "duration": 62,
        "start_time": "2023-02-25T08:22:53.901Z"
      },
      {
        "duration": 27,
        "start_time": "2023-02-25T08:22:57.846Z"
      },
      {
        "duration": 23,
        "start_time": "2023-02-25T08:23:02.344Z"
      },
      {
        "duration": 21,
        "start_time": "2023-02-25T08:24:33.409Z"
      },
      {
        "duration": 26,
        "start_time": "2023-02-25T08:24:49.158Z"
      },
      {
        "duration": 16,
        "start_time": "2023-02-25T08:24:59.361Z"
      },
      {
        "duration": 21,
        "start_time": "2023-02-25T08:25:06.439Z"
      },
      {
        "duration": 12,
        "start_time": "2023-02-25T08:28:36.776Z"
      },
      {
        "duration": 9,
        "start_time": "2023-02-25T08:28:40.398Z"
      },
      {
        "duration": 48,
        "start_time": "2023-02-25T08:28:50.928Z"
      },
      {
        "duration": 19,
        "start_time": "2023-02-25T08:29:36.268Z"
      },
      {
        "duration": 23,
        "start_time": "2023-02-25T08:29:38.350Z"
      },
      {
        "duration": 22,
        "start_time": "2023-02-25T08:29:44.737Z"
      },
      {
        "duration": 4,
        "start_time": "2023-02-25T08:29:48.503Z"
      },
      {
        "duration": 48,
        "start_time": "2023-02-25T08:29:55.106Z"
      },
      {
        "duration": 57,
        "start_time": "2023-02-25T08:30:41.240Z"
      },
      {
        "duration": 192,
        "start_time": "2023-02-25T08:30:53.081Z"
      },
      {
        "duration": 122,
        "start_time": "2023-02-25T08:30:57.970Z"
      },
      {
        "duration": 42,
        "start_time": "2023-02-25T08:34:56.901Z"
      },
      {
        "duration": 10,
        "start_time": "2023-02-25T08:35:12.321Z"
      },
      {
        "duration": 9,
        "start_time": "2023-02-25T08:35:24.083Z"
      },
      {
        "duration": 21,
        "start_time": "2023-02-25T08:39:33.654Z"
      },
      {
        "duration": 13,
        "start_time": "2023-02-25T08:39:41.240Z"
      },
      {
        "duration": 14,
        "start_time": "2023-02-25T08:40:00.194Z"
      },
      {
        "duration": 29,
        "start_time": "2023-02-25T08:40:20.543Z"
      },
      {
        "duration": 13,
        "start_time": "2023-02-25T08:41:55.285Z"
      },
      {
        "duration": 15,
        "start_time": "2023-02-25T08:41:58.044Z"
      },
      {
        "duration": 33,
        "start_time": "2023-02-25T08:52:56.398Z"
      },
      {
        "duration": 21,
        "start_time": "2023-02-25T08:53:03.675Z"
      },
      {
        "duration": 22,
        "start_time": "2023-02-25T08:53:07.776Z"
      },
      {
        "duration": 5,
        "start_time": "2023-02-25T08:53:10.460Z"
      },
      {
        "duration": 1123,
        "start_time": "2023-02-25T08:53:13.769Z"
      },
      {
        "duration": 3,
        "start_time": "2023-02-25T08:54:59.899Z"
      },
      {
        "duration": 1099,
        "start_time": "2023-02-25T08:55:02.143Z"
      },
      {
        "duration": 14,
        "start_time": "2023-02-25T08:55:04.191Z"
      },
      {
        "duration": 12,
        "start_time": "2023-02-25T08:55:06.287Z"
      },
      {
        "duration": 11,
        "start_time": "2023-02-25T08:55:08.156Z"
      },
      {
        "duration": 284,
        "start_time": "2023-02-25T08:55:11.536Z"
      },
      {
        "duration": 360,
        "start_time": "2023-02-25T08:55:15.934Z"
      },
      {
        "duration": 345,
        "start_time": "2023-02-25T08:55:21.848Z"
      },
      {
        "duration": 2979,
        "start_time": "2023-02-25T09:04:02.492Z"
      },
      {
        "duration": 555,
        "start_time": "2023-02-25T09:04:21.536Z"
      },
      {
        "duration": 588,
        "start_time": "2023-02-25T09:04:27.051Z"
      },
      {
        "duration": 398,
        "start_time": "2023-02-25T09:06:18.389Z"
      },
      {
        "duration": 405,
        "start_time": "2023-02-25T09:06:21.429Z"
      },
      {
        "duration": 3,
        "start_time": "2023-02-25T09:06:26.800Z"
      },
      {
        "duration": 1001,
        "start_time": "2023-02-25T09:06:28.773Z"
      },
      {
        "duration": 2097,
        "start_time": "2023-02-25T09:06:32.709Z"
      },
      {
        "duration": 16,
        "start_time": "2023-02-25T09:06:36.287Z"
      },
      {
        "duration": 30,
        "start_time": "2023-02-25T09:06:40.609Z"
      },
      {
        "duration": 32,
        "start_time": "2023-02-25T09:06:49.603Z"
      },
      {
        "duration": 3,
        "start_time": "2023-02-25T09:20:41.436Z"
      },
      {
        "duration": 1360,
        "start_time": "2023-02-25T09:20:42.275Z"
      },
      {
        "duration": 26,
        "start_time": "2023-02-25T09:20:43.648Z"
      },
      {
        "duration": 7,
        "start_time": "2023-02-25T09:20:48.573Z"
      },
      {
        "duration": 8,
        "start_time": "2023-02-25T09:20:53.668Z"
      },
      {
        "duration": 10,
        "start_time": "2023-02-25T09:20:56.845Z"
      },
      {
        "duration": 191,
        "start_time": "2023-02-25T09:21:02.481Z"
      },
      {
        "duration": 348,
        "start_time": "2023-02-25T09:21:05.640Z"
      },
      {
        "duration": 279,
        "start_time": "2023-02-25T09:21:09.764Z"
      },
      {
        "duration": 8,
        "start_time": "2023-02-25T09:22:48.172Z"
      },
      {
        "duration": 362,
        "start_time": "2023-02-25T09:23:17.080Z"
      },
      {
        "duration": 321,
        "start_time": "2023-02-25T09:23:25.644Z"
      },
      {
        "duration": 386,
        "start_time": "2023-02-25T09:23:34.595Z"
      },
      {
        "duration": 7,
        "start_time": "2023-02-25T09:24:14.269Z"
      },
      {
        "duration": 2244,
        "start_time": "2023-02-25T09:24:56.598Z"
      },
      {
        "duration": 1859,
        "start_time": "2023-02-25T09:25:09.938Z"
      },
      {
        "duration": 6,
        "start_time": "2023-02-25T09:25:20.794Z"
      },
      {
        "duration": 11,
        "start_time": "2023-02-25T09:25:28.297Z"
      },
      {
        "duration": 7,
        "start_time": "2023-02-25T09:27:03.486Z"
      },
      {
        "duration": 9,
        "start_time": "2023-02-25T09:27:41.279Z"
      },
      {
        "duration": 16,
        "start_time": "2023-02-25T09:28:22.964Z"
      },
      {
        "duration": 430,
        "start_time": "2023-02-25T09:28:59.061Z"
      },
      {
        "duration": 20,
        "start_time": "2023-02-25T09:29:40.956Z"
      },
      {
        "duration": 43,
        "start_time": "2023-02-25T09:29:55.792Z"
      },
      {
        "duration": 7,
        "start_time": "2023-02-25T09:31:08.857Z"
      },
      {
        "duration": 249,
        "start_time": "2023-02-25T09:32:28.988Z"
      },
      {
        "duration": 185,
        "start_time": "2023-02-25T09:33:03.090Z"
      },
      {
        "duration": 2696,
        "start_time": "2023-02-25T09:33:12.539Z"
      },
      {
        "duration": 328,
        "start_time": "2023-02-25T09:33:26.247Z"
      },
      {
        "duration": 298,
        "start_time": "2023-02-25T09:34:17.200Z"
      },
      {
        "duration": 7,
        "start_time": "2023-02-25T09:36:14.590Z"
      },
      {
        "duration": 16,
        "start_time": "2023-02-25T10:23:50.360Z"
      },
      {
        "duration": 24,
        "start_time": "2023-02-25T10:24:41.676Z"
      },
      {
        "duration": 6,
        "start_time": "2023-02-25T10:25:40.597Z"
      },
      {
        "duration": 7,
        "start_time": "2023-02-25T10:25:45.201Z"
      },
      {
        "duration": 20,
        "start_time": "2023-02-25T10:26:14.311Z"
      },
      {
        "duration": 31,
        "start_time": "2023-02-25T10:26:30.628Z"
      },
      {
        "duration": 25,
        "start_time": "2023-02-25T10:26:51.793Z"
      },
      {
        "duration": 30,
        "start_time": "2023-02-25T10:27:39.129Z"
      },
      {
        "duration": 60,
        "start_time": "2023-02-26T07:21:31.183Z"
      },
      {
        "duration": 1360,
        "start_time": "2023-02-26T07:21:37.288Z"
      },
      {
        "duration": 852,
        "start_time": "2023-02-26T07:21:40.016Z"
      },
      {
        "duration": 13,
        "start_time": "2023-02-26T07:21:44.594Z"
      },
      {
        "duration": 11,
        "start_time": "2023-02-26T07:24:36.906Z"
      },
      {
        "duration": 6,
        "start_time": "2023-02-26T07:24:40.818Z"
      },
      {
        "duration": 8,
        "start_time": "2023-02-26T07:25:07.219Z"
      },
      {
        "duration": 6,
        "start_time": "2023-02-26T07:27:23.882Z"
      },
      {
        "duration": 11,
        "start_time": "2023-02-26T07:32:00.290Z"
      },
      {
        "duration": 72,
        "start_time": "2023-02-26T07:33:42.200Z"
      },
      {
        "duration": 7,
        "start_time": "2023-02-26T07:33:46.632Z"
      },
      {
        "duration": 5,
        "start_time": "2023-02-26T07:34:01.609Z"
      },
      {
        "duration": 5,
        "start_time": "2023-02-26T07:34:13.270Z"
      },
      {
        "duration": 4,
        "start_time": "2023-02-26T07:35:17.014Z"
      },
      {
        "duration": 7,
        "start_time": "2023-02-26T07:38:30.575Z"
      },
      {
        "duration": 6,
        "start_time": "2023-02-26T07:38:34.880Z"
      },
      {
        "duration": 3,
        "start_time": "2023-02-26T07:38:38.368Z"
      },
      {
        "duration": 756,
        "start_time": "2023-02-26T07:38:41.404Z"
      },
      {
        "duration": 12,
        "start_time": "2023-02-26T07:38:45.895Z"
      },
      {
        "duration": 6,
        "start_time": "2023-02-26T07:38:49.034Z"
      },
      {
        "duration": 11,
        "start_time": "2023-02-26T07:38:52.315Z"
      },
      {
        "duration": 66,
        "start_time": "2023-02-26T07:39:18.807Z"
      },
      {
        "duration": 11,
        "start_time": "2023-02-26T07:40:19.490Z"
      },
      {
        "duration": 13,
        "start_time": "2023-02-26T07:40:42.726Z"
      },
      {
        "duration": 12,
        "start_time": "2023-02-26T07:41:20.567Z"
      },
      {
        "duration": 23,
        "start_time": "2023-02-26T07:41:47.480Z"
      },
      {
        "duration": 18,
        "start_time": "2023-02-26T07:41:49.507Z"
      },
      {
        "duration": 14,
        "start_time": "2023-02-26T07:41:59.403Z"
      },
      {
        "duration": 21,
        "start_time": "2023-02-26T07:42:04.442Z"
      },
      {
        "duration": 17,
        "start_time": "2023-02-26T07:42:12.437Z"
      },
      {
        "duration": 0,
        "start_time": "2023-02-26T07:43:52.137Z"
      },
      {
        "duration": 20,
        "start_time": "2023-02-26T07:43:59.547Z"
      },
      {
        "duration": 17,
        "start_time": "2023-02-26T07:44:07.083Z"
      },
      {
        "duration": 18,
        "start_time": "2023-02-26T07:44:12.548Z"
      },
      {
        "duration": 3,
        "start_time": "2023-02-26T07:44:19.979Z"
      },
      {
        "duration": 874,
        "start_time": "2023-02-26T07:44:20.735Z"
      },
      {
        "duration": 13,
        "start_time": "2023-02-26T07:44:24.438Z"
      },
      {
        "duration": 7,
        "start_time": "2023-02-26T07:44:28.682Z"
      },
      {
        "duration": 0,
        "start_time": "2023-02-26T07:44:37.897Z"
      },
      {
        "duration": 21,
        "start_time": "2023-02-26T07:44:49.925Z"
      },
      {
        "duration": 21,
        "start_time": "2023-02-26T07:47:11.828Z"
      },
      {
        "duration": 23,
        "start_time": "2023-02-26T07:47:52.748Z"
      },
      {
        "duration": 3,
        "start_time": "2023-02-26T07:48:32.379Z"
      },
      {
        "duration": 805,
        "start_time": "2023-02-26T07:48:33.026Z"
      },
      {
        "duration": 12,
        "start_time": "2023-02-26T07:48:35.140Z"
      },
      {
        "duration": 6,
        "start_time": "2023-02-26T07:48:37.391Z"
      },
      {
        "duration": 20,
        "start_time": "2023-02-26T07:48:41.286Z"
      },
      {
        "duration": 20,
        "start_time": "2023-02-26T07:49:52.318Z"
      },
      {
        "duration": 22,
        "start_time": "2023-02-26T07:50:26.589Z"
      },
      {
        "duration": 16,
        "start_time": "2023-02-26T07:51:12.386Z"
      },
      {
        "duration": 11,
        "start_time": "2023-02-26T07:51:14.911Z"
      },
      {
        "duration": 11,
        "start_time": "2023-02-26T07:51:41.192Z"
      },
      {
        "duration": 11,
        "start_time": "2023-02-26T07:51:43.817Z"
      },
      {
        "duration": 11,
        "start_time": "2023-02-26T07:53:06.838Z"
      },
      {
        "duration": 11,
        "start_time": "2023-02-26T07:53:10.781Z"
      },
      {
        "duration": 13,
        "start_time": "2023-02-26T07:53:15.485Z"
      },
      {
        "duration": 3,
        "start_time": "2023-02-26T07:53:26.819Z"
      },
      {
        "duration": 847,
        "start_time": "2023-02-26T07:53:28.168Z"
      },
      {
        "duration": 12,
        "start_time": "2023-02-26T07:53:33.752Z"
      },
      {
        "duration": 7,
        "start_time": "2023-02-26T07:53:36.083Z"
      },
      {
        "duration": 26,
        "start_time": "2023-02-26T07:53:40.440Z"
      },
      {
        "duration": 22,
        "start_time": "2023-02-26T07:53:59.051Z"
      },
      {
        "duration": 20,
        "start_time": "2023-02-26T07:54:49.185Z"
      },
      {
        "duration": 19,
        "start_time": "2023-02-26T07:54:59.987Z"
      },
      {
        "duration": 11,
        "start_time": "2023-02-26T07:55:40.133Z"
      },
      {
        "duration": 11,
        "start_time": "2023-02-26T07:58:46.145Z"
      },
      {
        "duration": 9,
        "start_time": "2023-02-26T07:58:52.422Z"
      },
      {
        "duration": 3,
        "start_time": "2023-02-26T07:58:59.668Z"
      },
      {
        "duration": 914,
        "start_time": "2023-02-26T07:59:00.352Z"
      },
      {
        "duration": 12,
        "start_time": "2023-02-26T07:59:02.299Z"
      },
      {
        "duration": 6,
        "start_time": "2023-02-26T07:59:15.645Z"
      },
      {
        "duration": 12,
        "start_time": "2023-02-26T07:59:19.205Z"
      },
      {
        "duration": 7,
        "start_time": "2023-02-26T07:59:23.878Z"
      },
      {
        "duration": 3,
        "start_time": "2023-02-26T07:59:38.243Z"
      },
      {
        "duration": 765,
        "start_time": "2023-02-26T07:59:39.066Z"
      },
      {
        "duration": 12,
        "start_time": "2023-02-26T07:59:41.687Z"
      },
      {
        "duration": 6,
        "start_time": "2023-02-26T07:59:45.751Z"
      },
      {
        "duration": 7,
        "start_time": "2023-02-26T07:59:49.013Z"
      },
      {
        "duration": 6,
        "start_time": "2023-02-26T08:00:02.074Z"
      },
      {
        "duration": 11,
        "start_time": "2023-02-26T08:01:07.879Z"
      },
      {
        "duration": 14,
        "start_time": "2023-02-26T08:03:41.808Z"
      },
      {
        "duration": 35,
        "start_time": "2023-02-26T08:03:46.477Z"
      },
      {
        "duration": 11,
        "start_time": "2023-02-26T08:03:49.819Z"
      },
      {
        "duration": 11,
        "start_time": "2023-02-26T08:03:54.896Z"
      },
      {
        "duration": 8,
        "start_time": "2023-02-26T08:04:23.127Z"
      },
      {
        "duration": 9,
        "start_time": "2023-02-26T08:05:34.071Z"
      },
      {
        "duration": 10,
        "start_time": "2023-02-26T08:06:25.015Z"
      },
      {
        "duration": 78,
        "start_time": "2023-02-26T08:10:01.455Z"
      },
      {
        "duration": 11,
        "start_time": "2023-02-26T08:10:05.372Z"
      },
      {
        "duration": 3,
        "start_time": "2023-02-26T08:10:38.784Z"
      },
      {
        "duration": 896,
        "start_time": "2023-02-26T08:10:41.430Z"
      },
      {
        "duration": 12,
        "start_time": "2023-02-26T08:10:44.409Z"
      },
      {
        "duration": 6,
        "start_time": "2023-02-26T08:10:47.806Z"
      },
      {
        "duration": 20,
        "start_time": "2023-02-26T08:10:52.705Z"
      },
      {
        "duration": 10,
        "start_time": "2023-02-26T08:10:59.872Z"
      },
      {
        "duration": 10,
        "start_time": "2023-02-26T08:12:34.922Z"
      },
      {
        "duration": 12,
        "start_time": "2023-02-26T08:12:37.257Z"
      },
      {
        "duration": 11,
        "start_time": "2023-02-26T08:12:40.838Z"
      },
      {
        "duration": 3,
        "start_time": "2023-02-26T08:12:43.691Z"
      },
      {
        "duration": 827,
        "start_time": "2023-02-26T08:12:44.998Z"
      },
      {
        "duration": 12,
        "start_time": "2023-02-26T08:12:49.876Z"
      },
      {
        "duration": 6,
        "start_time": "2023-02-26T08:12:51.599Z"
      },
      {
        "duration": 37,
        "start_time": "2023-02-26T08:12:53.006Z"
      },
      {
        "duration": 24,
        "start_time": "2023-02-26T08:13:03.426Z"
      },
      {
        "duration": 17,
        "start_time": "2023-02-26T08:13:10.314Z"
      },
      {
        "duration": 11,
        "start_time": "2023-02-26T08:14:33.205Z"
      },
      {
        "duration": 15,
        "start_time": "2023-02-26T08:14:36.228Z"
      },
      {
        "duration": 14,
        "start_time": "2023-02-26T08:14:36.837Z"
      },
      {
        "duration": 9,
        "start_time": "2023-02-26T08:14:39.873Z"
      },
      {
        "duration": 10,
        "start_time": "2023-02-26T08:14:41.772Z"
      },
      {
        "duration": 11,
        "start_time": "2023-02-26T08:14:51.738Z"
      },
      {
        "duration": 10,
        "start_time": "2023-02-26T08:14:59.649Z"
      },
      {
        "duration": 8,
        "start_time": "2023-02-26T08:17:13.234Z"
      },
      {
        "duration": 11,
        "start_time": "2023-02-26T08:18:34.769Z"
      },
      {
        "duration": 10,
        "start_time": "2023-02-26T08:20:24.015Z"
      },
      {
        "duration": 9,
        "start_time": "2023-02-26T08:21:18.888Z"
      },
      {
        "duration": 5,
        "start_time": "2023-02-26T08:22:11.431Z"
      },
      {
        "duration": 5,
        "start_time": "2023-02-26T08:23:12.237Z"
      },
      {
        "duration": 9,
        "start_time": "2023-02-26T08:23:37.669Z"
      },
      {
        "duration": 7,
        "start_time": "2023-02-26T08:27:15.533Z"
      },
      {
        "duration": 7,
        "start_time": "2023-02-26T08:27:52.811Z"
      },
      {
        "duration": 10,
        "start_time": "2023-02-26T08:29:03.971Z"
      },
      {
        "duration": 7,
        "start_time": "2023-02-26T08:29:09.073Z"
      },
      {
        "duration": 8,
        "start_time": "2023-02-26T08:32:21.956Z"
      },
      {
        "duration": 295,
        "start_time": "2023-02-26T08:33:07.389Z"
      },
      {
        "duration": 7,
        "start_time": "2023-02-26T08:35:39.131Z"
      },
      {
        "duration": 6,
        "start_time": "2023-02-26T08:35:51.493Z"
      },
      {
        "duration": 5,
        "start_time": "2023-02-26T08:36:02.073Z"
      },
      {
        "duration": 5,
        "start_time": "2023-02-26T08:36:05.479Z"
      },
      {
        "duration": 304,
        "start_time": "2023-02-26T08:45:28.613Z"
      },
      {
        "duration": 169,
        "start_time": "2023-02-26T08:49:51.792Z"
      },
      {
        "duration": 162,
        "start_time": "2023-02-26T08:50:01.550Z"
      },
      {
        "duration": 73,
        "start_time": "2023-02-26T08:50:44.617Z"
      },
      {
        "duration": 7,
        "start_time": "2023-02-26T08:50:48.722Z"
      },
      {
        "duration": 7,
        "start_time": "2023-02-26T08:50:55.784Z"
      },
      {
        "duration": 194,
        "start_time": "2023-02-26T08:51:23.419Z"
      },
      {
        "duration": 156,
        "start_time": "2023-02-26T08:52:16.050Z"
      },
      {
        "duration": 157,
        "start_time": "2023-02-26T08:52:26.569Z"
      },
      {
        "duration": 205,
        "start_time": "2023-02-26T08:52:37.400Z"
      },
      {
        "duration": 288,
        "start_time": "2023-02-26T08:53:27.318Z"
      },
      {
        "duration": 404,
        "start_time": "2023-02-26T08:56:49.957Z"
      },
      {
        "duration": 288,
        "start_time": "2023-02-26T08:57:01.363Z"
      },
      {
        "duration": 267,
        "start_time": "2023-02-26T08:57:22.154Z"
      },
      {
        "duration": 7,
        "start_time": "2023-02-26T09:19:37.326Z"
      },
      {
        "duration": 9,
        "start_time": "2023-02-26T09:20:07.650Z"
      },
      {
        "duration": 9,
        "start_time": "2023-02-26T09:20:17.087Z"
      },
      {
        "duration": 25,
        "start_time": "2023-02-26T09:20:25.448Z"
      },
      {
        "duration": 190,
        "start_time": "2023-02-26T09:29:04.392Z"
      },
      {
        "duration": 208,
        "start_time": "2023-02-26T09:29:22.051Z"
      },
      {
        "duration": 212,
        "start_time": "2023-02-26T09:29:48.119Z"
      },
      {
        "duration": 201,
        "start_time": "2023-02-26T09:29:55.315Z"
      },
      {
        "duration": 223,
        "start_time": "2023-02-26T09:30:06.646Z"
      },
      {
        "duration": 321,
        "start_time": "2023-02-26T09:37:07.676Z"
      },
      {
        "duration": 296,
        "start_time": "2023-02-26T09:37:21.752Z"
      },
      {
        "duration": 295,
        "start_time": "2023-02-26T09:40:12.841Z"
      },
      {
        "duration": 297,
        "start_time": "2023-02-26T09:40:43.472Z"
      },
      {
        "duration": 289,
        "start_time": "2023-02-26T09:41:18.468Z"
      },
      {
        "duration": 300,
        "start_time": "2023-02-26T09:41:25.636Z"
      },
      {
        "duration": 310,
        "start_time": "2023-02-26T09:41:36.088Z"
      },
      {
        "duration": 65,
        "start_time": "2023-02-26T09:44:52.555Z"
      },
      {
        "duration": 94,
        "start_time": "2023-02-26T09:45:20.153Z"
      },
      {
        "duration": 94,
        "start_time": "2023-02-26T09:45:27.172Z"
      },
      {
        "duration": 73,
        "start_time": "2023-02-26T09:45:49.018Z"
      },
      {
        "duration": 78,
        "start_time": "2023-02-26T09:45:58.461Z"
      },
      {
        "duration": 84,
        "start_time": "2023-02-26T09:46:30.648Z"
      },
      {
        "duration": 80,
        "start_time": "2023-02-26T09:46:41.261Z"
      },
      {
        "duration": 93,
        "start_time": "2023-02-26T09:46:59.775Z"
      },
      {
        "duration": 92,
        "start_time": "2023-02-26T09:47:09.133Z"
      },
      {
        "duration": 8,
        "start_time": "2023-02-26T09:47:30.951Z"
      },
      {
        "duration": 90,
        "start_time": "2023-02-26T09:55:14.370Z"
      },
      {
        "duration": 318,
        "start_time": "2023-02-26T09:56:21.112Z"
      },
      {
        "duration": 304,
        "start_time": "2023-02-26T09:56:48.090Z"
      },
      {
        "duration": 82,
        "start_time": "2023-02-26T09:58:23.612Z"
      },
      {
        "duration": 72,
        "start_time": "2023-02-26T09:59:18.967Z"
      },
      {
        "duration": 285,
        "start_time": "2023-02-26T09:59:33.421Z"
      },
      {
        "duration": 76,
        "start_time": "2023-02-26T10:00:38.440Z"
      },
      {
        "duration": 309,
        "start_time": "2023-02-26T10:00:44.671Z"
      },
      {
        "duration": 268,
        "start_time": "2023-02-26T10:07:22.711Z"
      },
      {
        "duration": 284,
        "start_time": "2023-02-26T10:08:09.534Z"
      },
      {
        "duration": 307,
        "start_time": "2023-02-26T10:08:25.766Z"
      },
      {
        "duration": 296,
        "start_time": "2023-02-26T10:08:44.410Z"
      },
      {
        "duration": 299,
        "start_time": "2023-02-26T10:08:55.115Z"
      },
      {
        "duration": 460,
        "start_time": "2023-02-26T10:09:06.164Z"
      },
      {
        "duration": 276,
        "start_time": "2023-02-26T10:09:26.485Z"
      },
      {
        "duration": 267,
        "start_time": "2023-02-26T10:09:37.960Z"
      },
      {
        "duration": 308,
        "start_time": "2023-02-26T10:09:51.279Z"
      },
      {
        "duration": 296,
        "start_time": "2023-02-26T10:10:03.765Z"
      },
      {
        "duration": 11,
        "start_time": "2023-02-26T10:19:30.435Z"
      },
      {
        "duration": 13,
        "start_time": "2023-02-26T10:22:31.477Z"
      },
      {
        "duration": 13,
        "start_time": "2023-02-26T10:24:03.628Z"
      },
      {
        "duration": 24,
        "start_time": "2023-02-26T10:26:43.147Z"
      },
      {
        "duration": 21,
        "start_time": "2023-02-26T10:27:08.193Z"
      },
      {
        "duration": 68,
        "start_time": "2023-02-26T10:27:57.535Z"
      },
      {
        "duration": 94,
        "start_time": "2023-02-26T10:28:20.233Z"
      },
      {
        "duration": 76,
        "start_time": "2023-02-26T10:28:27.271Z"
      },
      {
        "duration": 84,
        "start_time": "2023-02-26T10:28:39.404Z"
      },
      {
        "duration": 74,
        "start_time": "2023-02-26T10:28:54.440Z"
      },
      {
        "duration": 96,
        "start_time": "2023-02-26T10:29:00.416Z"
      },
      {
        "duration": 3,
        "start_time": "2023-02-26T10:29:05.052Z"
      },
      {
        "duration": 797,
        "start_time": "2023-02-26T10:29:05.525Z"
      },
      {
        "duration": 12,
        "start_time": "2023-02-26T10:29:06.324Z"
      },
      {
        "duration": 6,
        "start_time": "2023-02-26T10:29:06.470Z"
      },
      {
        "duration": 21,
        "start_time": "2023-02-26T10:29:06.847Z"
      },
      {
        "duration": 8,
        "start_time": "2023-02-26T10:29:07.332Z"
      },
      {
        "duration": 8,
        "start_time": "2023-02-26T10:29:07.846Z"
      },
      {
        "duration": 297,
        "start_time": "2023-02-26T10:29:09.790Z"
      },
      {
        "duration": 227,
        "start_time": "2023-02-26T10:29:10.461Z"
      },
      {
        "duration": 254,
        "start_time": "2023-02-26T10:29:10.838Z"
      },
      {
        "duration": 221,
        "start_time": "2023-02-26T10:29:11.391Z"
      },
      {
        "duration": 287,
        "start_time": "2023-02-26T10:29:12.116Z"
      },
      {
        "duration": 284,
        "start_time": "2023-02-26T10:29:12.756Z"
      },
      {
        "duration": 7,
        "start_time": "2023-02-26T10:29:14.570Z"
      },
      {
        "duration": 83,
        "start_time": "2023-02-26T10:29:20.175Z"
      },
      {
        "duration": 75,
        "start_time": "2023-02-26T10:29:30.953Z"
      },
      {
        "duration": 75,
        "start_time": "2023-02-26T10:29:51.705Z"
      },
      {
        "duration": 21,
        "start_time": "2023-02-26T10:30:02.508Z"
      },
      {
        "duration": 21,
        "start_time": "2023-02-26T10:30:17.934Z"
      },
      {
        "duration": 25,
        "start_time": "2023-02-26T10:31:38.572Z"
      },
      {
        "duration": 25,
        "start_time": "2023-02-26T10:32:05.419Z"
      },
      {
        "duration": 22,
        "start_time": "2023-02-26T10:33:24.671Z"
      },
      {
        "duration": 18,
        "start_time": "2023-02-26T10:33:38.518Z"
      },
      {
        "duration": 13,
        "start_time": "2023-02-26T10:33:43.765Z"
      },
      {
        "duration": 13,
        "start_time": "2023-02-26T10:41:31.934Z"
      },
      {
        "duration": 11,
        "start_time": "2023-02-26T10:41:45.614Z"
      },
      {
        "duration": 12,
        "start_time": "2023-02-26T10:42:26.942Z"
      },
      {
        "duration": 20,
        "start_time": "2023-02-26T10:43:19.691Z"
      },
      {
        "duration": 20,
        "start_time": "2023-02-26T10:44:41.124Z"
      },
      {
        "duration": 13,
        "start_time": "2023-02-26T10:45:10.516Z"
      },
      {
        "duration": 12,
        "start_time": "2023-02-26T10:46:18.373Z"
      },
      {
        "duration": 16,
        "start_time": "2023-02-26T10:47:01.987Z"
      },
      {
        "duration": 12,
        "start_time": "2023-02-26T10:47:14.729Z"
      },
      {
        "duration": 14,
        "start_time": "2023-02-26T10:48:46.202Z"
      },
      {
        "duration": 14,
        "start_time": "2023-02-26T10:49:40.167Z"
      },
      {
        "duration": 15,
        "start_time": "2023-02-26T10:49:51.012Z"
      },
      {
        "duration": 22,
        "start_time": "2023-02-26T10:50:03.216Z"
      },
      {
        "duration": 34,
        "start_time": "2023-02-26T10:51:04.666Z"
      },
      {
        "duration": 28,
        "start_time": "2023-02-26T10:51:23.293Z"
      },
      {
        "duration": 42,
        "start_time": "2023-02-26T10:52:17.213Z"
      },
      {
        "duration": 26,
        "start_time": "2023-02-26T10:52:31.918Z"
      },
      {
        "duration": 27,
        "start_time": "2023-02-26T10:55:00.724Z"
      },
      {
        "duration": 30,
        "start_time": "2023-02-26T10:58:13.178Z"
      },
      {
        "duration": 79,
        "start_time": "2023-02-26T10:59:21.013Z"
      },
      {
        "duration": 80,
        "start_time": "2023-02-26T10:59:27.173Z"
      },
      {
        "duration": 28,
        "start_time": "2023-02-26T10:59:41.388Z"
      },
      {
        "duration": 22,
        "start_time": "2023-02-26T10:59:57.152Z"
      },
      {
        "duration": 20,
        "start_time": "2023-02-26T11:00:06.834Z"
      },
      {
        "duration": 19,
        "start_time": "2023-02-26T11:36:34.021Z"
      },
      {
        "duration": 99,
        "start_time": "2023-02-26T11:45:05.160Z"
      },
      {
        "duration": 82,
        "start_time": "2023-02-26T11:45:09.742Z"
      },
      {
        "duration": 21,
        "start_time": "2023-02-26T11:45:23.094Z"
      },
      {
        "duration": 70,
        "start_time": "2023-02-26T11:46:07.954Z"
      },
      {
        "duration": 72,
        "start_time": "2023-02-26T11:46:45.632Z"
      },
      {
        "duration": 24,
        "start_time": "2023-02-26T11:46:50.191Z"
      },
      {
        "duration": 16,
        "start_time": "2023-02-26T11:47:04.426Z"
      },
      {
        "duration": 21,
        "start_time": "2023-02-26T11:55:09.849Z"
      },
      {
        "duration": 25,
        "start_time": "2023-02-26T11:55:21.697Z"
      },
      {
        "duration": 74,
        "start_time": "2023-02-26T11:56:05.621Z"
      },
      {
        "duration": 10,
        "start_time": "2023-02-26T12:07:51.119Z"
      },
      {
        "duration": 8,
        "start_time": "2023-02-26T12:08:07.883Z"
      },
      {
        "duration": 10,
        "start_time": "2023-02-26T12:08:29.302Z"
      },
      {
        "duration": 8,
        "start_time": "2023-02-26T12:08:31.429Z"
      },
      {
        "duration": 10,
        "start_time": "2023-02-26T12:08:52.178Z"
      },
      {
        "duration": 9,
        "start_time": "2023-02-26T12:08:55.570Z"
      },
      {
        "duration": 8,
        "start_time": "2023-02-26T12:09:36.540Z"
      },
      {
        "duration": 14,
        "start_time": "2023-02-26T12:09:47.597Z"
      },
      {
        "duration": 16,
        "start_time": "2023-02-26T12:10:02.702Z"
      },
      {
        "duration": 10,
        "start_time": "2023-02-26T12:11:12.753Z"
      },
      {
        "duration": 8,
        "start_time": "2023-02-26T12:11:55.488Z"
      },
      {
        "duration": 8,
        "start_time": "2023-02-26T12:12:01.034Z"
      },
      {
        "duration": 8,
        "start_time": "2023-02-26T12:16:08.276Z"
      },
      {
        "duration": 8,
        "start_time": "2023-02-26T12:49:13.331Z"
      },
      {
        "duration": 9,
        "start_time": "2023-02-26T12:49:19.857Z"
      },
      {
        "duration": 8,
        "start_time": "2023-02-26T12:49:47.672Z"
      },
      {
        "duration": 9,
        "start_time": "2023-02-26T12:55:24.393Z"
      },
      {
        "duration": 9,
        "start_time": "2023-02-26T12:55:31.422Z"
      },
      {
        "duration": 8,
        "start_time": "2023-02-26T12:55:37.091Z"
      },
      {
        "duration": 8,
        "start_time": "2023-02-26T12:55:42.187Z"
      },
      {
        "duration": 8,
        "start_time": "2023-02-26T13:00:50.189Z"
      },
      {
        "duration": 7,
        "start_time": "2023-02-26T13:01:27.243Z"
      },
      {
        "duration": 8,
        "start_time": "2023-02-26T13:01:44.003Z"
      },
      {
        "duration": 8,
        "start_time": "2023-02-26T13:01:50.361Z"
      },
      {
        "duration": 3,
        "start_time": "2023-02-26T13:02:02.437Z"
      },
      {
        "duration": 7,
        "start_time": "2023-02-26T13:02:49.722Z"
      },
      {
        "duration": 6,
        "start_time": "2023-02-26T13:02:56.533Z"
      },
      {
        "duration": 6,
        "start_time": "2023-02-26T13:03:14.415Z"
      },
      {
        "duration": 2,
        "start_time": "2023-02-26T13:03:22.484Z"
      },
      {
        "duration": 6,
        "start_time": "2023-02-26T13:03:27.515Z"
      },
      {
        "duration": 6,
        "start_time": "2023-02-26T13:04:52.904Z"
      },
      {
        "duration": 6,
        "start_time": "2023-02-26T13:05:06.557Z"
      },
      {
        "duration": 8,
        "start_time": "2023-02-26T13:05:35.102Z"
      },
      {
        "duration": 7,
        "start_time": "2023-02-26T13:06:29.279Z"
      },
      {
        "duration": 5,
        "start_time": "2023-02-26T13:06:39.777Z"
      },
      {
        "duration": 8,
        "start_time": "2023-02-26T13:12:06.622Z"
      },
      {
        "duration": 9,
        "start_time": "2023-02-26T13:13:26.109Z"
      },
      {
        "duration": 9,
        "start_time": "2023-02-26T13:14:37.075Z"
      },
      {
        "duration": 45,
        "start_time": "2023-02-26T17:15:58.243Z"
      },
      {
        "duration": 1316,
        "start_time": "2023-02-26T17:16:59.823Z"
      },
      {
        "duration": 1027,
        "start_time": "2023-02-26T17:17:01.142Z"
      },
      {
        "duration": 14,
        "start_time": "2023-02-26T17:17:03.098Z"
      },
      {
        "duration": 7,
        "start_time": "2023-02-26T17:17:04.887Z"
      },
      {
        "duration": 21,
        "start_time": "2023-02-26T17:17:05.632Z"
      },
      {
        "duration": 7,
        "start_time": "2023-02-26T17:17:07.079Z"
      },
      {
        "duration": 8,
        "start_time": "2023-02-26T17:17:09.782Z"
      },
      {
        "duration": 296,
        "start_time": "2023-02-26T17:17:14.540Z"
      },
      {
        "duration": 207,
        "start_time": "2023-02-26T17:17:17.768Z"
      },
      {
        "duration": 267,
        "start_time": "2023-02-26T17:17:21.872Z"
      },
      {
        "duration": 277,
        "start_time": "2023-02-26T17:18:02.841Z"
      },
      {
        "duration": 305,
        "start_time": "2023-02-26T17:18:06.900Z"
      },
      {
        "duration": 267,
        "start_time": "2023-02-26T17:18:08.551Z"
      },
      {
        "duration": 7,
        "start_time": "2023-02-26T17:18:12.318Z"
      },
      {
        "duration": 7,
        "start_time": "2023-02-26T17:18:31.305Z"
      },
      {
        "duration": 8,
        "start_time": "2023-02-26T17:19:01.985Z"
      },
      {
        "duration": 53,
        "start_time": "2023-02-26T17:24:56.064Z"
      },
      {
        "duration": 248,
        "start_time": "2023-02-26T17:25:02.633Z"
      },
      {
        "duration": 248,
        "start_time": "2023-02-26T17:25:36.649Z"
      },
      {
        "duration": 9,
        "start_time": "2023-02-26T17:27:39.293Z"
      },
      {
        "duration": 228,
        "start_time": "2023-02-26T17:28:45.564Z"
      },
      {
        "duration": 279,
        "start_time": "2023-02-26T17:28:48.387Z"
      },
      {
        "duration": 238,
        "start_time": "2023-02-26T17:28:51.451Z"
      },
      {
        "duration": 8,
        "start_time": "2023-02-26T17:30:29.995Z"
      },
      {
        "duration": 8,
        "start_time": "2023-02-26T17:30:47.847Z"
      },
      {
        "duration": 8,
        "start_time": "2023-02-26T17:31:03.155Z"
      },
      {
        "duration": 4,
        "start_time": "2023-02-26T17:31:13.922Z"
      },
      {
        "duration": 892,
        "start_time": "2023-02-26T17:31:14.608Z"
      },
      {
        "duration": 13,
        "start_time": "2023-02-26T17:31:17.024Z"
      },
      {
        "duration": 6,
        "start_time": "2023-02-26T17:31:19.211Z"
      },
      {
        "duration": 21,
        "start_time": "2023-02-26T17:31:20.377Z"
      },
      {
        "duration": 7,
        "start_time": "2023-02-26T17:31:22.033Z"
      },
      {
        "duration": 9,
        "start_time": "2023-02-26T17:31:23.111Z"
      },
      {
        "duration": 316,
        "start_time": "2023-02-26T17:31:26.133Z"
      },
      {
        "duration": 206,
        "start_time": "2023-02-26T17:31:42.637Z"
      },
      {
        "duration": 263,
        "start_time": "2023-02-26T17:31:53.897Z"
      },
      {
        "duration": 259,
        "start_time": "2023-02-26T17:32:20.175Z"
      },
      {
        "duration": 248,
        "start_time": "2023-02-26T17:32:32.130Z"
      },
      {
        "duration": 256,
        "start_time": "2023-02-26T17:33:52.074Z"
      },
      {
        "duration": 218,
        "start_time": "2023-02-26T17:34:03.450Z"
      },
      {
        "duration": 333,
        "start_time": "2023-02-26T17:37:27.004Z"
      },
      {
        "duration": 217,
        "start_time": "2023-02-26T17:37:37.313Z"
      },
      {
        "duration": 287,
        "start_time": "2023-02-26T17:39:14.048Z"
      },
      {
        "duration": 225,
        "start_time": "2023-02-26T17:40:11.763Z"
      },
      {
        "duration": 272,
        "start_time": "2023-02-26T17:40:20.263Z"
      },
      {
        "duration": 234,
        "start_time": "2023-02-26T17:40:31.117Z"
      },
      {
        "duration": 215,
        "start_time": "2023-02-26T17:40:38.114Z"
      },
      {
        "duration": 257,
        "start_time": "2023-02-26T17:43:18.674Z"
      },
      {
        "duration": 3,
        "start_time": "2023-02-26T17:43:25.109Z"
      },
      {
        "duration": 1047,
        "start_time": "2023-02-26T17:43:25.640Z"
      },
      {
        "duration": 12,
        "start_time": "2023-02-26T17:43:27.414Z"
      },
      {
        "duration": 7,
        "start_time": "2023-02-26T17:43:29.111Z"
      },
      {
        "duration": 19,
        "start_time": "2023-02-26T17:43:29.888Z"
      },
      {
        "duration": 7,
        "start_time": "2023-02-26T17:43:31.239Z"
      },
      {
        "duration": 7,
        "start_time": "2023-02-26T17:43:32.218Z"
      },
      {
        "duration": 301,
        "start_time": "2023-02-26T17:43:35.276Z"
      },
      {
        "duration": 207,
        "start_time": "2023-02-26T17:43:38.769Z"
      },
      {
        "duration": 261,
        "start_time": "2023-02-26T17:43:41.915Z"
      },
      {
        "duration": 228,
        "start_time": "2023-02-26T17:43:54.151Z"
      },
      {
        "duration": 306,
        "start_time": "2023-02-26T17:46:22.683Z"
      },
      {
        "duration": 260,
        "start_time": "2023-02-26T17:46:23.815Z"
      },
      {
        "duration": 9,
        "start_time": "2023-02-26T17:46:26.614Z"
      },
      {
        "duration": 7,
        "start_time": "2023-02-26T17:47:36.449Z"
      },
      {
        "duration": 7,
        "start_time": "2023-02-26T17:49:30.245Z"
      },
      {
        "duration": 6,
        "start_time": "2023-02-26T17:49:44.534Z"
      },
      {
        "duration": 8,
        "start_time": "2023-02-26T17:50:51.672Z"
      },
      {
        "duration": 7,
        "start_time": "2023-02-26T17:51:12.407Z"
      },
      {
        "duration": 6,
        "start_time": "2023-02-26T17:57:06.520Z"
      },
      {
        "duration": 10,
        "start_time": "2023-02-26T17:57:28.648Z"
      },
      {
        "duration": 6,
        "start_time": "2023-02-26T17:57:41.123Z"
      },
      {
        "duration": 8,
        "start_time": "2023-02-26T17:58:18.702Z"
      },
      {
        "duration": 9,
        "start_time": "2023-02-26T17:58:26.417Z"
      },
      {
        "duration": 9,
        "start_time": "2023-02-26T17:58:36.974Z"
      },
      {
        "duration": 9,
        "start_time": "2023-02-26T17:58:45.168Z"
      },
      {
        "duration": 9,
        "start_time": "2023-02-26T17:58:49.120Z"
      },
      {
        "duration": 21,
        "start_time": "2023-02-26T17:58:56.832Z"
      },
      {
        "duration": 5,
        "start_time": "2023-02-26T18:01:03.803Z"
      },
      {
        "duration": 48,
        "start_time": "2023-02-26T18:02:57.015Z"
      },
      {
        "duration": 37,
        "start_time": "2023-02-26T18:03:01.469Z"
      },
      {
        "duration": 8,
        "start_time": "2023-02-26T18:03:35.849Z"
      },
      {
        "duration": 7,
        "start_time": "2023-02-26T18:04:19.668Z"
      },
      {
        "duration": 6,
        "start_time": "2023-02-26T18:04:25.522Z"
      },
      {
        "duration": 9,
        "start_time": "2023-02-26T18:04:40.108Z"
      },
      {
        "duration": 10,
        "start_time": "2023-02-26T18:04:52.429Z"
      },
      {
        "duration": 10,
        "start_time": "2023-02-26T18:05:28.566Z"
      },
      {
        "duration": 13,
        "start_time": "2023-02-26T18:05:46.684Z"
      },
      {
        "duration": 14,
        "start_time": "2023-02-26T18:05:58.477Z"
      },
      {
        "duration": 19,
        "start_time": "2023-02-26T18:07:51.524Z"
      },
      {
        "duration": 19,
        "start_time": "2023-02-26T18:08:06.332Z"
      },
      {
        "duration": 21,
        "start_time": "2023-02-26T18:08:10.661Z"
      },
      {
        "duration": 14,
        "start_time": "2023-02-26T18:08:22.205Z"
      },
      {
        "duration": 14,
        "start_time": "2023-02-26T18:08:43.669Z"
      },
      {
        "duration": 14,
        "start_time": "2023-02-26T18:09:23.033Z"
      },
      {
        "duration": 16,
        "start_time": "2023-02-26T18:09:33.068Z"
      },
      {
        "duration": 16,
        "start_time": "2023-02-26T18:12:06.155Z"
      },
      {
        "duration": 13,
        "start_time": "2023-02-26T18:12:20.086Z"
      },
      {
        "duration": 12,
        "start_time": "2023-02-26T18:12:28.019Z"
      },
      {
        "duration": 15,
        "start_time": "2023-02-26T18:12:34.482Z"
      },
      {
        "duration": 15,
        "start_time": "2023-02-26T18:12:43.961Z"
      },
      {
        "duration": 13,
        "start_time": "2023-02-26T18:12:51.017Z"
      },
      {
        "duration": 17,
        "start_time": "2023-02-26T18:13:01.763Z"
      },
      {
        "duration": 13,
        "start_time": "2023-02-26T18:13:05.806Z"
      },
      {
        "duration": 12,
        "start_time": "2023-02-26T18:13:38.020Z"
      },
      {
        "duration": 157,
        "start_time": "2023-02-26T18:14:49.074Z"
      },
      {
        "duration": 18,
        "start_time": "2023-02-26T18:14:52.954Z"
      },
      {
        "duration": 16,
        "start_time": "2023-02-26T18:14:59.380Z"
      },
      {
        "duration": 13,
        "start_time": "2023-02-26T18:15:05.021Z"
      },
      {
        "duration": 14,
        "start_time": "2023-02-26T18:15:14.760Z"
      },
      {
        "duration": 14,
        "start_time": "2023-02-26T18:15:29.565Z"
      },
      {
        "duration": 6,
        "start_time": "2023-02-26T18:17:16.308Z"
      },
      {
        "duration": 4,
        "start_time": "2023-02-26T18:17:20.374Z"
      },
      {
        "duration": 36,
        "start_time": "2023-02-26T18:17:26.148Z"
      },
      {
        "duration": 15,
        "start_time": "2023-02-26T18:18:05.226Z"
      },
      {
        "duration": 20,
        "start_time": "2023-02-26T18:20:51.319Z"
      },
      {
        "duration": 20,
        "start_time": "2023-02-26T18:21:29.852Z"
      },
      {
        "duration": 21,
        "start_time": "2023-02-26T18:21:39.036Z"
      },
      {
        "duration": 28,
        "start_time": "2023-02-26T18:21:42.958Z"
      },
      {
        "duration": 18,
        "start_time": "2023-02-26T18:22:20.164Z"
      },
      {
        "duration": 23,
        "start_time": "2023-02-26T18:22:24.918Z"
      },
      {
        "duration": 27,
        "start_time": "2023-02-26T18:23:23.181Z"
      },
      {
        "duration": 24,
        "start_time": "2023-02-26T18:23:37.184Z"
      },
      {
        "duration": 57,
        "start_time": "2023-02-26T18:23:48.036Z"
      },
      {
        "duration": 58,
        "start_time": "2023-02-26T18:23:51.570Z"
      },
      {
        "duration": 54,
        "start_time": "2023-02-26T18:24:02.457Z"
      },
      {
        "duration": 23,
        "start_time": "2023-02-26T18:24:07.621Z"
      },
      {
        "duration": 28,
        "start_time": "2023-02-26T18:24:12.184Z"
      },
      {
        "duration": 22,
        "start_time": "2023-02-26T18:24:22.416Z"
      },
      {
        "duration": 8,
        "start_time": "2023-02-26T18:25:00.716Z"
      },
      {
        "duration": 8,
        "start_time": "2023-02-26T18:25:23.228Z"
      },
      {
        "duration": 9,
        "start_time": "2023-02-26T18:25:35.234Z"
      },
      {
        "duration": 230,
        "start_time": "2023-02-26T18:27:02.484Z"
      },
      {
        "duration": 21,
        "start_time": "2023-02-26T18:30:10.834Z"
      },
      {
        "duration": 14,
        "start_time": "2023-02-26T18:30:25.034Z"
      },
      {
        "duration": 31,
        "start_time": "2023-02-26T18:30:37.240Z"
      },
      {
        "duration": 19,
        "start_time": "2023-02-26T18:32:16.213Z"
      },
      {
        "duration": 13,
        "start_time": "2023-02-26T18:32:30.301Z"
      },
      {
        "duration": 45,
        "start_time": "2023-02-26T18:36:13.274Z"
      },
      {
        "duration": 46,
        "start_time": "2023-02-26T18:40:41.717Z"
      },
      {
        "duration": 49,
        "start_time": "2023-02-26T18:40:47.813Z"
      },
      {
        "duration": 59,
        "start_time": "2023-02-26T18:41:25.624Z"
      },
      {
        "duration": 50,
        "start_time": "2023-02-26T18:41:32.523Z"
      },
      {
        "duration": 14,
        "start_time": "2023-02-26T18:41:37.119Z"
      },
      {
        "duration": 20,
        "start_time": "2023-02-26T18:41:48.226Z"
      },
      {
        "duration": 17,
        "start_time": "2023-02-26T18:42:18.856Z"
      },
      {
        "duration": 16,
        "start_time": "2023-02-26T18:44:50.221Z"
      },
      {
        "duration": 15,
        "start_time": "2023-02-26T18:46:04.209Z"
      },
      {
        "duration": 335,
        "start_time": "2023-02-26T18:50:14.291Z"
      },
      {
        "duration": 236,
        "start_time": "2023-02-26T18:50:19.986Z"
      },
      {
        "duration": 260,
        "start_time": "2023-02-26T18:50:24.774Z"
      },
      {
        "duration": 10,
        "start_time": "2023-02-26T18:51:58.301Z"
      },
      {
        "duration": 21,
        "start_time": "2023-02-26T18:52:21.383Z"
      },
      {
        "duration": 18,
        "start_time": "2023-02-26T18:58:01.197Z"
      },
      {
        "duration": 7,
        "start_time": "2023-02-26T18:58:11.340Z"
      }
    ],
    "kernelspec": {
      "display_name": "Python 3 (ipykernel)",
      "language": "python",
      "name": "python3"
    },
    "language_info": {
      "codemirror_mode": {
        "name": "ipython",
        "version": 3
      },
      "file_extension": ".py",
      "mimetype": "text/x-python",
      "name": "python",
      "nbconvert_exporter": "python",
      "pygments_lexer": "ipython3",
      "version": "3.9.5"
    },
    "toc": {
      "base_numbering": 1,
      "nav_menu": {},
      "number_sections": true,
      "sideBar": true,
      "skip_h1_title": true,
      "title_cell": "Table of Contents",
      "title_sidebar": "Contents",
      "toc_cell": false,
      "toc_position": {},
      "toc_section_display": true,
      "toc_window_display": false
    },
    "colab": {
      "provenance": []
    }
  },
  "nbformat": 4,
  "nbformat_minor": 0
}