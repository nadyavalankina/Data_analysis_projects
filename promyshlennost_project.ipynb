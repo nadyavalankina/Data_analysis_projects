{
  "cells": [
    {
      "cell_type": "markdown",
      "metadata": {
        "toc": true,
        "id": "1-boyZPyfwfo"
      },
      "source": [
        "<h1>Содержание<span class=\"tocSkip\"></span></h1>\n",
        "<div class=\"toc\"><ul class=\"toc-item\"><li><span><a href=\"#Подготовка-данных\" data-toc-modified-id=\"Подготовка-данных-1\"><span class=\"toc-item-num\">1&nbsp;&nbsp;</span>Подготовка данных</a></span></li><li><span><a href=\"#Анализ-данных\" data-toc-modified-id=\"Анализ-данных-2\"><span class=\"toc-item-num\">2&nbsp;&nbsp;</span>Анализ данных</a></span></li><li><span><a href=\"#Модель\" data-toc-modified-id=\"Модель-3\"><span class=\"toc-item-num\">3&nbsp;&nbsp;</span>Модель</a></span></li><li><span><a href=\"#Чек-лист-готовности-проекта\" data-toc-modified-id=\"Чек-лист-готовности-проекта-4\"><span class=\"toc-item-num\">4&nbsp;&nbsp;</span>Чек-лист готовности проекта</a></span></li></ul></div>"
      ]
    },
    {
      "cell_type": "markdown",
      "metadata": {
        "id": "Z8QSPXaJfwfo"
      },
      "source": [
        "# Восстановление золота из руды"
      ]
    },
    {
      "cell_type": "markdown",
      "metadata": {
        "id": "qDlwRCLEfwfo"
      },
      "source": [
        "Подготовьте прототип модели машинного обучения для «Цифры». Компания разрабатывает решения для эффективной работы промышленных предприятий.\n",
        "\n",
        "Модель должна предсказать коэффициент восстановления золота из золотосодержащей руды. Используйте данные с параметрами добычи и очистки.\n",
        "\n",
        "Модель поможет оптимизировать производство, чтобы не запускать предприятие с убыточными характеристиками.\n",
        "\n",
        "Вам нужно:\n",
        "\n",
        "1. Подготовить данные;\n",
        "2. Провести исследовательский анализ данных;\n",
        "3. Построить и обучить модель.\n",
        "\n",
        "Чтобы выполнить проект, обращайтесь к библиотекам *pandas*, *matplotlib* и *sklearn.* Вам поможет их документация."
      ]
    },
    {
      "cell_type": "markdown",
      "metadata": {
        "id": "g3I93ukXfwfo"
      },
      "source": [
        "## Подготовка данных"
      ]
    },
    {
      "cell_type": "code",
      "execution_count": 1,
      "metadata": {
        "id": "vygn8zCHfwfo"
      },
      "outputs": [],
      "source": [
        "import pandas as pd\n",
        "import numpy as np\n",
        "import seaborn as sns\n",
        "import matplotlib.pyplot as plt\n",
        "import plotly.express as px\n",
        "import plotly.graph_objects as go\n",
        "from sklearn.dummy import DummyRegressor\n",
        "from sklearn.ensemble import RandomForestRegressor\n",
        "from sklearn.tree import DecisionTreeRegressor\n",
        "from sklearn.linear_model import LinearRegression\n",
        "from sklearn.metrics import  mean_absolute_error, make_scorer\n",
        "from sklearn.model_selection import cross_val_score\n",
        "from sklearn.preprocessing import StandardScaler\n",
        "from tqdm import tqdm"
      ]
    },
    {
      "cell_type": "markdown",
      "metadata": {
        "id": "VwoqZV5vfwfp"
      },
      "source": [
        "Импортируем все необходимые библиотеки в одном месте."
      ]
    },
    {
      "cell_type": "markdown",
      "metadata": {
        "id": "C-1R4AzIfwfp"
      },
      "source": [
        "Теперь откроем все три датасета и ознакомимся с ними при помощи команд head и info."
      ]
    },
    {
      "cell_type": "code",
      "execution_count": null,
      "metadata": {
        "scrolled": true,
        "id": "JhKDpSsifwfp",
        "outputId": "65a93b4e-3cc5-438b-a3f7-e090ccea3114"
      },
      "outputs": [
        {
          "data": {
            "text/html": [
              "<div>\n",
              "<style scoped>\n",
              "    .dataframe tbody tr th:only-of-type {\n",
              "        vertical-align: middle;\n",
              "    }\n",
              "\n",
              "    .dataframe tbody tr th {\n",
              "        vertical-align: top;\n",
              "    }\n",
              "\n",
              "    .dataframe thead th {\n",
              "        text-align: right;\n",
              "    }\n",
              "</style>\n",
              "<table border=\"1\" class=\"dataframe\">\n",
              "  <thead>\n",
              "    <tr style=\"text-align: right;\">\n",
              "      <th></th>\n",
              "      <th>rougher.input.feed_au</th>\n",
              "      <th>rougher.input.feed_ag</th>\n",
              "      <th>rougher.input.feed_pb</th>\n",
              "      <th>rougher.input.feed_sol</th>\n",
              "      <th>rougher.input.feed_rate</th>\n",
              "      <th>rougher.input.feed_size</th>\n",
              "      <th>rougher.input.floatbank10_sulfate</th>\n",
              "      <th>rougher.input.floatbank10_xanthate</th>\n",
              "      <th>rougher.state.floatbank10_a_air</th>\n",
              "      <th>rougher.state.floatbank10_a_level</th>\n",
              "      <th>...</th>\n",
              "      <th>secondary_cleaner.output.tail_sol</th>\n",
              "      <th>final.output.concentrate_au</th>\n",
              "      <th>final.output.concentrate_ag</th>\n",
              "      <th>final.output.concentrate_pb</th>\n",
              "      <th>final.output.concentrate_sol</th>\n",
              "      <th>final.output.recovery</th>\n",
              "      <th>final.output.tail_au</th>\n",
              "      <th>final.output.tail_ag</th>\n",
              "      <th>final.output.tail_pb</th>\n",
              "      <th>final.output.tail_sol</th>\n",
              "    </tr>\n",
              "    <tr>\n",
              "      <th>date</th>\n",
              "      <th></th>\n",
              "      <th></th>\n",
              "      <th></th>\n",
              "      <th></th>\n",
              "      <th></th>\n",
              "      <th></th>\n",
              "      <th></th>\n",
              "      <th></th>\n",
              "      <th></th>\n",
              "      <th></th>\n",
              "      <th></th>\n",
              "      <th></th>\n",
              "      <th></th>\n",
              "      <th></th>\n",
              "      <th></th>\n",
              "      <th></th>\n",
              "      <th></th>\n",
              "      <th></th>\n",
              "      <th></th>\n",
              "      <th></th>\n",
              "      <th></th>\n",
              "    </tr>\n",
              "  </thead>\n",
              "  <tbody>\n",
              "    <tr>\n",
              "      <th>2016-01-15 00:00:00</th>\n",
              "      <td>6.486150</td>\n",
              "      <td>6.100378</td>\n",
              "      <td>2.284912</td>\n",
              "      <td>36.808594</td>\n",
              "      <td>523.546326</td>\n",
              "      <td>55.486599</td>\n",
              "      <td>11.986616</td>\n",
              "      <td>6.007990</td>\n",
              "      <td>999.706909</td>\n",
              "      <td>-404.066986</td>\n",
              "      <td>...</td>\n",
              "      <td>8.764648</td>\n",
              "      <td>42.192020</td>\n",
              "      <td>6.055403</td>\n",
              "      <td>9.889648</td>\n",
              "      <td>5.507324</td>\n",
              "      <td>70.541216</td>\n",
              "      <td>2.143149</td>\n",
              "      <td>10.411962</td>\n",
              "      <td>0.895447</td>\n",
              "      <td>16.904297</td>\n",
              "    </tr>\n",
              "    <tr>\n",
              "      <th>2016-01-15 01:00:00</th>\n",
              "      <td>6.478583</td>\n",
              "      <td>6.161113</td>\n",
              "      <td>2.266033</td>\n",
              "      <td>35.753385</td>\n",
              "      <td>525.290581</td>\n",
              "      <td>57.278666</td>\n",
              "      <td>11.971193</td>\n",
              "      <td>6.005766</td>\n",
              "      <td>1000.286398</td>\n",
              "      <td>-400.065196</td>\n",
              "      <td>...</td>\n",
              "      <td>9.001494</td>\n",
              "      <td>42.701629</td>\n",
              "      <td>6.029369</td>\n",
              "      <td>9.968944</td>\n",
              "      <td>5.257781</td>\n",
              "      <td>69.266198</td>\n",
              "      <td>2.224930</td>\n",
              "      <td>10.462676</td>\n",
              "      <td>0.927452</td>\n",
              "      <td>16.634514</td>\n",
              "    </tr>\n",
              "    <tr>\n",
              "      <th>2016-01-15 02:00:00</th>\n",
              "      <td>6.362222</td>\n",
              "      <td>6.116455</td>\n",
              "      <td>2.159622</td>\n",
              "      <td>35.971630</td>\n",
              "      <td>530.026610</td>\n",
              "      <td>57.510649</td>\n",
              "      <td>11.920603</td>\n",
              "      <td>6.197377</td>\n",
              "      <td>999.719565</td>\n",
              "      <td>-400.074028</td>\n",
              "      <td>...</td>\n",
              "      <td>8.842896</td>\n",
              "      <td>42.657501</td>\n",
              "      <td>6.055926</td>\n",
              "      <td>10.213995</td>\n",
              "      <td>5.383759</td>\n",
              "      <td>68.116445</td>\n",
              "      <td>2.257889</td>\n",
              "      <td>10.507046</td>\n",
              "      <td>0.953716</td>\n",
              "      <td>16.208849</td>\n",
              "    </tr>\n",
              "    <tr>\n",
              "      <th>2016-01-15 03:00:00</th>\n",
              "      <td>6.118189</td>\n",
              "      <td>6.043309</td>\n",
              "      <td>2.037807</td>\n",
              "      <td>36.862241</td>\n",
              "      <td>542.590390</td>\n",
              "      <td>57.792734</td>\n",
              "      <td>11.630094</td>\n",
              "      <td>6.203177</td>\n",
              "      <td>999.814770</td>\n",
              "      <td>-400.200179</td>\n",
              "      <td>...</td>\n",
              "      <td>9.122857</td>\n",
              "      <td>42.689819</td>\n",
              "      <td>6.047977</td>\n",
              "      <td>9.977019</td>\n",
              "      <td>4.858634</td>\n",
              "      <td>68.347543</td>\n",
              "      <td>2.146849</td>\n",
              "      <td>10.422762</td>\n",
              "      <td>0.883763</td>\n",
              "      <td>16.532835</td>\n",
              "    </tr>\n",
              "    <tr>\n",
              "      <th>2016-01-15 04:00:00</th>\n",
              "      <td>5.663707</td>\n",
              "      <td>6.060915</td>\n",
              "      <td>1.786875</td>\n",
              "      <td>34.347666</td>\n",
              "      <td>540.531893</td>\n",
              "      <td>56.047189</td>\n",
              "      <td>10.957755</td>\n",
              "      <td>6.198826</td>\n",
              "      <td>999.678690</td>\n",
              "      <td>-399.752729</td>\n",
              "      <td>...</td>\n",
              "      <td>8.871028</td>\n",
              "      <td>42.774141</td>\n",
              "      <td>6.148599</td>\n",
              "      <td>10.142511</td>\n",
              "      <td>4.939416</td>\n",
              "      <td>66.927016</td>\n",
              "      <td>2.055292</td>\n",
              "      <td>10.360302</td>\n",
              "      <td>0.792826</td>\n",
              "      <td>16.525686</td>\n",
              "    </tr>\n",
              "  </tbody>\n",
              "</table>\n",
              "<p>5 rows × 86 columns</p>\n",
              "</div>"
            ],
            "text/plain": [
              "                     rougher.input.feed_au  rougher.input.feed_ag  \\\n",
              "date                                                                \n",
              "2016-01-15 00:00:00               6.486150               6.100378   \n",
              "2016-01-15 01:00:00               6.478583               6.161113   \n",
              "2016-01-15 02:00:00               6.362222               6.116455   \n",
              "2016-01-15 03:00:00               6.118189               6.043309   \n",
              "2016-01-15 04:00:00               5.663707               6.060915   \n",
              "\n",
              "                     rougher.input.feed_pb  rougher.input.feed_sol  \\\n",
              "date                                                                 \n",
              "2016-01-15 00:00:00               2.284912               36.808594   \n",
              "2016-01-15 01:00:00               2.266033               35.753385   \n",
              "2016-01-15 02:00:00               2.159622               35.971630   \n",
              "2016-01-15 03:00:00               2.037807               36.862241   \n",
              "2016-01-15 04:00:00               1.786875               34.347666   \n",
              "\n",
              "                     rougher.input.feed_rate  rougher.input.feed_size  \\\n",
              "date                                                                    \n",
              "2016-01-15 00:00:00               523.546326                55.486599   \n",
              "2016-01-15 01:00:00               525.290581                57.278666   \n",
              "2016-01-15 02:00:00               530.026610                57.510649   \n",
              "2016-01-15 03:00:00               542.590390                57.792734   \n",
              "2016-01-15 04:00:00               540.531893                56.047189   \n",
              "\n",
              "                     rougher.input.floatbank10_sulfate  \\\n",
              "date                                                     \n",
              "2016-01-15 00:00:00                          11.986616   \n",
              "2016-01-15 01:00:00                          11.971193   \n",
              "2016-01-15 02:00:00                          11.920603   \n",
              "2016-01-15 03:00:00                          11.630094   \n",
              "2016-01-15 04:00:00                          10.957755   \n",
              "\n",
              "                     rougher.input.floatbank10_xanthate  \\\n",
              "date                                                      \n",
              "2016-01-15 00:00:00                            6.007990   \n",
              "2016-01-15 01:00:00                            6.005766   \n",
              "2016-01-15 02:00:00                            6.197377   \n",
              "2016-01-15 03:00:00                            6.203177   \n",
              "2016-01-15 04:00:00                            6.198826   \n",
              "\n",
              "                     rougher.state.floatbank10_a_air  \\\n",
              "date                                                   \n",
              "2016-01-15 00:00:00                       999.706909   \n",
              "2016-01-15 01:00:00                      1000.286398   \n",
              "2016-01-15 02:00:00                       999.719565   \n",
              "2016-01-15 03:00:00                       999.814770   \n",
              "2016-01-15 04:00:00                       999.678690   \n",
              "\n",
              "                     rougher.state.floatbank10_a_level  ...  \\\n",
              "date                                                    ...   \n",
              "2016-01-15 00:00:00                        -404.066986  ...   \n",
              "2016-01-15 01:00:00                        -400.065196  ...   \n",
              "2016-01-15 02:00:00                        -400.074028  ...   \n",
              "2016-01-15 03:00:00                        -400.200179  ...   \n",
              "2016-01-15 04:00:00                        -399.752729  ...   \n",
              "\n",
              "                     secondary_cleaner.output.tail_sol  \\\n",
              "date                                                     \n",
              "2016-01-15 00:00:00                           8.764648   \n",
              "2016-01-15 01:00:00                           9.001494   \n",
              "2016-01-15 02:00:00                           8.842896   \n",
              "2016-01-15 03:00:00                           9.122857   \n",
              "2016-01-15 04:00:00                           8.871028   \n",
              "\n",
              "                     final.output.concentrate_au  final.output.concentrate_ag  \\\n",
              "date                                                                            \n",
              "2016-01-15 00:00:00                    42.192020                     6.055403   \n",
              "2016-01-15 01:00:00                    42.701629                     6.029369   \n",
              "2016-01-15 02:00:00                    42.657501                     6.055926   \n",
              "2016-01-15 03:00:00                    42.689819                     6.047977   \n",
              "2016-01-15 04:00:00                    42.774141                     6.148599   \n",
              "\n",
              "                     final.output.concentrate_pb  \\\n",
              "date                                               \n",
              "2016-01-15 00:00:00                     9.889648   \n",
              "2016-01-15 01:00:00                     9.968944   \n",
              "2016-01-15 02:00:00                    10.213995   \n",
              "2016-01-15 03:00:00                     9.977019   \n",
              "2016-01-15 04:00:00                    10.142511   \n",
              "\n",
              "                     final.output.concentrate_sol  final.output.recovery  \\\n",
              "date                                                                       \n",
              "2016-01-15 00:00:00                      5.507324              70.541216   \n",
              "2016-01-15 01:00:00                      5.257781              69.266198   \n",
              "2016-01-15 02:00:00                      5.383759              68.116445   \n",
              "2016-01-15 03:00:00                      4.858634              68.347543   \n",
              "2016-01-15 04:00:00                      4.939416              66.927016   \n",
              "\n",
              "                     final.output.tail_au  final.output.tail_ag  \\\n",
              "date                                                              \n",
              "2016-01-15 00:00:00              2.143149             10.411962   \n",
              "2016-01-15 01:00:00              2.224930             10.462676   \n",
              "2016-01-15 02:00:00              2.257889             10.507046   \n",
              "2016-01-15 03:00:00              2.146849             10.422762   \n",
              "2016-01-15 04:00:00              2.055292             10.360302   \n",
              "\n",
              "                     final.output.tail_pb  final.output.tail_sol  \n",
              "date                                                              \n",
              "2016-01-15 00:00:00              0.895447              16.904297  \n",
              "2016-01-15 01:00:00              0.927452              16.634514  \n",
              "2016-01-15 02:00:00              0.953716              16.208849  \n",
              "2016-01-15 03:00:00              0.883763              16.532835  \n",
              "2016-01-15 04:00:00              0.792826              16.525686  \n",
              "\n",
              "[5 rows x 86 columns]"
            ]
          },
          "metadata": {},
          "output_type": "display_data"
        },
        {
          "name": "stdout",
          "output_type": "stream",
          "text": [
            "<class 'pandas.core.frame.DataFrame'>\n",
            "Index: 19439 entries, 2016-01-15 00:00:00 to 2018-08-18 10:59:59\n",
            "Data columns (total 86 columns):\n",
            " #   Column                                              Non-Null Count  Dtype  \n",
            "---  ------                                              --------------  -----  \n",
            " 0   rougher.input.feed_au                               19439 non-null  float64\n",
            " 1   rougher.input.feed_ag                               19439 non-null  float64\n",
            " 2   rougher.input.feed_pb                               19339 non-null  float64\n",
            " 3   rougher.input.feed_sol                              19340 non-null  float64\n",
            " 4   rougher.input.feed_rate                             19428 non-null  float64\n",
            " 5   rougher.input.feed_size                             19294 non-null  float64\n",
            " 6   rougher.input.floatbank10_sulfate                   19405 non-null  float64\n",
            " 7   rougher.input.floatbank10_xanthate                  19431 non-null  float64\n",
            " 8   rougher.state.floatbank10_a_air                     19438 non-null  float64\n",
            " 9   rougher.state.floatbank10_a_level                   19438 non-null  float64\n",
            " 10  rougher.state.floatbank10_b_air                     19438 non-null  float64\n",
            " 11  rougher.state.floatbank10_b_level                   19438 non-null  float64\n",
            " 12  rougher.state.floatbank10_c_air                     19438 non-null  float64\n",
            " 13  rougher.state.floatbank10_c_level                   19438 non-null  float64\n",
            " 14  rougher.state.floatbank10_d_air                     19439 non-null  float64\n",
            " 15  rougher.state.floatbank10_d_level                   19439 non-null  float64\n",
            " 16  rougher.state.floatbank10_e_air                     19003 non-null  float64\n",
            " 17  rougher.state.floatbank10_e_level                   19439 non-null  float64\n",
            " 18  rougher.state.floatbank10_f_air                     19439 non-null  float64\n",
            " 19  rougher.state.floatbank10_f_level                   19439 non-null  float64\n",
            " 20  rougher.input.floatbank11_sulfate                   19395 non-null  float64\n",
            " 21  rougher.input.floatbank11_xanthate                  18986 non-null  float64\n",
            " 22  rougher.calculation.sulfate_to_au_concentrate       19437 non-null  float64\n",
            " 23  rougher.calculation.floatbank10_sulfate_to_au_feed  19437 non-null  float64\n",
            " 24  rougher.calculation.floatbank11_sulfate_to_au_feed  19437 non-null  float64\n",
            " 25  rougher.calculation.au_pb_ratio                     19439 non-null  float64\n",
            " 26  rougher.output.concentrate_au                       19439 non-null  float64\n",
            " 27  rougher.output.concentrate_ag                       19439 non-null  float64\n",
            " 28  rougher.output.concentrate_pb                       19439 non-null  float64\n",
            " 29  rougher.output.concentrate_sol                      19416 non-null  float64\n",
            " 30  rougher.output.recovery                             19439 non-null  float64\n",
            " 31  rougher.output.tail_au                              19439 non-null  float64\n",
            " 32  rougher.output.tail_ag                              19438 non-null  float64\n",
            " 33  rougher.output.tail_pb                              19439 non-null  float64\n",
            " 34  rougher.output.tail_sol                             19439 non-null  float64\n",
            " 35  primary_cleaner.input.sulfate                       19415 non-null  float64\n",
            " 36  primary_cleaner.input.depressant                    19402 non-null  float64\n",
            " 37  primary_cleaner.input.feed_size                     19439 non-null  float64\n",
            " 38  primary_cleaner.input.xanthate                      19335 non-null  float64\n",
            " 39  primary_cleaner.state.floatbank8_a_air              19435 non-null  float64\n",
            " 40  primary_cleaner.state.floatbank8_a_level            19438 non-null  float64\n",
            " 41  primary_cleaner.state.floatbank8_b_air              19435 non-null  float64\n",
            " 42  primary_cleaner.state.floatbank8_b_level            19438 non-null  float64\n",
            " 43  primary_cleaner.state.floatbank8_c_air              19437 non-null  float64\n",
            " 44  primary_cleaner.state.floatbank8_c_level            19438 non-null  float64\n",
            " 45  primary_cleaner.state.floatbank8_d_air              19436 non-null  float64\n",
            " 46  primary_cleaner.state.floatbank8_d_level            19438 non-null  float64\n",
            " 47  primary_cleaner.output.concentrate_au               19439 non-null  float64\n",
            " 48  primary_cleaner.output.concentrate_ag               19439 non-null  float64\n",
            " 49  primary_cleaner.output.concentrate_pb               19323 non-null  float64\n",
            " 50  primary_cleaner.output.concentrate_sol              19069 non-null  float64\n",
            " 51  primary_cleaner.output.tail_au                      19439 non-null  float64\n",
            " 52  primary_cleaner.output.tail_ag                      19435 non-null  float64\n",
            " 53  primary_cleaner.output.tail_pb                      19418 non-null  float64\n",
            " 54  primary_cleaner.output.tail_sol                     19377 non-null  float64\n",
            " 55  secondary_cleaner.state.floatbank2_a_air            19219 non-null  float64\n",
            " 56  secondary_cleaner.state.floatbank2_a_level          19438 non-null  float64\n",
            " 57  secondary_cleaner.state.floatbank2_b_air            19416 non-null  float64\n",
            " 58  secondary_cleaner.state.floatbank2_b_level          19438 non-null  float64\n",
            " 59  secondary_cleaner.state.floatbank3_a_air            19426 non-null  float64\n",
            " 60  secondary_cleaner.state.floatbank3_a_level          19438 non-null  float64\n",
            " 61  secondary_cleaner.state.floatbank3_b_air            19438 non-null  float64\n",
            " 62  secondary_cleaner.state.floatbank3_b_level          19438 non-null  float64\n",
            " 63  secondary_cleaner.state.floatbank4_a_air            19433 non-null  float64\n",
            " 64  secondary_cleaner.state.floatbank4_a_level          19438 non-null  float64\n",
            " 65  secondary_cleaner.state.floatbank4_b_air            19438 non-null  float64\n",
            " 66  secondary_cleaner.state.floatbank4_b_level          19438 non-null  float64\n",
            " 67  secondary_cleaner.state.floatbank5_a_air            19438 non-null  float64\n",
            " 68  secondary_cleaner.state.floatbank5_a_level          19438 non-null  float64\n",
            " 69  secondary_cleaner.state.floatbank5_b_air            19438 non-null  float64\n",
            " 70  secondary_cleaner.state.floatbank5_b_level          19438 non-null  float64\n",
            " 71  secondary_cleaner.state.floatbank6_a_air            19437 non-null  float64\n",
            " 72  secondary_cleaner.state.floatbank6_a_level          19438 non-null  float64\n",
            " 73  secondary_cleaner.output.tail_au                    19439 non-null  float64\n",
            " 74  secondary_cleaner.output.tail_ag                    19437 non-null  float64\n",
            " 75  secondary_cleaner.output.tail_pb                    19427 non-null  float64\n",
            " 76  secondary_cleaner.output.tail_sol                   17691 non-null  float64\n",
            " 77  final.output.concentrate_au                         19439 non-null  float64\n",
            " 78  final.output.concentrate_ag                         19438 non-null  float64\n",
            " 79  final.output.concentrate_pb                         19438 non-null  float64\n",
            " 80  final.output.concentrate_sol                        19228 non-null  float64\n",
            " 81  final.output.recovery                               19439 non-null  float64\n",
            " 82  final.output.tail_au                                19439 non-null  float64\n",
            " 83  final.output.tail_ag                                19438 non-null  float64\n",
            " 84  final.output.tail_pb                                19338 non-null  float64\n",
            " 85  final.output.tail_sol                               19433 non-null  float64\n",
            "dtypes: float64(86)\n",
            "memory usage: 12.9+ MB\n"
          ]
        }
      ],
      "source": [
        "data = pd.read_csv('/datasets/gold_industry_full.csv', index_col = 'date')\n",
        "display(data.head())\n",
        "data.info()"
      ]
    },
    {
      "cell_type": "code",
      "execution_count": null,
      "metadata": {
        "scrolled": true,
        "id": "IYP2foiJfwfp",
        "outputId": "b2e8695f-4daa-453c-80c4-9509b3a078be"
      },
      "outputs": [
        {
          "data": {
            "text/html": [
              "<div>\n",
              "<style scoped>\n",
              "    .dataframe tbody tr th:only-of-type {\n",
              "        vertical-align: middle;\n",
              "    }\n",
              "\n",
              "    .dataframe tbody tr th {\n",
              "        vertical-align: top;\n",
              "    }\n",
              "\n",
              "    .dataframe thead th {\n",
              "        text-align: right;\n",
              "    }\n",
              "</style>\n",
              "<table border=\"1\" class=\"dataframe\">\n",
              "  <thead>\n",
              "    <tr style=\"text-align: right;\">\n",
              "      <th></th>\n",
              "      <th>rougher.input.feed_au</th>\n",
              "      <th>rougher.input.feed_ag</th>\n",
              "      <th>rougher.input.feed_pb</th>\n",
              "      <th>rougher.input.feed_sol</th>\n",
              "      <th>rougher.input.feed_rate</th>\n",
              "      <th>rougher.input.feed_size</th>\n",
              "      <th>rougher.input.floatbank10_sulfate</th>\n",
              "      <th>rougher.input.floatbank10_xanthate</th>\n",
              "      <th>rougher.state.floatbank10_a_air</th>\n",
              "      <th>rougher.state.floatbank10_a_level</th>\n",
              "      <th>...</th>\n",
              "      <th>secondary_cleaner.output.tail_sol</th>\n",
              "      <th>final.output.concentrate_au</th>\n",
              "      <th>final.output.concentrate_ag</th>\n",
              "      <th>final.output.concentrate_pb</th>\n",
              "      <th>final.output.concentrate_sol</th>\n",
              "      <th>final.output.recovery</th>\n",
              "      <th>final.output.tail_au</th>\n",
              "      <th>final.output.tail_ag</th>\n",
              "      <th>final.output.tail_pb</th>\n",
              "      <th>final.output.tail_sol</th>\n",
              "    </tr>\n",
              "    <tr>\n",
              "      <th>date</th>\n",
              "      <th></th>\n",
              "      <th></th>\n",
              "      <th></th>\n",
              "      <th></th>\n",
              "      <th></th>\n",
              "      <th></th>\n",
              "      <th></th>\n",
              "      <th></th>\n",
              "      <th></th>\n",
              "      <th></th>\n",
              "      <th></th>\n",
              "      <th></th>\n",
              "      <th></th>\n",
              "      <th></th>\n",
              "      <th></th>\n",
              "      <th></th>\n",
              "      <th></th>\n",
              "      <th></th>\n",
              "      <th></th>\n",
              "      <th></th>\n",
              "      <th></th>\n",
              "    </tr>\n",
              "  </thead>\n",
              "  <tbody>\n",
              "    <tr>\n",
              "      <th>2016-01-15 00:00:00</th>\n",
              "      <td>6.486150</td>\n",
              "      <td>6.100378</td>\n",
              "      <td>2.284912</td>\n",
              "      <td>36.808594</td>\n",
              "      <td>523.546326</td>\n",
              "      <td>55.486599</td>\n",
              "      <td>11.986616</td>\n",
              "      <td>6.007990</td>\n",
              "      <td>999.706909</td>\n",
              "      <td>-404.066986</td>\n",
              "      <td>...</td>\n",
              "      <td>8.764648</td>\n",
              "      <td>42.192020</td>\n",
              "      <td>6.055403</td>\n",
              "      <td>9.889648</td>\n",
              "      <td>5.507324</td>\n",
              "      <td>70.541216</td>\n",
              "      <td>2.143149</td>\n",
              "      <td>10.411962</td>\n",
              "      <td>0.895447</td>\n",
              "      <td>16.904297</td>\n",
              "    </tr>\n",
              "    <tr>\n",
              "      <th>2016-01-15 01:00:00</th>\n",
              "      <td>6.478583</td>\n",
              "      <td>6.161113</td>\n",
              "      <td>2.266033</td>\n",
              "      <td>35.753385</td>\n",
              "      <td>525.290581</td>\n",
              "      <td>57.278666</td>\n",
              "      <td>11.971193</td>\n",
              "      <td>6.005766</td>\n",
              "      <td>1000.286398</td>\n",
              "      <td>-400.065196</td>\n",
              "      <td>...</td>\n",
              "      <td>9.001494</td>\n",
              "      <td>42.701629</td>\n",
              "      <td>6.029369</td>\n",
              "      <td>9.968944</td>\n",
              "      <td>5.257781</td>\n",
              "      <td>69.266198</td>\n",
              "      <td>2.224930</td>\n",
              "      <td>10.462676</td>\n",
              "      <td>0.927452</td>\n",
              "      <td>16.634514</td>\n",
              "    </tr>\n",
              "    <tr>\n",
              "      <th>2016-01-15 02:00:00</th>\n",
              "      <td>6.362222</td>\n",
              "      <td>6.116455</td>\n",
              "      <td>2.159622</td>\n",
              "      <td>35.971630</td>\n",
              "      <td>530.026610</td>\n",
              "      <td>57.510649</td>\n",
              "      <td>11.920603</td>\n",
              "      <td>6.197377</td>\n",
              "      <td>999.719565</td>\n",
              "      <td>-400.074028</td>\n",
              "      <td>...</td>\n",
              "      <td>8.842896</td>\n",
              "      <td>42.657501</td>\n",
              "      <td>6.055926</td>\n",
              "      <td>10.213995</td>\n",
              "      <td>5.383759</td>\n",
              "      <td>68.116445</td>\n",
              "      <td>2.257889</td>\n",
              "      <td>10.507046</td>\n",
              "      <td>0.953716</td>\n",
              "      <td>16.208849</td>\n",
              "    </tr>\n",
              "    <tr>\n",
              "      <th>2016-01-15 03:00:00</th>\n",
              "      <td>6.118189</td>\n",
              "      <td>6.043309</td>\n",
              "      <td>2.037807</td>\n",
              "      <td>36.862241</td>\n",
              "      <td>542.590390</td>\n",
              "      <td>57.792734</td>\n",
              "      <td>11.630094</td>\n",
              "      <td>6.203177</td>\n",
              "      <td>999.814770</td>\n",
              "      <td>-400.200179</td>\n",
              "      <td>...</td>\n",
              "      <td>9.122857</td>\n",
              "      <td>42.689819</td>\n",
              "      <td>6.047977</td>\n",
              "      <td>9.977019</td>\n",
              "      <td>4.858634</td>\n",
              "      <td>68.347543</td>\n",
              "      <td>2.146849</td>\n",
              "      <td>10.422762</td>\n",
              "      <td>0.883763</td>\n",
              "      <td>16.532835</td>\n",
              "    </tr>\n",
              "    <tr>\n",
              "      <th>2016-01-15 04:00:00</th>\n",
              "      <td>5.663707</td>\n",
              "      <td>6.060915</td>\n",
              "      <td>1.786875</td>\n",
              "      <td>34.347666</td>\n",
              "      <td>540.531893</td>\n",
              "      <td>56.047189</td>\n",
              "      <td>10.957755</td>\n",
              "      <td>6.198826</td>\n",
              "      <td>999.678690</td>\n",
              "      <td>-399.752729</td>\n",
              "      <td>...</td>\n",
              "      <td>8.871028</td>\n",
              "      <td>42.774141</td>\n",
              "      <td>6.148599</td>\n",
              "      <td>10.142511</td>\n",
              "      <td>4.939416</td>\n",
              "      <td>66.927016</td>\n",
              "      <td>2.055292</td>\n",
              "      <td>10.360302</td>\n",
              "      <td>0.792826</td>\n",
              "      <td>16.525686</td>\n",
              "    </tr>\n",
              "  </tbody>\n",
              "</table>\n",
              "<p>5 rows × 86 columns</p>\n",
              "</div>"
            ],
            "text/plain": [
              "                     rougher.input.feed_au  rougher.input.feed_ag  \\\n",
              "date                                                                \n",
              "2016-01-15 00:00:00               6.486150               6.100378   \n",
              "2016-01-15 01:00:00               6.478583               6.161113   \n",
              "2016-01-15 02:00:00               6.362222               6.116455   \n",
              "2016-01-15 03:00:00               6.118189               6.043309   \n",
              "2016-01-15 04:00:00               5.663707               6.060915   \n",
              "\n",
              "                     rougher.input.feed_pb  rougher.input.feed_sol  \\\n",
              "date                                                                 \n",
              "2016-01-15 00:00:00               2.284912               36.808594   \n",
              "2016-01-15 01:00:00               2.266033               35.753385   \n",
              "2016-01-15 02:00:00               2.159622               35.971630   \n",
              "2016-01-15 03:00:00               2.037807               36.862241   \n",
              "2016-01-15 04:00:00               1.786875               34.347666   \n",
              "\n",
              "                     rougher.input.feed_rate  rougher.input.feed_size  \\\n",
              "date                                                                    \n",
              "2016-01-15 00:00:00               523.546326                55.486599   \n",
              "2016-01-15 01:00:00               525.290581                57.278666   \n",
              "2016-01-15 02:00:00               530.026610                57.510649   \n",
              "2016-01-15 03:00:00               542.590390                57.792734   \n",
              "2016-01-15 04:00:00               540.531893                56.047189   \n",
              "\n",
              "                     rougher.input.floatbank10_sulfate  \\\n",
              "date                                                     \n",
              "2016-01-15 00:00:00                          11.986616   \n",
              "2016-01-15 01:00:00                          11.971193   \n",
              "2016-01-15 02:00:00                          11.920603   \n",
              "2016-01-15 03:00:00                          11.630094   \n",
              "2016-01-15 04:00:00                          10.957755   \n",
              "\n",
              "                     rougher.input.floatbank10_xanthate  \\\n",
              "date                                                      \n",
              "2016-01-15 00:00:00                            6.007990   \n",
              "2016-01-15 01:00:00                            6.005766   \n",
              "2016-01-15 02:00:00                            6.197377   \n",
              "2016-01-15 03:00:00                            6.203177   \n",
              "2016-01-15 04:00:00                            6.198826   \n",
              "\n",
              "                     rougher.state.floatbank10_a_air  \\\n",
              "date                                                   \n",
              "2016-01-15 00:00:00                       999.706909   \n",
              "2016-01-15 01:00:00                      1000.286398   \n",
              "2016-01-15 02:00:00                       999.719565   \n",
              "2016-01-15 03:00:00                       999.814770   \n",
              "2016-01-15 04:00:00                       999.678690   \n",
              "\n",
              "                     rougher.state.floatbank10_a_level  ...  \\\n",
              "date                                                    ...   \n",
              "2016-01-15 00:00:00                        -404.066986  ...   \n",
              "2016-01-15 01:00:00                        -400.065196  ...   \n",
              "2016-01-15 02:00:00                        -400.074028  ...   \n",
              "2016-01-15 03:00:00                        -400.200179  ...   \n",
              "2016-01-15 04:00:00                        -399.752729  ...   \n",
              "\n",
              "                     secondary_cleaner.output.tail_sol  \\\n",
              "date                                                     \n",
              "2016-01-15 00:00:00                           8.764648   \n",
              "2016-01-15 01:00:00                           9.001494   \n",
              "2016-01-15 02:00:00                           8.842896   \n",
              "2016-01-15 03:00:00                           9.122857   \n",
              "2016-01-15 04:00:00                           8.871028   \n",
              "\n",
              "                     final.output.concentrate_au  final.output.concentrate_ag  \\\n",
              "date                                                                            \n",
              "2016-01-15 00:00:00                    42.192020                     6.055403   \n",
              "2016-01-15 01:00:00                    42.701629                     6.029369   \n",
              "2016-01-15 02:00:00                    42.657501                     6.055926   \n",
              "2016-01-15 03:00:00                    42.689819                     6.047977   \n",
              "2016-01-15 04:00:00                    42.774141                     6.148599   \n",
              "\n",
              "                     final.output.concentrate_pb  \\\n",
              "date                                               \n",
              "2016-01-15 00:00:00                     9.889648   \n",
              "2016-01-15 01:00:00                     9.968944   \n",
              "2016-01-15 02:00:00                    10.213995   \n",
              "2016-01-15 03:00:00                     9.977019   \n",
              "2016-01-15 04:00:00                    10.142511   \n",
              "\n",
              "                     final.output.concentrate_sol  final.output.recovery  \\\n",
              "date                                                                       \n",
              "2016-01-15 00:00:00                      5.507324              70.541216   \n",
              "2016-01-15 01:00:00                      5.257781              69.266198   \n",
              "2016-01-15 02:00:00                      5.383759              68.116445   \n",
              "2016-01-15 03:00:00                      4.858634              68.347543   \n",
              "2016-01-15 04:00:00                      4.939416              66.927016   \n",
              "\n",
              "                     final.output.tail_au  final.output.tail_ag  \\\n",
              "date                                                              \n",
              "2016-01-15 00:00:00              2.143149             10.411962   \n",
              "2016-01-15 01:00:00              2.224930             10.462676   \n",
              "2016-01-15 02:00:00              2.257889             10.507046   \n",
              "2016-01-15 03:00:00              2.146849             10.422762   \n",
              "2016-01-15 04:00:00              2.055292             10.360302   \n",
              "\n",
              "                     final.output.tail_pb  final.output.tail_sol  \n",
              "date                                                              \n",
              "2016-01-15 00:00:00              0.895447              16.904297  \n",
              "2016-01-15 01:00:00              0.927452              16.634514  \n",
              "2016-01-15 02:00:00              0.953716              16.208849  \n",
              "2016-01-15 03:00:00              0.883763              16.532835  \n",
              "2016-01-15 04:00:00              0.792826              16.525686  \n",
              "\n",
              "[5 rows x 86 columns]"
            ]
          },
          "metadata": {},
          "output_type": "display_data"
        },
        {
          "name": "stdout",
          "output_type": "stream",
          "text": [
            "<class 'pandas.core.frame.DataFrame'>\n",
            "Index: 14579 entries, 2016-01-15 00:00:00 to 2017-12-09 13:59:59\n",
            "Data columns (total 86 columns):\n",
            " #   Column                                              Non-Null Count  Dtype  \n",
            "---  ------                                              --------------  -----  \n",
            " 0   rougher.input.feed_au                               14579 non-null  float64\n",
            " 1   rougher.input.feed_ag                               14579 non-null  float64\n",
            " 2   rougher.input.feed_pb                               14507 non-null  float64\n",
            " 3   rougher.input.feed_sol                              14502 non-null  float64\n",
            " 4   rougher.input.feed_rate                             14572 non-null  float64\n",
            " 5   rougher.input.feed_size                             14478 non-null  float64\n",
            " 6   rougher.input.floatbank10_sulfate                   14548 non-null  float64\n",
            " 7   rougher.input.floatbank10_xanthate                  14572 non-null  float64\n",
            " 8   rougher.state.floatbank10_a_air                     14579 non-null  float64\n",
            " 9   rougher.state.floatbank10_a_level                   14579 non-null  float64\n",
            " 10  rougher.state.floatbank10_b_air                     14579 non-null  float64\n",
            " 11  rougher.state.floatbank10_b_level                   14579 non-null  float64\n",
            " 12  rougher.state.floatbank10_c_air                     14579 non-null  float64\n",
            " 13  rougher.state.floatbank10_c_level                   14579 non-null  float64\n",
            " 14  rougher.state.floatbank10_d_air                     14579 non-null  float64\n",
            " 15  rougher.state.floatbank10_d_level                   14579 non-null  float64\n",
            " 16  rougher.state.floatbank10_e_air                     14150 non-null  float64\n",
            " 17  rougher.state.floatbank10_e_level                   14579 non-null  float64\n",
            " 18  rougher.state.floatbank10_f_air                     14579 non-null  float64\n",
            " 19  rougher.state.floatbank10_f_level                   14579 non-null  float64\n",
            " 20  rougher.input.floatbank11_sulfate                   14543 non-null  float64\n",
            " 21  rougher.input.floatbank11_xanthate                  14172 non-null  float64\n",
            " 22  rougher.calculation.sulfate_to_au_concentrate       14578 non-null  float64\n",
            " 23  rougher.calculation.floatbank10_sulfate_to_au_feed  14578 non-null  float64\n",
            " 24  rougher.calculation.floatbank11_sulfate_to_au_feed  14578 non-null  float64\n",
            " 25  rougher.calculation.au_pb_ratio                     14579 non-null  float64\n",
            " 26  rougher.output.concentrate_au                       14579 non-null  float64\n",
            " 27  rougher.output.concentrate_ag                       14579 non-null  float64\n",
            " 28  rougher.output.concentrate_pb                       14579 non-null  float64\n",
            " 29  rougher.output.concentrate_sol                      14561 non-null  float64\n",
            " 30  rougher.output.recovery                             14579 non-null  float64\n",
            " 31  rougher.output.tail_au                              14579 non-null  float64\n",
            " 32  rougher.output.tail_ag                              14578 non-null  float64\n",
            " 33  rougher.output.tail_pb                              14579 non-null  float64\n",
            " 34  rougher.output.tail_sol                             14579 non-null  float64\n",
            " 35  primary_cleaner.input.sulfate                       14556 non-null  float64\n",
            " 36  primary_cleaner.input.depressant                    14551 non-null  float64\n",
            " 37  primary_cleaner.input.feed_size                     14579 non-null  float64\n",
            " 38  primary_cleaner.input.xanthate                      14518 non-null  float64\n",
            " 39  primary_cleaner.state.floatbank8_a_air              14576 non-null  float64\n",
            " 40  primary_cleaner.state.floatbank8_a_level            14579 non-null  float64\n",
            " 41  primary_cleaner.state.floatbank8_b_air              14576 non-null  float64\n",
            " 42  primary_cleaner.state.floatbank8_b_level            14579 non-null  float64\n",
            " 43  primary_cleaner.state.floatbank8_c_air              14579 non-null  float64\n",
            " 44  primary_cleaner.state.floatbank8_c_level            14579 non-null  float64\n",
            " 45  primary_cleaner.state.floatbank8_d_air              14578 non-null  float64\n",
            " 46  primary_cleaner.state.floatbank8_d_level            14579 non-null  float64\n",
            " 47  primary_cleaner.output.concentrate_au               14579 non-null  float64\n",
            " 48  primary_cleaner.output.concentrate_ag               14579 non-null  float64\n",
            " 49  primary_cleaner.output.concentrate_pb               14491 non-null  float64\n",
            " 50  primary_cleaner.output.concentrate_sol              14314 non-null  float64\n",
            " 51  primary_cleaner.output.tail_au                      14579 non-null  float64\n",
            " 52  primary_cleaner.output.tail_ag                      14575 non-null  float64\n",
            " 53  primary_cleaner.output.tail_pb                      14573 non-null  float64\n",
            " 54  primary_cleaner.output.tail_sol                     14534 non-null  float64\n",
            " 55  secondary_cleaner.state.floatbank2_a_air            14485 non-null  float64\n",
            " 56  secondary_cleaner.state.floatbank2_a_level          14579 non-null  float64\n",
            " 57  secondary_cleaner.state.floatbank2_b_air            14557 non-null  float64\n",
            " 58  secondary_cleaner.state.floatbank2_b_level          14579 non-null  float64\n",
            " 59  secondary_cleaner.state.floatbank3_a_air            14567 non-null  float64\n",
            " 60  secondary_cleaner.state.floatbank3_a_level          14579 non-null  float64\n",
            " 61  secondary_cleaner.state.floatbank3_b_air            14579 non-null  float64\n",
            " 62  secondary_cleaner.state.floatbank3_b_level          14579 non-null  float64\n",
            " 63  secondary_cleaner.state.floatbank4_a_air            14574 non-null  float64\n",
            " 64  secondary_cleaner.state.floatbank4_a_level          14579 non-null  float64\n",
            " 65  secondary_cleaner.state.floatbank4_b_air            14579 non-null  float64\n",
            " 66  secondary_cleaner.state.floatbank4_b_level          14579 non-null  float64\n",
            " 67  secondary_cleaner.state.floatbank5_a_air            14579 non-null  float64\n",
            " 68  secondary_cleaner.state.floatbank5_a_level          14579 non-null  float64\n",
            " 69  secondary_cleaner.state.floatbank5_b_air            14579 non-null  float64\n",
            " 70  secondary_cleaner.state.floatbank5_b_level          14579 non-null  float64\n",
            " 71  secondary_cleaner.state.floatbank6_a_air            14578 non-null  float64\n",
            " 72  secondary_cleaner.state.floatbank6_a_level          14579 non-null  float64\n",
            " 73  secondary_cleaner.output.tail_au                    14579 non-null  float64\n",
            " 74  secondary_cleaner.output.tail_ag                    14578 non-null  float64\n",
            " 75  secondary_cleaner.output.tail_pb                    14575 non-null  float64\n",
            " 76  secondary_cleaner.output.tail_sol                   13659 non-null  float64\n",
            " 77  final.output.concentrate_au                         14579 non-null  float64\n",
            " 78  final.output.concentrate_ag                         14578 non-null  float64\n",
            " 79  final.output.concentrate_pb                         14578 non-null  float64\n",
            " 80  final.output.concentrate_sol                        14387 non-null  float64\n",
            " 81  final.output.recovery                               14579 non-null  float64\n",
            " 82  final.output.tail_au                                14579 non-null  float64\n",
            " 83  final.output.tail_ag                                14578 non-null  float64\n",
            " 84  final.output.tail_pb                                14504 non-null  float64\n",
            " 85  final.output.tail_sol                               14574 non-null  float64\n",
            "dtypes: float64(86)\n",
            "memory usage: 9.7+ MB\n"
          ]
        },
        {
          "data": {
            "text/plain": [
              "None"
            ]
          },
          "metadata": {},
          "output_type": "display_data"
        }
      ],
      "source": [
        "train = pd.read_csv('/datasets/gold_industry_train.csv',index_col = 'date')\n",
        "display(train.head())\n",
        "display(train.info())"
      ]
    },
    {
      "cell_type": "code",
      "execution_count": null,
      "metadata": {
        "scrolled": true,
        "id": "HsJiavg_fwfp",
        "outputId": "a6a937f9-31f3-4d36-905f-12c8e3af498a"
      },
      "outputs": [
        {
          "data": {
            "text/html": [
              "<div>\n",
              "<style scoped>\n",
              "    .dataframe tbody tr th:only-of-type {\n",
              "        vertical-align: middle;\n",
              "    }\n",
              "\n",
              "    .dataframe tbody tr th {\n",
              "        vertical-align: top;\n",
              "    }\n",
              "\n",
              "    .dataframe thead th {\n",
              "        text-align: right;\n",
              "    }\n",
              "</style>\n",
              "<table border=\"1\" class=\"dataframe\">\n",
              "  <thead>\n",
              "    <tr style=\"text-align: right;\">\n",
              "      <th></th>\n",
              "      <th>rougher.input.feed_au</th>\n",
              "      <th>rougher.input.feed_ag</th>\n",
              "      <th>rougher.input.feed_pb</th>\n",
              "      <th>rougher.input.feed_sol</th>\n",
              "      <th>rougher.input.feed_rate</th>\n",
              "      <th>rougher.input.feed_size</th>\n",
              "      <th>rougher.input.floatbank10_sulfate</th>\n",
              "      <th>rougher.input.floatbank10_xanthate</th>\n",
              "      <th>rougher.state.floatbank10_a_air</th>\n",
              "      <th>rougher.state.floatbank10_a_level</th>\n",
              "      <th>...</th>\n",
              "      <th>secondary_cleaner.state.floatbank4_a_air</th>\n",
              "      <th>secondary_cleaner.state.floatbank4_a_level</th>\n",
              "      <th>secondary_cleaner.state.floatbank4_b_air</th>\n",
              "      <th>secondary_cleaner.state.floatbank4_b_level</th>\n",
              "      <th>secondary_cleaner.state.floatbank5_a_air</th>\n",
              "      <th>secondary_cleaner.state.floatbank5_a_level</th>\n",
              "      <th>secondary_cleaner.state.floatbank5_b_air</th>\n",
              "      <th>secondary_cleaner.state.floatbank5_b_level</th>\n",
              "      <th>secondary_cleaner.state.floatbank6_a_air</th>\n",
              "      <th>secondary_cleaner.state.floatbank6_a_level</th>\n",
              "    </tr>\n",
              "    <tr>\n",
              "      <th>date</th>\n",
              "      <th></th>\n",
              "      <th></th>\n",
              "      <th></th>\n",
              "      <th></th>\n",
              "      <th></th>\n",
              "      <th></th>\n",
              "      <th></th>\n",
              "      <th></th>\n",
              "      <th></th>\n",
              "      <th></th>\n",
              "      <th></th>\n",
              "      <th></th>\n",
              "      <th></th>\n",
              "      <th></th>\n",
              "      <th></th>\n",
              "      <th></th>\n",
              "      <th></th>\n",
              "      <th></th>\n",
              "      <th></th>\n",
              "      <th></th>\n",
              "      <th></th>\n",
              "    </tr>\n",
              "  </thead>\n",
              "  <tbody>\n",
              "    <tr>\n",
              "      <th>2017-12-09 14:59:59</th>\n",
              "      <td>4.365491</td>\n",
              "      <td>6.158718</td>\n",
              "      <td>3.875727</td>\n",
              "      <td>39.135119</td>\n",
              "      <td>555.820208</td>\n",
              "      <td>94.544358</td>\n",
              "      <td>6.146982</td>\n",
              "      <td>9.308612</td>\n",
              "      <td>1196.238112</td>\n",
              "      <td>-299.862743</td>\n",
              "      <td>...</td>\n",
              "      <td>23.018622</td>\n",
              "      <td>-500.492702</td>\n",
              "      <td>20.020205</td>\n",
              "      <td>-500.220296</td>\n",
              "      <td>17.963512</td>\n",
              "      <td>-499.939490</td>\n",
              "      <td>12.990306</td>\n",
              "      <td>-500.080993</td>\n",
              "      <td>19.990336</td>\n",
              "      <td>-499.191575</td>\n",
              "    </tr>\n",
              "    <tr>\n",
              "      <th>2017-12-09 15:59:59</th>\n",
              "      <td>4.362781</td>\n",
              "      <td>6.048130</td>\n",
              "      <td>3.902537</td>\n",
              "      <td>39.713906</td>\n",
              "      <td>544.731687</td>\n",
              "      <td>123.742430</td>\n",
              "      <td>6.210119</td>\n",
              "      <td>9.297709</td>\n",
              "      <td>1201.904177</td>\n",
              "      <td>-299.907308</td>\n",
              "      <td>...</td>\n",
              "      <td>23.024963</td>\n",
              "      <td>-501.153409</td>\n",
              "      <td>20.054122</td>\n",
              "      <td>-500.314711</td>\n",
              "      <td>17.979515</td>\n",
              "      <td>-499.272871</td>\n",
              "      <td>12.992404</td>\n",
              "      <td>-499.976268</td>\n",
              "      <td>20.013986</td>\n",
              "      <td>-500.625471</td>\n",
              "    </tr>\n",
              "    <tr>\n",
              "      <th>2017-12-09 16:59:59</th>\n",
              "      <td>5.081681</td>\n",
              "      <td>6.082745</td>\n",
              "      <td>4.564078</td>\n",
              "      <td>37.208683</td>\n",
              "      <td>558.155110</td>\n",
              "      <td>82.610855</td>\n",
              "      <td>7.363824</td>\n",
              "      <td>9.003562</td>\n",
              "      <td>1200.826926</td>\n",
              "      <td>-300.124116</td>\n",
              "      <td>...</td>\n",
              "      <td>22.993827</td>\n",
              "      <td>-501.559663</td>\n",
              "      <td>20.029144</td>\n",
              "      <td>-500.000662</td>\n",
              "      <td>18.012723</td>\n",
              "      <td>-500.024764</td>\n",
              "      <td>13.016445</td>\n",
              "      <td>-500.058432</td>\n",
              "      <td>19.973767</td>\n",
              "      <td>-501.394155</td>\n",
              "    </tr>\n",
              "    <tr>\n",
              "      <th>2017-12-09 17:59:59</th>\n",
              "      <td>5.145949</td>\n",
              "      <td>6.084374</td>\n",
              "      <td>4.768124</td>\n",
              "      <td>36.808874</td>\n",
              "      <td>539.713765</td>\n",
              "      <td>77.984784</td>\n",
              "      <td>6.927072</td>\n",
              "      <td>8.955597</td>\n",
              "      <td>1199.292489</td>\n",
              "      <td>-299.778385</td>\n",
              "      <td>...</td>\n",
              "      <td>23.032807</td>\n",
              "      <td>-501.287889</td>\n",
              "      <td>19.977466</td>\n",
              "      <td>-500.159903</td>\n",
              "      <td>17.980463</td>\n",
              "      <td>-500.504602</td>\n",
              "      <td>12.949071</td>\n",
              "      <td>-500.009937</td>\n",
              "      <td>20.010332</td>\n",
              "      <td>-508.337973</td>\n",
              "    </tr>\n",
              "    <tr>\n",
              "      <th>2017-12-09 18:59:59</th>\n",
              "      <td>5.735249</td>\n",
              "      <td>6.165220</td>\n",
              "      <td>4.512346</td>\n",
              "      <td>37.810642</td>\n",
              "      <td>558.713584</td>\n",
              "      <td>86.434874</td>\n",
              "      <td>7.823471</td>\n",
              "      <td>7.490356</td>\n",
              "      <td>1198.005449</td>\n",
              "      <td>-300.283401</td>\n",
              "      <td>...</td>\n",
              "      <td>23.001911</td>\n",
              "      <td>-499.947838</td>\n",
              "      <td>20.023735</td>\n",
              "      <td>-499.713680</td>\n",
              "      <td>17.990955</td>\n",
              "      <td>-500.334769</td>\n",
              "      <td>13.007523</td>\n",
              "      <td>-499.968459</td>\n",
              "      <td>19.995999</td>\n",
              "      <td>-499.788805</td>\n",
              "    </tr>\n",
              "  </tbody>\n",
              "</table>\n",
              "<p>5 rows × 52 columns</p>\n",
              "</div>"
            ],
            "text/plain": [
              "                     rougher.input.feed_au  rougher.input.feed_ag  \\\n",
              "date                                                                \n",
              "2017-12-09 14:59:59               4.365491               6.158718   \n",
              "2017-12-09 15:59:59               4.362781               6.048130   \n",
              "2017-12-09 16:59:59               5.081681               6.082745   \n",
              "2017-12-09 17:59:59               5.145949               6.084374   \n",
              "2017-12-09 18:59:59               5.735249               6.165220   \n",
              "\n",
              "                     rougher.input.feed_pb  rougher.input.feed_sol  \\\n",
              "date                                                                 \n",
              "2017-12-09 14:59:59               3.875727               39.135119   \n",
              "2017-12-09 15:59:59               3.902537               39.713906   \n",
              "2017-12-09 16:59:59               4.564078               37.208683   \n",
              "2017-12-09 17:59:59               4.768124               36.808874   \n",
              "2017-12-09 18:59:59               4.512346               37.810642   \n",
              "\n",
              "                     rougher.input.feed_rate  rougher.input.feed_size  \\\n",
              "date                                                                    \n",
              "2017-12-09 14:59:59               555.820208                94.544358   \n",
              "2017-12-09 15:59:59               544.731687               123.742430   \n",
              "2017-12-09 16:59:59               558.155110                82.610855   \n",
              "2017-12-09 17:59:59               539.713765                77.984784   \n",
              "2017-12-09 18:59:59               558.713584                86.434874   \n",
              "\n",
              "                     rougher.input.floatbank10_sulfate  \\\n",
              "date                                                     \n",
              "2017-12-09 14:59:59                           6.146982   \n",
              "2017-12-09 15:59:59                           6.210119   \n",
              "2017-12-09 16:59:59                           7.363824   \n",
              "2017-12-09 17:59:59                           6.927072   \n",
              "2017-12-09 18:59:59                           7.823471   \n",
              "\n",
              "                     rougher.input.floatbank10_xanthate  \\\n",
              "date                                                      \n",
              "2017-12-09 14:59:59                            9.308612   \n",
              "2017-12-09 15:59:59                            9.297709   \n",
              "2017-12-09 16:59:59                            9.003562   \n",
              "2017-12-09 17:59:59                            8.955597   \n",
              "2017-12-09 18:59:59                            7.490356   \n",
              "\n",
              "                     rougher.state.floatbank10_a_air  \\\n",
              "date                                                   \n",
              "2017-12-09 14:59:59                      1196.238112   \n",
              "2017-12-09 15:59:59                      1201.904177   \n",
              "2017-12-09 16:59:59                      1200.826926   \n",
              "2017-12-09 17:59:59                      1199.292489   \n",
              "2017-12-09 18:59:59                      1198.005449   \n",
              "\n",
              "                     rougher.state.floatbank10_a_level  ...  \\\n",
              "date                                                    ...   \n",
              "2017-12-09 14:59:59                        -299.862743  ...   \n",
              "2017-12-09 15:59:59                        -299.907308  ...   \n",
              "2017-12-09 16:59:59                        -300.124116  ...   \n",
              "2017-12-09 17:59:59                        -299.778385  ...   \n",
              "2017-12-09 18:59:59                        -300.283401  ...   \n",
              "\n",
              "                     secondary_cleaner.state.floatbank4_a_air  \\\n",
              "date                                                            \n",
              "2017-12-09 14:59:59                                 23.018622   \n",
              "2017-12-09 15:59:59                                 23.024963   \n",
              "2017-12-09 16:59:59                                 22.993827   \n",
              "2017-12-09 17:59:59                                 23.032807   \n",
              "2017-12-09 18:59:59                                 23.001911   \n",
              "\n",
              "                     secondary_cleaner.state.floatbank4_a_level  \\\n",
              "date                                                              \n",
              "2017-12-09 14:59:59                                 -500.492702   \n",
              "2017-12-09 15:59:59                                 -501.153409   \n",
              "2017-12-09 16:59:59                                 -501.559663   \n",
              "2017-12-09 17:59:59                                 -501.287889   \n",
              "2017-12-09 18:59:59                                 -499.947838   \n",
              "\n",
              "                     secondary_cleaner.state.floatbank4_b_air  \\\n",
              "date                                                            \n",
              "2017-12-09 14:59:59                                 20.020205   \n",
              "2017-12-09 15:59:59                                 20.054122   \n",
              "2017-12-09 16:59:59                                 20.029144   \n",
              "2017-12-09 17:59:59                                 19.977466   \n",
              "2017-12-09 18:59:59                                 20.023735   \n",
              "\n",
              "                     secondary_cleaner.state.floatbank4_b_level  \\\n",
              "date                                                              \n",
              "2017-12-09 14:59:59                                 -500.220296   \n",
              "2017-12-09 15:59:59                                 -500.314711   \n",
              "2017-12-09 16:59:59                                 -500.000662   \n",
              "2017-12-09 17:59:59                                 -500.159903   \n",
              "2017-12-09 18:59:59                                 -499.713680   \n",
              "\n",
              "                     secondary_cleaner.state.floatbank5_a_air  \\\n",
              "date                                                            \n",
              "2017-12-09 14:59:59                                 17.963512   \n",
              "2017-12-09 15:59:59                                 17.979515   \n",
              "2017-12-09 16:59:59                                 18.012723   \n",
              "2017-12-09 17:59:59                                 17.980463   \n",
              "2017-12-09 18:59:59                                 17.990955   \n",
              "\n",
              "                     secondary_cleaner.state.floatbank5_a_level  \\\n",
              "date                                                              \n",
              "2017-12-09 14:59:59                                 -499.939490   \n",
              "2017-12-09 15:59:59                                 -499.272871   \n",
              "2017-12-09 16:59:59                                 -500.024764   \n",
              "2017-12-09 17:59:59                                 -500.504602   \n",
              "2017-12-09 18:59:59                                 -500.334769   \n",
              "\n",
              "                     secondary_cleaner.state.floatbank5_b_air  \\\n",
              "date                                                            \n",
              "2017-12-09 14:59:59                                 12.990306   \n",
              "2017-12-09 15:59:59                                 12.992404   \n",
              "2017-12-09 16:59:59                                 13.016445   \n",
              "2017-12-09 17:59:59                                 12.949071   \n",
              "2017-12-09 18:59:59                                 13.007523   \n",
              "\n",
              "                     secondary_cleaner.state.floatbank5_b_level  \\\n",
              "date                                                              \n",
              "2017-12-09 14:59:59                                 -500.080993   \n",
              "2017-12-09 15:59:59                                 -499.976268   \n",
              "2017-12-09 16:59:59                                 -500.058432   \n",
              "2017-12-09 17:59:59                                 -500.009937   \n",
              "2017-12-09 18:59:59                                 -499.968459   \n",
              "\n",
              "                     secondary_cleaner.state.floatbank6_a_air  \\\n",
              "date                                                            \n",
              "2017-12-09 14:59:59                                 19.990336   \n",
              "2017-12-09 15:59:59                                 20.013986   \n",
              "2017-12-09 16:59:59                                 19.973767   \n",
              "2017-12-09 17:59:59                                 20.010332   \n",
              "2017-12-09 18:59:59                                 19.995999   \n",
              "\n",
              "                     secondary_cleaner.state.floatbank6_a_level  \n",
              "date                                                             \n",
              "2017-12-09 14:59:59                                 -499.191575  \n",
              "2017-12-09 15:59:59                                 -500.625471  \n",
              "2017-12-09 16:59:59                                 -501.394155  \n",
              "2017-12-09 17:59:59                                 -508.337973  \n",
              "2017-12-09 18:59:59                                 -499.788805  \n",
              "\n",
              "[5 rows x 52 columns]"
            ]
          },
          "metadata": {},
          "output_type": "display_data"
        },
        {
          "name": "stdout",
          "output_type": "stream",
          "text": [
            "<class 'pandas.core.frame.DataFrame'>\n",
            "Index: 4860 entries, 2017-12-09 14:59:59 to 2018-08-18 10:59:59\n",
            "Data columns (total 52 columns):\n",
            " #   Column                                      Non-Null Count  Dtype  \n",
            "---  ------                                      --------------  -----  \n",
            " 0   rougher.input.feed_au                       4860 non-null   float64\n",
            " 1   rougher.input.feed_ag                       4860 non-null   float64\n",
            " 2   rougher.input.feed_pb                       4832 non-null   float64\n",
            " 3   rougher.input.feed_sol                      4838 non-null   float64\n",
            " 4   rougher.input.feed_rate                     4856 non-null   float64\n",
            " 5   rougher.input.feed_size                     4816 non-null   float64\n",
            " 6   rougher.input.floatbank10_sulfate           4857 non-null   float64\n",
            " 7   rougher.input.floatbank10_xanthate          4859 non-null   float64\n",
            " 8   rougher.state.floatbank10_a_air             4859 non-null   float64\n",
            " 9   rougher.state.floatbank10_a_level           4859 non-null   float64\n",
            " 10  rougher.state.floatbank10_b_air             4859 non-null   float64\n",
            " 11  rougher.state.floatbank10_b_level           4859 non-null   float64\n",
            " 12  rougher.state.floatbank10_c_air             4859 non-null   float64\n",
            " 13  rougher.state.floatbank10_c_level           4859 non-null   float64\n",
            " 14  rougher.state.floatbank10_d_air             4860 non-null   float64\n",
            " 15  rougher.state.floatbank10_d_level           4860 non-null   float64\n",
            " 16  rougher.state.floatbank10_e_air             4853 non-null   float64\n",
            " 17  rougher.state.floatbank10_e_level           4860 non-null   float64\n",
            " 18  rougher.state.floatbank10_f_air             4860 non-null   float64\n",
            " 19  rougher.state.floatbank10_f_level           4860 non-null   float64\n",
            " 20  rougher.input.floatbank11_sulfate           4852 non-null   float64\n",
            " 21  rougher.input.floatbank11_xanthate          4814 non-null   float64\n",
            " 22  primary_cleaner.input.sulfate               4859 non-null   float64\n",
            " 23  primary_cleaner.input.depressant            4851 non-null   float64\n",
            " 24  primary_cleaner.input.feed_size             4860 non-null   float64\n",
            " 25  primary_cleaner.input.xanthate              4817 non-null   float64\n",
            " 26  primary_cleaner.state.floatbank8_a_air      4859 non-null   float64\n",
            " 27  primary_cleaner.state.floatbank8_a_level    4859 non-null   float64\n",
            " 28  primary_cleaner.state.floatbank8_b_air      4859 non-null   float64\n",
            " 29  primary_cleaner.state.floatbank8_b_level    4859 non-null   float64\n",
            " 30  primary_cleaner.state.floatbank8_c_air      4858 non-null   float64\n",
            " 31  primary_cleaner.state.floatbank8_c_level    4859 non-null   float64\n",
            " 32  primary_cleaner.state.floatbank8_d_air      4858 non-null   float64\n",
            " 33  primary_cleaner.state.floatbank8_d_level    4859 non-null   float64\n",
            " 34  secondary_cleaner.state.floatbank2_a_air    4734 non-null   float64\n",
            " 35  secondary_cleaner.state.floatbank2_a_level  4859 non-null   float64\n",
            " 36  secondary_cleaner.state.floatbank2_b_air    4859 non-null   float64\n",
            " 37  secondary_cleaner.state.floatbank2_b_level  4859 non-null   float64\n",
            " 38  secondary_cleaner.state.floatbank3_a_air    4859 non-null   float64\n",
            " 39  secondary_cleaner.state.floatbank3_a_level  4859 non-null   float64\n",
            " 40  secondary_cleaner.state.floatbank3_b_air    4859 non-null   float64\n",
            " 41  secondary_cleaner.state.floatbank3_b_level  4859 non-null   float64\n",
            " 42  secondary_cleaner.state.floatbank4_a_air    4859 non-null   float64\n",
            " 43  secondary_cleaner.state.floatbank4_a_level  4859 non-null   float64\n",
            " 44  secondary_cleaner.state.floatbank4_b_air    4859 non-null   float64\n",
            " 45  secondary_cleaner.state.floatbank4_b_level  4859 non-null   float64\n",
            " 46  secondary_cleaner.state.floatbank5_a_air    4859 non-null   float64\n",
            " 47  secondary_cleaner.state.floatbank5_a_level  4859 non-null   float64\n",
            " 48  secondary_cleaner.state.floatbank5_b_air    4859 non-null   float64\n",
            " 49  secondary_cleaner.state.floatbank5_b_level  4859 non-null   float64\n",
            " 50  secondary_cleaner.state.floatbank6_a_air    4859 non-null   float64\n",
            " 51  secondary_cleaner.state.floatbank6_a_level  4859 non-null   float64\n",
            "dtypes: float64(52)\n",
            "memory usage: 2.0+ MB\n"
          ]
        },
        {
          "data": {
            "text/plain": [
              "None"
            ]
          },
          "metadata": {},
          "output_type": "display_data"
        }
      ],
      "source": [
        "test = pd.read_csv('/datasets/gold_industry_test.csv',index_col = 'date')\n",
        "display(test.head())\n",
        "display(test.info())"
      ]
    },
    {
      "cell_type": "code",
      "execution_count": null,
      "metadata": {
        "id": "v4Bnh7SOfwfp",
        "outputId": "041452e7-de4e-4e00-b616-fdbe79dfa51f"
      },
      "outputs": [
        {
          "name": "stdout",
          "output_type": "stream",
          "text": [
            "Размер полного датасета: (19439, 86)\n",
            "Размер обущающего датасета: (14579, 86)\n",
            "Размер тестового датасета: (4860, 52)\n"
          ]
        }
      ],
      "source": [
        "print('Размер полного датасета:', data.shape)\n",
        "print('Размер обущающего датасета:', train.shape)\n",
        "print('Размер тестового датасета:', test.shape)"
      ]
    },
    {
      "cell_type": "markdown",
      "metadata": {
        "id": "D5MJshfYfwfp"
      },
      "source": [
        "По данным видно, что во всех трех датасетах есть пропуски во многих признаках.\n",
        "Также в датасете test отсутствуют 34 столбца, которые есть в data и train."
      ]
    },
    {
      "cell_type": "markdown",
      "metadata": {
        "id": "TIOnuy9Tfwfp"
      },
      "source": [
        "Теперь проверим правильность расчета эффективности обогащения."
      ]
    },
    {
      "cell_type": "code",
      "execution_count": null,
      "metadata": {
        "id": "BFErJgojfwfq"
      },
      "outputs": [],
      "source": [
        "def get_recovery(row):\n",
        "    try:\n",
        "        c = row['rougher.output.concentrate_au']\n",
        "        f = row['rougher.input.feed_au']\n",
        "        t = row['rougher.output.tail_au']\n",
        "        row['our_recovery'] = ((c * (f - t)) / (f * (c - t))) * 100\n",
        "    except error:\n",
        "        return row\n",
        "    return row"
      ]
    },
    {
      "cell_type": "code",
      "execution_count": null,
      "metadata": {
        "id": "7OsAy2kSfwfq",
        "outputId": "7c82737d-f3eb-4577-f3ec-9d94f02c2b57"
      },
      "outputs": [
        {
          "data": {
            "text/html": [
              "<div>\n",
              "<style scoped>\n",
              "    .dataframe tbody tr th:only-of-type {\n",
              "        vertical-align: middle;\n",
              "    }\n",
              "\n",
              "    .dataframe tbody tr th {\n",
              "        vertical-align: top;\n",
              "    }\n",
              "\n",
              "    .dataframe thead th {\n",
              "        text-align: right;\n",
              "    }\n",
              "</style>\n",
              "<table border=\"1\" class=\"dataframe\">\n",
              "  <thead>\n",
              "    <tr style=\"text-align: right;\">\n",
              "      <th></th>\n",
              "      <th>rougher.output.recovery</th>\n",
              "      <th>our_recovery</th>\n",
              "    </tr>\n",
              "    <tr>\n",
              "      <th>date</th>\n",
              "      <th></th>\n",
              "      <th></th>\n",
              "    </tr>\n",
              "  </thead>\n",
              "  <tbody>\n",
              "    <tr>\n",
              "      <th>2016-01-15 00:00:00</th>\n",
              "      <td>87.107763</td>\n",
              "      <td>87.107763</td>\n",
              "    </tr>\n",
              "    <tr>\n",
              "      <th>2016-01-15 01:00:00</th>\n",
              "      <td>86.843261</td>\n",
              "      <td>86.843261</td>\n",
              "    </tr>\n",
              "    <tr>\n",
              "      <th>2016-01-15 02:00:00</th>\n",
              "      <td>86.842308</td>\n",
              "      <td>86.842308</td>\n",
              "    </tr>\n",
              "    <tr>\n",
              "      <th>2016-01-15 03:00:00</th>\n",
              "      <td>87.226430</td>\n",
              "      <td>87.226430</td>\n",
              "    </tr>\n",
              "    <tr>\n",
              "      <th>2016-01-15 04:00:00</th>\n",
              "      <td>86.688794</td>\n",
              "      <td>86.688794</td>\n",
              "    </tr>\n",
              "    <tr>\n",
              "      <th>...</th>\n",
              "      <td>...</td>\n",
              "      <td>...</td>\n",
              "    </tr>\n",
              "    <tr>\n",
              "      <th>2017-12-09 09:59:59</th>\n",
              "      <td>87.684717</td>\n",
              "      <td>87.684717</td>\n",
              "    </tr>\n",
              "    <tr>\n",
              "      <th>2017-12-09 10:59:59</th>\n",
              "      <td>90.677361</td>\n",
              "      <td>90.677361</td>\n",
              "    </tr>\n",
              "    <tr>\n",
              "      <th>2017-12-09 11:59:59</th>\n",
              "      <td>89.574376</td>\n",
              "      <td>89.574376</td>\n",
              "    </tr>\n",
              "    <tr>\n",
              "      <th>2017-12-09 12:59:59</th>\n",
              "      <td>87.724007</td>\n",
              "      <td>87.724007</td>\n",
              "    </tr>\n",
              "    <tr>\n",
              "      <th>2017-12-09 13:59:59</th>\n",
              "      <td>88.890579</td>\n",
              "      <td>88.890579</td>\n",
              "    </tr>\n",
              "  </tbody>\n",
              "</table>\n",
              "<p>14579 rows × 2 columns</p>\n",
              "</div>"
            ],
            "text/plain": [
              "                     rougher.output.recovery  our_recovery\n",
              "date                                                      \n",
              "2016-01-15 00:00:00                87.107763     87.107763\n",
              "2016-01-15 01:00:00                86.843261     86.843261\n",
              "2016-01-15 02:00:00                86.842308     86.842308\n",
              "2016-01-15 03:00:00                87.226430     87.226430\n",
              "2016-01-15 04:00:00                86.688794     86.688794\n",
              "...                                      ...           ...\n",
              "2017-12-09 09:59:59                87.684717     87.684717\n",
              "2017-12-09 10:59:59                90.677361     90.677361\n",
              "2017-12-09 11:59:59                89.574376     89.574376\n",
              "2017-12-09 12:59:59                87.724007     87.724007\n",
              "2017-12-09 13:59:59                88.890579     88.890579\n",
              "\n",
              "[14579 rows x 2 columns]"
            ]
          },
          "execution_count": 155,
          "metadata": {},
          "output_type": "execute_result"
        }
      ],
      "source": [
        "train = train.apply(get_recovery,axis=1)\n",
        "train[['rougher.output.recovery','our_recovery']]"
      ]
    },
    {
      "cell_type": "code",
      "execution_count": null,
      "metadata": {
        "id": "VjNSSglGfwfq",
        "outputId": "b205987a-0117-4935-853b-195d604395e2"
      },
      "outputs": [
        {
          "data": {
            "text/plain": [
              "'0.00000000000000983759'"
            ]
          },
          "execution_count": 156,
          "metadata": {},
          "output_type": "execute_result"
        }
      ],
      "source": [
        "mae = mean_absolute_error(train['rougher.output.recovery'], train['our_recovery'])\n",
        "'{0:.20f}'.format(mae)"
      ]
    },
    {
      "cell_type": "markdown",
      "metadata": {
        "id": "9-Aes9SMfwfq"
      },
      "source": [
        "Средняя абсолютная ошибка стремится к нулю, поэтому расчет произведен правильно. Теперь можем удалить ненужный столбец, который был создан для наглядности."
      ]
    },
    {
      "cell_type": "code",
      "execution_count": null,
      "metadata": {
        "id": "OVdZoapffwfq"
      },
      "outputs": [],
      "source": [
        "train = train.drop('our_recovery', axis=1)"
      ]
    },
    {
      "cell_type": "markdown",
      "metadata": {
        "id": "d9JqnsWSfwfq"
      },
      "source": [
        "Теперь исследуем признаки, недоступные для тестовой выборки."
      ]
    },
    {
      "cell_type": "code",
      "execution_count": null,
      "metadata": {
        "id": "_hZ65qg-fwfq",
        "outputId": "273f356b-ddf7-465d-8d21-ea08ac885b06"
      },
      "outputs": [
        {
          "data": {
            "text/plain": [
              "['rougher.calculation.sulfate_to_au_concentrate',\n",
              " 'rougher.calculation.floatbank10_sulfate_to_au_feed',\n",
              " 'rougher.calculation.floatbank11_sulfate_to_au_feed',\n",
              " 'rougher.calculation.au_pb_ratio',\n",
              " 'rougher.output.concentrate_au',\n",
              " 'rougher.output.concentrate_ag',\n",
              " 'rougher.output.concentrate_pb',\n",
              " 'rougher.output.concentrate_sol',\n",
              " 'rougher.output.recovery',\n",
              " 'rougher.output.tail_au',\n",
              " 'rougher.output.tail_ag',\n",
              " 'rougher.output.tail_pb',\n",
              " 'rougher.output.tail_sol',\n",
              " 'primary_cleaner.output.concentrate_au',\n",
              " 'primary_cleaner.output.concentrate_ag',\n",
              " 'primary_cleaner.output.concentrate_pb',\n",
              " 'primary_cleaner.output.concentrate_sol',\n",
              " 'primary_cleaner.output.tail_au',\n",
              " 'primary_cleaner.output.tail_ag',\n",
              " 'primary_cleaner.output.tail_pb',\n",
              " 'primary_cleaner.output.tail_sol',\n",
              " 'secondary_cleaner.output.tail_au',\n",
              " 'secondary_cleaner.output.tail_ag',\n",
              " 'secondary_cleaner.output.tail_pb',\n",
              " 'secondary_cleaner.output.tail_sol',\n",
              " 'final.output.concentrate_au',\n",
              " 'final.output.concentrate_ag',\n",
              " 'final.output.concentrate_pb',\n",
              " 'final.output.concentrate_sol',\n",
              " 'final.output.recovery',\n",
              " 'final.output.tail_au',\n",
              " 'final.output.tail_ag',\n",
              " 'final.output.tail_pb',\n",
              " 'final.output.tail_sol']"
            ]
          },
          "execution_count": 158,
          "metadata": {},
          "output_type": "execute_result"
        }
      ],
      "source": [
        "another_columns = [i for i in train.columns if i not in test.columns]\n",
        "another_columns"
      ]
    },
    {
      "cell_type": "markdown",
      "metadata": {
        "id": "lGbfc6wnfwfq"
      },
      "source": [
        "Отсутствующие признаки в основном - это tail и concentrate(выходные данные на разных этапах очистки). Скорее всего, эти данные нельзя получить из-за самого процесса производства, поэтому мы их не будем брать. Также их нужно будет удалить из обучающей выборки, это я сделаю позже. Также отсутствуют оба целевых признака в тестовой выборке - rougher.output.recovery и final.output.recovery. Их я добавлю также позже."
      ]
    },
    {
      "cell_type": "markdown",
      "metadata": {
        "id": "kzGw0ndkfwfq"
      },
      "source": [
        "ТЕПЕРЬ ПЕРЕЙДЕМ К ПРЕДОБРАБОТКЕ ДАННЫХ."
      ]
    },
    {
      "cell_type": "code",
      "execution_count": null,
      "metadata": {
        "id": "QGZKWaTGfwfq",
        "outputId": "18d8cb04-a40f-4e7d-a02d-623e0725774e"
      },
      "outputs": [
        {
          "data": {
            "text/plain": [
              "0"
            ]
          },
          "metadata": {},
          "output_type": "display_data"
        },
        {
          "data": {
            "text/plain": [
              "0"
            ]
          },
          "metadata": {},
          "output_type": "display_data"
        },
        {
          "data": {
            "text/plain": [
              "0"
            ]
          },
          "metadata": {},
          "output_type": "display_data"
        }
      ],
      "source": [
        "display(train.duplicated().sum())\n",
        "display(test.duplicated().sum())\n",
        "display(data.duplicated().sum())"
      ]
    },
    {
      "cell_type": "markdown",
      "metadata": {
        "id": "DZONL9OJfwfq"
      },
      "source": [
        "Дубликатов не обнаружено."
      ]
    },
    {
      "cell_type": "code",
      "execution_count": null,
      "metadata": {
        "id": "noQEgCgWfwfq"
      },
      "outputs": [],
      "source": [
        "data = data.ffill()\n",
        "train = train.ffill()\n",
        "test = test.ffill()"
      ]
    },
    {
      "cell_type": "markdown",
      "metadata": {
        "id": "EODQaQzSfwfq"
      },
      "source": [
        "В условии сказано, что соседние по времени параметры часто похожи, поэтому заполним пропуски соседними значениями с помощью метода ffill. Благодаря этому методу происходит заполнение пропущенных значений в данных, при котором пропущенные значения заменяются ближайшими доступными значениями из предыдущих наблюдений."
      ]
    },
    {
      "cell_type": "markdown",
      "metadata": {
        "id": "HGmGw49ofwfq"
      },
      "source": [
        "ВЫВОД: В этой части задания я ознакомилась с данными в трех датасетах. Мной было выявлено, что во всех трех датасетах во многих признаках есть пропуски, в тестовом датасете отсутствует 34 признака, которые есть в полном и обучающем датасете. Я проверила правильность расчета эффективности обогащения при помощи подсчета MAE - ошибки в расчетах нет. Также исследовала неиспользованные в тестовом датасете признаки. Пропуски заменила во всех трех датасетах при помощи метода ffill."
      ]
    },
    {
      "cell_type": "markdown",
      "metadata": {
        "id": "xAzm6KlWfwfq"
      },
      "source": [
        "## Анализ данных"
      ]
    },
    {
      "cell_type": "markdown",
      "metadata": {
        "id": "Nd2Di93Vfwfq"
      },
      "source": [
        "ПЕРЕЙДЕМ К АНАЛИЗУ ДАННЫХ."
      ]
    },
    {
      "cell_type": "code",
      "execution_count": null,
      "metadata": {
        "id": "yr3UtNwXfwfq"
      },
      "outputs": [],
      "source": [
        "metal_au = data[['rougher.input.feed_au', 'rougher.output.concentrate_au', 'primary_cleaner.output.concentrate_au', 'final.output.concentrate_au']]\n",
        "metal_ag = data[['rougher.input.feed_ag', 'rougher.output.concentrate_ag', 'primary_cleaner.output.concentrate_ag', 'final.output.concentrate_ag']]\n",
        "metal_pb = data[['rougher.input.feed_pb', 'rougher.output.concentrate_pb', 'primary_cleaner.output.concentrate_pb', 'final.output.concentrate_pb']]"
      ]
    },
    {
      "cell_type": "code",
      "execution_count": null,
      "metadata": {
        "id": "QeL1SCSAfwfq",
        "outputId": "00c2c4b5-201c-4bf0-97a6-43097d93816b"
      },
      "outputs": [
        {
          "name": "stderr",
          "output_type": "stream",
          "text": [
            "/opt/conda/lib/python3.9/site-packages/seaborn/distributions.py:2557: FutureWarning: `distplot` is a deprecated function and will be removed in a future version. Please adapt your code to use either `displot` (a figure-level function with similar flexibility) or `histplot` (an axes-level function for histograms).\n",
            "  warnings.warn(msg, FutureWarning)\n"
          ]
        },
        {
          "data": {
            "image/png": "[encoded data removed]",
            "text/plain": [
              "<Figure size 720x1440 with 3 Axes>"
            ]
          },
          "metadata": {
            "needs_background": "light"
          },
          "output_type": "display_data"
        }
      ],
      "source": [
        "fig, axes = plt.subplots(3, 1, figsize=(10, 20))\n",
        "for column in list(metal_au):\n",
        "    sns.distplot(metal_au[column], ax=axes[0], kde=False)\n",
        "axes[0].set(title=\"Au\", xlabel='Концентрация в %', ylabel='Количество')\n",
        "for column in list(metal_ag):\n",
        "    sns.distplot(metal_ag[column], ax=axes[1], kde=False)\n",
        "axes[1].set(title=\"Ag\", xlabel='Концентрация в %', ylabel='Количество')\n",
        "for column in list(metal_pb):\n",
        "    sns.distplot(metal_pb[column], ax=axes[2], kde=False)\n",
        "axes[2].set(title=\"Pb\", xlabel='Концентрация в %', ylabel='Количество')\n",
        "fig.suptitle('Концентрация металлов на разных стадиях очистки')\n",
        "fig.legend(['rougher.input.feed', 'rougher.output.concentrate', 'primary.cleaner.output concentrate', 'final.output.concentrate',])\n",
        "fig.show()"
      ]
    },
    {
      "cell_type": "markdown",
      "metadata": {
        "id": "LUnQD4NCfwfq"
      },
      "source": [
        "Концентрация Au равномерно увеличивается на протяжении всей стадии очистки обработки. Концентрация Ag, наоборот, уменьшается на протяжении всех стадиях обработки. Концентрация Pb незначительно увеличивается, а потом остается на уровне первичной очистки."
      ]
    },
    {
      "cell_type": "code",
      "execution_count": null,
      "metadata": {
        "id": "9x-WFoIifwfr",
        "outputId": "52d45856-5849-450d-b0f9-eb98ccc84bf5"
      },
      "outputs": [
        {
          "data": {
            "image/png": "[encoded data removed]",
            "text/plain": [
              "<Figure size 720x1080 with 2 Axes>"
            ]
          },
          "metadata": {
            "needs_background": "light"
          },
          "output_type": "display_data"
        }
      ],
      "source": [
        "fig, axes = plt.subplots(2,1, figsize=(10, 15))\n",
        "axes[1].hist(train['rougher.input.feed_size'], density=True, alpha=0.5, bins=50)\n",
        "axes[1].hist(test['rougher.input.feed_size'], density=True, alpha=0.5, bins=50)\n",
        "axes[1].set(title='Флотация', xlabel='Amount', ylabel='Size')\n",
        "axes[0].hist(train['primary_cleaner.input.feed_size'], density=True, alpha=0.5, bins=50)\n",
        "axes[0].hist(test['primary_cleaner.input.feed_size'], density=True, alpha=0.5, bins=50)\n",
        "axes[0].set(title='Первичная очистка', xlabel='Amount', ylabel='Size')\n",
        "fig.suptitle('Распределения размеров гранул сырья')\n",
        "fig.legend(['Train', 'Test'])\n",
        "fig.show()"
      ]
    },
    {
      "cell_type": "markdown",
      "metadata": {
        "id": "oi5sOhzDfwfr"
      },
      "source": [
        "Распределения размеров гранул сырья на обучающей и тестовой выборках выглядят похожими, поэтому оценка модели должна быть правильной."
      ]
    },
    {
      "cell_type": "code",
      "execution_count": null,
      "metadata": {
        "id": "HYzHDkisfwfr",
        "outputId": "f67e3cef-ae05-4800-96a7-619426bcadc0"
      },
      "outputs": [
        {
          "data": {
            "image/png": "[encoded data removed]",
            "text/plain": [
              "<Figure size 1440x432 with 1 Axes>"
            ]
          },
          "metadata": {
            "needs_background": "light"
          },
          "output_type": "display_data"
        }
      ],
      "source": [
        "stages_concentrate = ['rougher.input.feed_', 'rougher.output.concentrate_','primary_cleaner.output.concentrate_', 'final.output.concentrate_']\n",
        "fig, ax = plt.subplots(figsize=(20, 6))\n",
        "fig.suptitle('Суммарные концентрации', fontsize=24)\n",
        "colors = ['blue', 'orange', 'green', 'red']\n",
        "for stage, color in zip(stages_concentrate, colors):\n",
        "    sum_train = train[stage+ 'ag'] + train[stage+ 'au'] + train[stage+ 'pb']\n",
        "    sns.histplot(sum_train.dropna(), label=stage, color=color, kde=True, stat=\"density\", linewidth=1, ax=ax)\n",
        "ax.legend()\n",
        "plt.show()"
      ]
    },
    {
      "cell_type": "markdown",
      "metadata": {
        "id": "kVFYaOI_fwfr"
      },
      "source": [
        "Суммарная концентрация веществ увеличивается - это значит, что очистка от возможных примесей идет эффективно. Как видно на графиках, все распределения концентрации на различных стадиях показывают аномальные значения при 0. Уберем значения в нуле: будем считать всплеск в раойне 0 - аномалией. Сначала проверим количество пропусков."
      ]
    },
    {
      "cell_type": "code",
      "execution_count": null,
      "metadata": {
        "id": "TTSglW7tfwfr",
        "outputId": "ce9e2ec1-959d-4e46-a5f4-fdc1e42ac47c"
      },
      "outputs": [
        {
          "name": "stdout",
          "output_type": "stream",
          "text": [
            "(591, 86)\n",
            "(591, 86)\n"
          ]
        }
      ],
      "source": [
        "metals = ['au', 'ag', 'pb']\n",
        "mask_df = [False]*data.shape[0]\n",
        "mask_train = [False]*train.shape[0]\n",
        "for stage in stages_concentrate:\n",
        "    ax.set_title(stage)\n",
        "    names = [stage+metal for metal in metals]\n",
        "\n",
        "    mask_df = mask_df | (data[names].sum(axis=1) == 0)\n",
        "    mask_train = mask_train | (train[names].sum(axis=1) == 0)\n",
        "\n",
        "print(data[mask_df].shape)\n",
        "print(train[mask_train].shape)"
      ]
    },
    {
      "cell_type": "markdown",
      "metadata": {
        "id": "gncdBBd8fwfr"
      },
      "source": [
        "Удалим их во всех датасетах."
      ]
    },
    {
      "cell_type": "code",
      "execution_count": null,
      "metadata": {
        "id": "M1HIVKCxfwfr"
      },
      "outputs": [],
      "source": [
        "test_mask = test.index.isin(data[mask_df].index)"
      ]
    },
    {
      "cell_type": "code",
      "execution_count": null,
      "metadata": {
        "id": "DxkrQgjwfwfr"
      },
      "outputs": [],
      "source": [
        "test = test.drop(test[test.index.isin(data[mask_df].index)].index)\n",
        "\n",
        "train = train.drop(train[mask_train].index)\n",
        "\n",
        "data =  data.drop(data[mask_df].index)"
      ]
    },
    {
      "cell_type": "markdown",
      "metadata": {
        "id": "5oXboTE3fwfr"
      },
      "source": [
        "Проверим,что мы все сделали правильно."
      ]
    },
    {
      "cell_type": "code",
      "execution_count": null,
      "metadata": {
        "id": "psTHJu94fwfr",
        "outputId": "36a81eed-eef0-448d-de60-0e465520c029"
      },
      "outputs": [
        {
          "name": "stdout",
          "output_type": "stream",
          "text": [
            "(18848, 86)\n",
            "(13988, 86)\n",
            "(4860, 52)\n",
            "18848 18848\n"
          ]
        }
      ],
      "source": [
        "print(data.shape, train.shape, test.shape, sep='\\n')\n",
        "print(data.shape[0], train.shape[0] + test.shape[0])"
      ]
    },
    {
      "cell_type": "markdown",
      "metadata": {
        "id": "45U3eUhSfwfr"
      },
      "source": [
        "ВЫВОД: В этом блоке заданий я исследовала данные в основном при помощи графиков.Я посмотрела как меняется концентрация металлов на различных этапах очистки(Au увеличивается, Ag снижается, Pb незначительно увеличивается). Сравнила распределение размеров гранул исходного сырья на обучающей и тестовой выборках - они оказались похожими. Исследовала суммарную концентрацию металлов на разных стадиях, очистка идет эффективно, нашла аномалии в значении 0, я их удалила."
      ]
    },
    {
      "cell_type": "markdown",
      "metadata": {
        "id": "-Op6EAf8fwfr"
      },
      "source": [
        "## Модель"
      ]
    },
    {
      "cell_type": "markdown",
      "metadata": {
        "id": "XNTPYGznfwfs"
      },
      "source": [
        "ИТОГОВАЯ ФУНКЦИЯ sMAPE:"
      ]
    },
    {
      "cell_type": "code",
      "execution_count": null,
      "metadata": {
        "id": "mX9NdYwrfwft"
      },
      "outputs": [],
      "source": [
        "def sMAPE(target, predict):\n",
        "    target = target.to_numpy()\n",
        "    total = 0\n",
        "    for y in range(len(target)):\n",
        "        total += abs(target[y, 0] - predict[y, 0]) / (abs(target[y, 0] + predict[y, 0]) / 2)\n",
        "    sMAPE_1 = total / len(target) * 100\n",
        "\n",
        "    total = 0\n",
        "    for y in range(len(target)):\n",
        "        total += abs(target[y, 1] - predict[y, 1]) / (abs(target[y, 1] + predict[y, 1]) / 2)\n",
        "    sMAPE_2 = total / len(target) * 100\n",
        "\n",
        "    return 0.25 * sMAPE_1 + 0.75 * sMAPE_2"
      ]
    },
    {
      "cell_type": "code",
      "execution_count": null,
      "metadata": {
        "id": "johTnu3Afwft"
      },
      "outputs": [],
      "source": [
        "smape_scorer = make_scorer(sMAPE, greater_is_better=False)"
      ]
    },
    {
      "cell_type": "markdown",
      "metadata": {
        "id": "igt_TN_Ffwft"
      },
      "source": [
        "Параметр greater_is_better=False указывает на то, что чем меньше значение метрики, тем лучше качество модели."
      ]
    },
    {
      "cell_type": "markdown",
      "metadata": {
        "id": "w6ew3hklfwft"
      },
      "source": [
        "Удалим из train недоступные для test признаки. Разделим датасеты на features и target для обучения модели."
      ]
    },
    {
      "cell_type": "code",
      "execution_count": null,
      "metadata": {
        "id": "db9jJpmZfwft"
      },
      "outputs": [],
      "source": [
        "train_features = train.drop(another_columns, axis=1)\n",
        "train_target = train[['rougher.output.recovery', 'final.output.recovery']]"
      ]
    },
    {
      "cell_type": "code",
      "execution_count": null,
      "metadata": {
        "id": "8y3SforQfwft",
        "outputId": "f4bdb102-a8da-4e32-94a6-57623756b87d"
      },
      "outputs": [
        {
          "name": "stdout",
          "output_type": "stream",
          "text": [
            "(13988, 52)\n",
            "(13988, 2)\n"
          ]
        }
      ],
      "source": [
        "print(train_features.shape)\n",
        "print(train_target.shape)"
      ]
    },
    {
      "cell_type": "markdown",
      "metadata": {
        "id": "Ap4Adottfwft"
      },
      "source": [
        "Сделали проверку."
      ]
    },
    {
      "cell_type": "code",
      "execution_count": null,
      "metadata": {
        "id": "989AQlHOfwft"
      },
      "outputs": [],
      "source": [
        "scaler = StandardScaler()\n",
        "scaler.fit(train_features)\n",
        "train_features = scaler.transform(train_features)"
      ]
    },
    {
      "cell_type": "markdown",
      "metadata": {
        "id": "6lWu_dHmfwft"
      },
      "source": [
        "Используем Scaler для обучения и масштабирования признаков на обучающей выборке."
      ]
    },
    {
      "cell_type": "code",
      "execution_count": null,
      "metadata": {
        "id": "eMd05WSBfwft"
      },
      "outputs": [],
      "source": [
        "test_features = test\n",
        "test_target = data[data.index.isin(test.index)][['rougher.output.recovery', 'final.output.recovery']]"
      ]
    },
    {
      "cell_type": "code",
      "execution_count": null,
      "metadata": {
        "id": "_oRU_qKRfwft",
        "outputId": "9665c4ce-bd01-45e3-9306-e426eea65ebd"
      },
      "outputs": [
        {
          "name": "stdout",
          "output_type": "stream",
          "text": [
            "(4860, 52)\n",
            "(4860, 2)\n"
          ]
        }
      ],
      "source": [
        "print(test_features.shape)\n",
        "print(test_target.shape)"
      ]
    },
    {
      "cell_type": "code",
      "execution_count": null,
      "metadata": {
        "id": "6MLN0prffwft"
      },
      "outputs": [],
      "source": [
        "test_features = scaler.transform(test_features)"
      ]
    },
    {
      "cell_type": "markdown",
      "metadata": {
        "id": "MZg14Bk9fwft"
      },
      "source": [
        "Также масштабируем для тестовой выборки."
      ]
    },
    {
      "cell_type": "markdown",
      "metadata": {
        "id": "MnLPsxY-fwft"
      },
      "source": [
        "Переходим к сравниванию моделей."
      ]
    },
    {
      "cell_type": "code",
      "execution_count": null,
      "metadata": {
        "id": "R6ZJQdhBfwft",
        "outputId": "89bba576-4b7b-430c-87e9-0239b4688029"
      },
      "outputs": [
        {
          "name": "stdout",
          "output_type": "stream",
          "text": [
            "Средняя оценка качества модели: 8.868239156986029\n"
          ]
        }
      ],
      "source": [
        "model = LinearRegression()\n",
        "scores = -1 * cross_val_score(model, train_features, train_target, scoring=smape_scorer, cv=5)\n",
        "final_score = scores.mean()\n",
        "print('Средняя оценка качества модели:', final_score)"
      ]
    },
    {
      "cell_type": "markdown",
      "metadata": {
        "id": "62X7XR2-fwft"
      },
      "source": [
        "Используем кроссвалидацию для модели линейной регрессии и считаем sMAPE. Делаем тоже самое для других моделей. Нас интересует модель с наименьшей метрикой sMAPE."
      ]
    },
    {
      "cell_type": "code",
      "execution_count": null,
      "metadata": {
        "id": "GOVLWYhefwft",
        "outputId": "d22367f0-9af7-4078-93e6-e0ece4ab1f24"
      },
      "outputs": [
        {
          "name": "stderr",
          "output_type": "stream",
          "text": [
            "100%|██████████| 10/10 [00:18<00:00,  1.83s/it]"
          ]
        },
        {
          "name": "stdout",
          "output_type": "stream",
          "text": [
            "Средняя оценка качества модели: 8.654327841240328\n"
          ]
        },
        {
          "name": "stderr",
          "output_type": "stream",
          "text": [
            "\n"
          ]
        }
      ],
      "source": [
        "best_depth_t = 0\n",
        "final_score_b = 1000\n",
        "for depth in tqdm(range(2, 12)):\n",
        "    model = DecisionTreeRegressor(random_state=12345, max_depth=depth)\n",
        "    scores = -1 * cross_val_score(model, train_features, train_target, scoring=smape_scorer, cv=5)\n",
        "    final_score = scores.mean()\n",
        "    if final_score < final_score_b:\n",
        "        final_score_b = final_score\n",
        "        best_depth_t = depth\n",
        "tree_best = {'depth':best_depth_t}\n",
        "print('Средняя оценка качества модели:', final_score_b)"
      ]
    },
    {
      "cell_type": "code",
      "execution_count": null,
      "metadata": {
        "id": "gi77RyDZfwfu",
        "outputId": "78ab9ed9-1e89-4e96-82aa-5166aa27cf2f"
      },
      "outputs": [
        {
          "name": "stderr",
          "output_type": "stream",
          "text": [
            "100%|██████████| 5/5 [17:14<00:00, 206.97s/it]"
          ]
        },
        {
          "name": "stdout",
          "output_type": "stream",
          "text": [
            "Средняя оценка качества модели: 8.519714782589658\n"
          ]
        },
        {
          "name": "stderr",
          "output_type": "stream",
          "text": [
            "\n"
          ]
        }
      ],
      "source": [
        "best_depth_f = 0\n",
        "best_est_f = 0\n",
        "final_score_b = 1000\n",
        "for est in tqdm(range(10, 51, 10)):\n",
        "    for depth in range (3, 10):\n",
        "        model = RandomForestRegressor(random_state=12345, n_estimators=est, max_depth=depth)\n",
        "        scores = -1 * cross_val_score(model, train_features, train_target, scoring=smape_scorer, cv=5)\n",
        "        final_score = scores.mean()\n",
        "        if final_score < final_score_b:\n",
        "            final_score_b = final_score\n",
        "            best_est_f = est\n",
        "            best_depth_f = depth\n",
        "forest_best = {'depth':best_depth_f, 'n_estimators':best_est_f}\n",
        "print('Средняя оценка качества модели:', final_score_b)"
      ]
    },
    {
      "cell_type": "code",
      "execution_count": null,
      "metadata": {
        "id": "Gxl6Nwo_fwfu",
        "outputId": "92bb54ae-9c59-4cea-956e-4d3258b35765"
      },
      "outputs": [
        {
          "data": {
            "text/plain": [
              "{'depth': 3, 'n_estimators': 50}"
            ]
          },
          "execution_count": 178,
          "metadata": {},
          "output_type": "execute_result"
        }
      ],
      "source": [
        "forest_best"
      ]
    },
    {
      "cell_type": "markdown",
      "metadata": {
        "id": "zVZl1XUZfwfu"
      },
      "source": [
        "Чем меньше sMAPE, тем лучше качество модели, поэтому наилучшей себя показала модель RandomForestRegressor c параметрами depth = 3 и n_estimators = 50. Попробуем ее на тестовой выборке."
      ]
    },
    {
      "cell_type": "code",
      "execution_count": null,
      "metadata": {
        "id": "l7ZTsTZTfwfu",
        "outputId": "95726226-5d07-4eca-be4d-b7e23402e8ac"
      },
      "outputs": [
        {
          "name": "stdout",
          "output_type": "stream",
          "text": [
            "Итоговый sMAPE на тестовой выборке: 7.450062697489406\n"
          ]
        }
      ],
      "source": [
        "model = RandomForestRegressor(random_state=12345,\n",
        "                              n_estimators=forest_best['n_estimators'],\n",
        "                              max_depth=forest_best['depth'])\n",
        "model.fit(train_features, train_target)\n",
        "predicted = model.predict(test_features)\n",
        "sMAPE_test = sMAPE(test_target, predicted)\n",
        "print('Итоговый sMAPE на тестовой выборке:', sMAPE_test)"
      ]
    },
    {
      "cell_type": "markdown",
      "metadata": {
        "id": "bIubmm1Dfwfu"
      },
      "source": [
        "Проведем проверку на константной модели."
      ]
    },
    {
      "cell_type": "code",
      "execution_count": null,
      "metadata": {
        "id": "ljeVusI_fwfu",
        "outputId": "768ea6dc-444e-4a8c-8794-19128fbe07d9"
      },
      "outputs": [
        {
          "name": "stdout",
          "output_type": "stream",
          "text": [
            "Итоговый sMAPE на константной модели: 8.472648251321264\n"
          ]
        }
      ],
      "source": [
        "dummy_regr = DummyRegressor(strategy=\"mean\")\n",
        "dummy_regr.fit(train_features,train_target)\n",
        "predicted_dummy = dummy_regr.predict(test_features)\n",
        "\n",
        "sMAPE_dummy = sMAPE(test_target, predicted_dummy)\n",
        "print('Итоговый sMAPE на константной модели:', sMAPE_dummy)"
      ]
    },
    {
      "cell_type": "markdown",
      "metadata": {
        "id": "I3Im9wr7fwfu"
      },
      "source": [
        "Итоговый sMAPE на тестовой выборке - 7.45. Проверка адекватности модели - sMAPE при DummyRegressor - 8.47.\n",
        "Модель на тестовой выборке превосходит константную модель по медиане. Значит такую модель можно использовать."
      ]
    },
    {
      "cell_type": "markdown",
      "metadata": {
        "id": "ySbT96oDfwfu"
      },
      "source": [
        "ОБЩИЙ ВЫВОД: Был проделан большой путь. Еще раз напомню, что было сделано.\n",
        "\n",
        "- Внимательно ознакомилась с данными.\n",
        "\n",
        "- Проверила, что эффективность обогащения рассчитана правильно, т.к. MAE между нашими расчётами и значением признака стремится к нулю.\n",
        "\n",
        "- В тестовой выборке отсутствуют признаки, которые невозможно получить из-за технологического процесса (tail, concentrate, некоторые calculation и output). Также в тестовой выборке отсутствовали целевые признаки.\n",
        "\n",
        "- Проверила отсутствие дубликатов и заменила пропуски во всех трех датасетах с помощью метода ffill.\n",
        "\n",
        "- Проанализировала изменение концентрация металлов (Au, Ag, Pb) на различных этапах очистки. На финальной стадии очень много выбросов. Больше всего выбросов наблюдается у золота как на первычной очистке, так и на финальной очистке. Еще можно выделить возрастание концентрации золота на финальной очистке.\n",
        "\n",
        "- При сравнении распределения размеров гранул сырья на обучающей и тестовой выборках выявила, что распределение обучающей и тестовой выборки можно считать близкими по значению, они практически совпадают.\n",
        "\n",
        "- Исследовала суммарную концентрацию всех веществ на разных стадиях: в сырье, в черновом и финальном концентратах. Суммарная концентрация веществ увеличивается с течением процесса обогащения, т.к. при обработке вымываются лишние примеси.\n",
        "\n",
        "- Написала функцию для вычисления sMAPE.\n",
        "\n",
        "- Подобрала лучшую модель,оценила ее качество кросс-валидацией и сравнила с константной моделью. Лучшая модель - RandomForestRegression с параметрами depth = 3 и n_estimators = 50."
      ]
    },
    {
      "cell_type": "code",
      "execution_count": null,
      "metadata": {
        "id": "P7k0gN1Yfwfv"
      },
      "outputs": [],
      "source": []
    }
  ],
  "metadata": {
    "ExecuteTimeLog": [
      {
        "duration": 1747,
        "start_time": "2023-08-01T09:49:27.084Z"
      },
      {
        "duration": 4,
        "start_time": "2023-08-01T09:50:20.523Z"
      },
      {
        "duration": 177,
        "start_time": "2023-08-01T09:59:49.005Z"
      },
      {
        "duration": 85,
        "start_time": "2023-08-01T09:59:54.655Z"
      },
      {
        "duration": 70,
        "start_time": "2023-08-01T09:59:56.106Z"
      },
      {
        "duration": 5,
        "start_time": "2023-08-01T10:00:09.606Z"
      },
      {
        "duration": 82,
        "start_time": "2023-08-01T10:00:12.728Z"
      },
      {
        "duration": 86,
        "start_time": "2023-08-01T10:00:35.353Z"
      },
      {
        "duration": 127,
        "start_time": "2023-08-01T10:00:58.384Z"
      },
      {
        "duration": 1318,
        "start_time": "2023-08-01T10:01:02.822Z"
      },
      {
        "duration": 346,
        "start_time": "2023-08-01T10:01:25.365Z"
      },
      {
        "duration": 353,
        "start_time": "2023-08-01T10:02:53.425Z"
      },
      {
        "duration": 1712,
        "start_time": "2023-08-01T10:03:00.968Z"
      },
      {
        "duration": 497,
        "start_time": "2023-08-01T10:03:18.511Z"
      },
      {
        "duration": 523,
        "start_time": "2023-08-01T10:03:40.659Z"
      },
      {
        "duration": 12,
        "start_time": "2023-08-01T10:07:29.320Z"
      },
      {
        "duration": 416,
        "start_time": "2023-08-01T10:07:47.973Z"
      },
      {
        "duration": 5,
        "start_time": "2023-08-01T10:07:54.135Z"
      },
      {
        "duration": 243,
        "start_time": "2023-08-01T10:17:09.338Z"
      },
      {
        "duration": 121,
        "start_time": "2023-08-01T10:17:40.716Z"
      },
      {
        "duration": 5,
        "start_time": "2023-08-01T10:17:45.253Z"
      },
      {
        "duration": 154,
        "start_time": "2023-08-01T10:26:13.333Z"
      },
      {
        "duration": 5,
        "start_time": "2023-08-01T10:39:08.425Z"
      },
      {
        "duration": 1627,
        "start_time": "2023-08-01T10:40:06.008Z"
      },
      {
        "duration": 9,
        "start_time": "2023-08-01T10:41:35.343Z"
      },
      {
        "duration": 49,
        "start_time": "2023-08-01T10:43:16.329Z"
      },
      {
        "duration": 17,
        "start_time": "2023-08-01T10:43:42.284Z"
      },
      {
        "duration": 8,
        "start_time": "2023-08-01T10:43:52.269Z"
      },
      {
        "duration": 6,
        "start_time": "2023-08-01T10:44:45.103Z"
      },
      {
        "duration": 7,
        "start_time": "2023-08-01T10:45:13.778Z"
      },
      {
        "duration": 9,
        "start_time": "2023-08-01T10:48:44.103Z"
      },
      {
        "duration": 6,
        "start_time": "2023-08-01T10:49:03.813Z"
      },
      {
        "duration": 435,
        "start_time": "2023-08-01T10:49:05.273Z"
      },
      {
        "duration": 329,
        "start_time": "2023-08-01T10:49:05.710Z"
      },
      {
        "duration": 116,
        "start_time": "2023-08-01T10:49:06.698Z"
      },
      {
        "duration": 5,
        "start_time": "2023-08-01T10:49:07.430Z"
      },
      {
        "duration": 6,
        "start_time": "2023-08-01T10:49:09.191Z"
      },
      {
        "duration": 10472,
        "start_time": "2023-08-01T10:49:10.156Z"
      },
      {
        "duration": 5,
        "start_time": "2023-08-01T10:49:20.630Z"
      },
      {
        "duration": 4,
        "start_time": "2023-08-01T10:49:38.529Z"
      },
      {
        "duration": 447,
        "start_time": "2023-08-01T10:49:41.473Z"
      },
      {
        "duration": 382,
        "start_time": "2023-08-01T10:49:42.998Z"
      },
      {
        "duration": 114,
        "start_time": "2023-08-01T10:49:43.555Z"
      },
      {
        "duration": 4,
        "start_time": "2023-08-01T10:49:44.636Z"
      },
      {
        "duration": 4,
        "start_time": "2023-08-01T10:49:46.713Z"
      },
      {
        "duration": 10444,
        "start_time": "2023-08-01T10:49:47.895Z"
      },
      {
        "duration": 17,
        "start_time": "2023-08-01T10:49:58.341Z"
      },
      {
        "duration": 5,
        "start_time": "2023-08-01T10:51:02.146Z"
      },
      {
        "duration": 12,
        "start_time": "2023-08-01T10:51:03.254Z"
      },
      {
        "duration": 53,
        "start_time": "2023-08-01T10:53:00.198Z"
      },
      {
        "duration": 12074,
        "start_time": "2023-08-01T10:57:30.701Z"
      },
      {
        "duration": 123,
        "start_time": "2023-08-01T10:57:47.904Z"
      },
      {
        "duration": 242,
        "start_time": "2023-08-01T10:58:26.819Z"
      },
      {
        "duration": 23,
        "start_time": "2023-08-01T10:59:03.750Z"
      },
      {
        "duration": 19,
        "start_time": "2023-08-01T10:59:09.091Z"
      },
      {
        "duration": 8,
        "start_time": "2023-08-01T10:59:59.276Z"
      },
      {
        "duration": 5,
        "start_time": "2023-08-01T11:00:17.767Z"
      },
      {
        "duration": 433,
        "start_time": "2023-08-01T11:00:19.570Z"
      },
      {
        "duration": 342,
        "start_time": "2023-08-01T11:00:21.615Z"
      },
      {
        "duration": 108,
        "start_time": "2023-08-01T11:00:22.297Z"
      },
      {
        "duration": 5,
        "start_time": "2023-08-01T11:00:25.032Z"
      },
      {
        "duration": 6,
        "start_time": "2023-08-01T11:00:25.893Z"
      },
      {
        "duration": 11412,
        "start_time": "2023-08-01T11:00:29.147Z"
      },
      {
        "duration": 6,
        "start_time": "2023-08-01T11:00:40.561Z"
      },
      {
        "duration": 7,
        "start_time": "2023-08-01T11:00:45.383Z"
      },
      {
        "duration": 38,
        "start_time": "2023-08-01T11:00:46.763Z"
      },
      {
        "duration": 6,
        "start_time": "2023-08-01T11:00:47.884Z"
      },
      {
        "duration": 327,
        "start_time": "2023-08-01T11:00:49.080Z"
      },
      {
        "duration": 10,
        "start_time": "2023-08-01T11:00:50.824Z"
      },
      {
        "duration": 12,
        "start_time": "2023-08-01T11:10:37.069Z"
      },
      {
        "duration": 23,
        "start_time": "2023-08-01T11:10:44.066Z"
      },
      {
        "duration": 180,
        "start_time": "2023-08-01T11:11:31.179Z"
      },
      {
        "duration": 14,
        "start_time": "2023-08-01T11:12:27.450Z"
      },
      {
        "duration": 20,
        "start_time": "2023-08-01T11:12:35.408Z"
      },
      {
        "duration": 13,
        "start_time": "2023-08-01T11:12:36.150Z"
      },
      {
        "duration": 244,
        "start_time": "2023-08-01T11:12:43.020Z"
      },
      {
        "duration": 6,
        "start_time": "2023-08-01T11:12:46.681Z"
      },
      {
        "duration": 10091,
        "start_time": "2023-08-01T11:17:29.392Z"
      },
      {
        "duration": 24,
        "start_time": "2023-08-01T11:18:13.907Z"
      },
      {
        "duration": 18,
        "start_time": "2023-08-01T11:18:36.982Z"
      },
      {
        "duration": 5,
        "start_time": "2023-08-01T11:18:41.016Z"
      },
      {
        "duration": 246,
        "start_time": "2023-08-01T11:18:44.292Z"
      },
      {
        "duration": 24,
        "start_time": "2023-08-01T11:18:47.017Z"
      },
      {
        "duration": 9,
        "start_time": "2023-08-01T11:23:19.230Z"
      },
      {
        "duration": 346,
        "start_time": "2023-08-01T11:23:19.993Z"
      },
      {
        "duration": 739,
        "start_time": "2023-08-01T11:23:55.028Z"
      },
      {
        "duration": 4,
        "start_time": "2023-08-01T11:23:57.488Z"
      },
      {
        "duration": 634,
        "start_time": "2023-08-01T11:23:58.047Z"
      },
      {
        "duration": 6707,
        "start_time": "2023-08-01T11:24:09.675Z"
      },
      {
        "duration": 12982,
        "start_time": "2023-08-01T11:24:22.179Z"
      },
      {
        "duration": 13199,
        "start_time": "2023-08-01T11:25:21.784Z"
      },
      {
        "duration": 605,
        "start_time": "2023-08-01T11:26:47.220Z"
      },
      {
        "duration": 14,
        "start_time": "2023-08-01T11:34:58.594Z"
      },
      {
        "duration": 4,
        "start_time": "2023-08-01T11:34:59.409Z"
      },
      {
        "duration": 3,
        "start_time": "2023-08-01T11:35:00.130Z"
      },
      {
        "duration": 859,
        "start_time": "2023-08-01T11:36:24.258Z"
      },
      {
        "duration": 1017,
        "start_time": "2023-08-01T11:36:30.117Z"
      },
      {
        "duration": 5086,
        "start_time": "2023-08-01T11:36:38.612Z"
      },
      {
        "duration": 13,
        "start_time": "2023-08-01T11:39:23.685Z"
      },
      {
        "duration": 1464,
        "start_time": "2023-08-01T11:39:42.192Z"
      },
      {
        "duration": 23,
        "start_time": "2023-08-01T11:56:54.471Z"
      },
      {
        "duration": 2493,
        "start_time": "2023-08-01T11:57:06.244Z"
      },
      {
        "duration": 21,
        "start_time": "2023-08-01T11:57:49.788Z"
      },
      {
        "duration": 3213,
        "start_time": "2023-08-01T11:57:50.526Z"
      },
      {
        "duration": 12,
        "start_time": "2023-08-01T12:01:51.552Z"
      },
      {
        "duration": 7,
        "start_time": "2023-08-01T12:07:07.384Z"
      },
      {
        "duration": 5,
        "start_time": "2023-08-01T12:07:14.821Z"
      },
      {
        "duration": 480,
        "start_time": "2023-08-01T12:07:33.811Z"
      },
      {
        "duration": 4,
        "start_time": "2023-08-01T12:08:06.920Z"
      },
      {
        "duration": 5,
        "start_time": "2023-08-01T14:01:11.287Z"
      },
      {
        "duration": 1947,
        "start_time": "2023-08-01T18:33:01.058Z"
      },
      {
        "duration": 1201,
        "start_time": "2023-08-01T18:33:03.007Z"
      },
      {
        "duration": 928,
        "start_time": "2023-08-01T18:33:04.629Z"
      },
      {
        "duration": 125,
        "start_time": "2023-08-01T18:33:08.978Z"
      },
      {
        "duration": 177,
        "start_time": "2023-08-01T18:33:15.384Z"
      },
      {
        "duration": 113,
        "start_time": "2023-08-01T18:33:19.394Z"
      },
      {
        "duration": 349,
        "start_time": "2023-08-01T18:33:32.792Z"
      },
      {
        "duration": 108,
        "start_time": "2023-08-01T18:33:33.424Z"
      },
      {
        "duration": 4,
        "start_time": "2023-08-01T18:33:34.430Z"
      },
      {
        "duration": 4,
        "start_time": "2023-08-01T18:34:18.793Z"
      },
      {
        "duration": 10005,
        "start_time": "2023-08-01T18:34:19.478Z"
      },
      {
        "duration": 4,
        "start_time": "2023-08-01T18:34:29.614Z"
      },
      {
        "duration": 1315,
        "start_time": "2023-08-01T18:34:39.943Z"
      },
      {
        "duration": 344,
        "start_time": "2023-08-01T18:36:16.779Z"
      },
      {
        "duration": 113,
        "start_time": "2023-08-01T18:36:19.486Z"
      },
      {
        "duration": 1703,
        "start_time": "2023-08-01T18:52:13.385Z"
      },
      {
        "duration": 4,
        "start_time": "2023-08-01T18:52:27.455Z"
      },
      {
        "duration": 426,
        "start_time": "2023-08-01T18:52:29.097Z"
      },
      {
        "duration": 323,
        "start_time": "2023-08-01T18:52:29.850Z"
      },
      {
        "duration": 113,
        "start_time": "2023-08-01T18:52:30.538Z"
      },
      {
        "duration": 3,
        "start_time": "2023-08-01T18:52:31.312Z"
      },
      {
        "duration": 4,
        "start_time": "2023-08-01T18:52:52.239Z"
      },
      {
        "duration": 9889,
        "start_time": "2023-08-01T18:52:52.973Z"
      },
      {
        "duration": 6,
        "start_time": "2023-08-01T18:53:02.865Z"
      },
      {
        "duration": 4,
        "start_time": "2023-08-01T18:53:15.633Z"
      },
      {
        "duration": 1396,
        "start_time": "2023-08-01T18:53:22.689Z"
      },
      {
        "duration": 4,
        "start_time": "2023-08-01T18:53:30.889Z"
      },
      {
        "duration": 5,
        "start_time": "2023-08-01T18:53:32.645Z"
      },
      {
        "duration": 1307,
        "start_time": "2023-08-01T18:53:36.907Z"
      },
      {
        "duration": 6,
        "start_time": "2023-08-01T18:53:39.334Z"
      },
      {
        "duration": 42,
        "start_time": "2023-08-01T18:54:20.261Z"
      },
      {
        "duration": 5,
        "start_time": "2023-08-01T18:57:00.435Z"
      },
      {
        "duration": 10,
        "start_time": "2023-08-01T18:57:12.240Z"
      },
      {
        "duration": 7,
        "start_time": "2023-08-01T18:57:18.436Z"
      },
      {
        "duration": 10,
        "start_time": "2023-08-01T18:58:30.568Z"
      },
      {
        "duration": 4,
        "start_time": "2023-08-01T18:58:35.543Z"
      },
      {
        "duration": 572,
        "start_time": "2023-08-01T19:22:23.040Z"
      },
      {
        "duration": 634,
        "start_time": "2023-08-01T19:23:20.217Z"
      },
      {
        "duration": 610,
        "start_time": "2023-08-01T19:23:35.834Z"
      },
      {
        "duration": 21,
        "start_time": "2023-08-01T19:23:53.583Z"
      },
      {
        "duration": 604,
        "start_time": "2023-08-01T19:23:59.764Z"
      },
      {
        "duration": 43,
        "start_time": "2023-08-01T19:27:03.599Z"
      },
      {
        "duration": 56,
        "start_time": "2023-08-01T19:27:08.982Z"
      },
      {
        "duration": 56,
        "start_time": "2023-08-01T19:28:12.318Z"
      },
      {
        "duration": 72,
        "start_time": "2023-08-01T19:28:27.699Z"
      },
      {
        "duration": 23,
        "start_time": "2023-08-01T19:30:01.766Z"
      },
      {
        "duration": 19,
        "start_time": "2023-08-01T19:32:52.132Z"
      },
      {
        "duration": 7,
        "start_time": "2023-08-01T20:01:00.121Z"
      },
      {
        "duration": 16,
        "start_time": "2023-08-01T20:02:32.081Z"
      },
      {
        "duration": 14,
        "start_time": "2023-08-01T20:02:42.145Z"
      },
      {
        "duration": 4,
        "start_time": "2023-08-01T20:02:59.850Z"
      },
      {
        "duration": 441,
        "start_time": "2023-08-01T20:03:01.414Z"
      },
      {
        "duration": 354,
        "start_time": "2023-08-01T20:03:02.805Z"
      },
      {
        "duration": 103,
        "start_time": "2023-08-01T20:03:03.590Z"
      },
      {
        "duration": 4,
        "start_time": "2023-08-01T20:03:04.486Z"
      },
      {
        "duration": 3,
        "start_time": "2023-08-01T20:03:06.768Z"
      },
      {
        "duration": 10188,
        "start_time": "2023-08-01T20:03:07.434Z"
      },
      {
        "duration": 27,
        "start_time": "2023-08-01T20:03:26.583Z"
      },
      {
        "duration": 5,
        "start_time": "2023-08-01T20:03:33.508Z"
      },
      {
        "duration": 240,
        "start_time": "2023-08-01T20:03:35.790Z"
      },
      {
        "duration": 23,
        "start_time": "2023-08-01T20:03:37.420Z"
      },
      {
        "duration": 6,
        "start_time": "2023-08-01T20:03:39.586Z"
      },
      {
        "duration": 3,
        "start_time": "2023-08-01T20:03:51.550Z"
      },
      {
        "duration": 672,
        "start_time": "2023-08-01T20:03:52.367Z"
      },
      {
        "duration": 218,
        "start_time": "2023-08-01T20:04:01.001Z"
      },
      {
        "duration": 5,
        "start_time": "2023-08-01T20:04:39.203Z"
      },
      {
        "duration": 428,
        "start_time": "2023-08-01T20:04:40.319Z"
      },
      {
        "duration": 327,
        "start_time": "2023-08-01T20:04:41.433Z"
      },
      {
        "duration": 104,
        "start_time": "2023-08-01T20:04:41.881Z"
      },
      {
        "duration": 5,
        "start_time": "2023-08-01T20:04:42.658Z"
      },
      {
        "duration": 4,
        "start_time": "2023-08-01T20:04:44.447Z"
      },
      {
        "duration": 10066,
        "start_time": "2023-08-01T20:04:45.145Z"
      },
      {
        "duration": 6,
        "start_time": "2023-08-01T20:04:55.212Z"
      },
      {
        "duration": 56,
        "start_time": "2023-08-01T20:04:55.219Z"
      },
      {
        "duration": 5,
        "start_time": "2023-08-01T20:06:05.249Z"
      },
      {
        "duration": 232,
        "start_time": "2023-08-01T20:06:09.108Z"
      },
      {
        "duration": 18,
        "start_time": "2023-08-01T20:06:12.500Z"
      },
      {
        "duration": 253,
        "start_time": "2023-08-01T20:07:49.721Z"
      },
      {
        "duration": 4,
        "start_time": "2023-08-01T20:10:28.541Z"
      },
      {
        "duration": 3,
        "start_time": "2023-08-01T20:10:42.891Z"
      },
      {
        "duration": 12978,
        "start_time": "2023-08-01T20:10:42.896Z"
      },
      {
        "duration": 13350,
        "start_time": "2023-08-01T20:11:15.497Z"
      },
      {
        "duration": 6,
        "start_time": "2023-08-01T20:20:41.505Z"
      },
      {
        "duration": 4,
        "start_time": "2023-08-01T20:20:49.592Z"
      },
      {
        "duration": 13,
        "start_time": "2023-08-01T20:21:51.148Z"
      },
      {
        "duration": 13,
        "start_time": "2023-08-01T20:22:02.824Z"
      },
      {
        "duration": 14,
        "start_time": "2023-08-01T20:22:05.468Z"
      },
      {
        "duration": 15,
        "start_time": "2023-08-01T20:22:14.062Z"
      },
      {
        "duration": 14,
        "start_time": "2023-08-01T20:22:51.331Z"
      },
      {
        "duration": 21,
        "start_time": "2023-08-01T20:23:06.656Z"
      },
      {
        "duration": 14,
        "start_time": "2023-08-01T20:23:07.531Z"
      },
      {
        "duration": 17,
        "start_time": "2023-08-01T20:23:15.269Z"
      },
      {
        "duration": 5,
        "start_time": "2023-08-01T20:23:28.835Z"
      },
      {
        "duration": 447,
        "start_time": "2023-08-01T20:23:30.135Z"
      },
      {
        "duration": 338,
        "start_time": "2023-08-01T20:23:30.702Z"
      },
      {
        "duration": 124,
        "start_time": "2023-08-01T20:23:31.253Z"
      },
      {
        "duration": 4,
        "start_time": "2023-08-01T20:23:31.972Z"
      },
      {
        "duration": 4,
        "start_time": "2023-08-01T20:23:33.236Z"
      },
      {
        "duration": 10094,
        "start_time": "2023-08-01T20:23:33.731Z"
      },
      {
        "duration": 6,
        "start_time": "2023-08-01T20:23:43.827Z"
      },
      {
        "duration": 29,
        "start_time": "2023-08-01T20:23:43.834Z"
      },
      {
        "duration": 5,
        "start_time": "2023-08-01T20:24:10.079Z"
      },
      {
        "duration": 232,
        "start_time": "2023-08-01T20:24:12.319Z"
      },
      {
        "duration": 24,
        "start_time": "2023-08-01T20:24:13.582Z"
      },
      {
        "duration": 6,
        "start_time": "2023-08-01T20:24:15.336Z"
      },
      {
        "duration": 4,
        "start_time": "2023-08-01T20:24:24.166Z"
      },
      {
        "duration": 16,
        "start_time": "2023-08-01T20:29:50.176Z"
      },
      {
        "duration": 14,
        "start_time": "2023-08-01T20:31:08.280Z"
      },
      {
        "duration": 13,
        "start_time": "2023-08-01T20:31:28.444Z"
      },
      {
        "duration": 4,
        "start_time": "2023-08-01T20:31:35.831Z"
      },
      {
        "duration": 417,
        "start_time": "2023-08-01T20:31:37.088Z"
      },
      {
        "duration": 346,
        "start_time": "2023-08-01T20:31:37.685Z"
      },
      {
        "duration": 127,
        "start_time": "2023-08-01T20:31:38.263Z"
      },
      {
        "duration": 5,
        "start_time": "2023-08-01T20:31:38.698Z"
      },
      {
        "duration": 3,
        "start_time": "2023-08-01T20:31:40.065Z"
      },
      {
        "duration": 10299,
        "start_time": "2023-08-01T20:31:40.575Z"
      },
      {
        "duration": 12,
        "start_time": "2023-08-01T20:31:50.875Z"
      },
      {
        "duration": 26,
        "start_time": "2023-08-01T20:32:38.119Z"
      },
      {
        "duration": 5,
        "start_time": "2023-08-01T20:32:39.885Z"
      },
      {
        "duration": 255,
        "start_time": "2023-08-01T20:32:42.592Z"
      },
      {
        "duration": 25,
        "start_time": "2023-08-01T20:32:48.210Z"
      },
      {
        "duration": 15,
        "start_time": "2023-08-01T20:32:51.314Z"
      },
      {
        "duration": 43,
        "start_time": "2023-08-01T20:33:05.959Z"
      },
      {
        "duration": 40,
        "start_time": "2023-08-01T20:33:12.919Z"
      },
      {
        "duration": 13,
        "start_time": "2023-08-01T20:33:23.267Z"
      },
      {
        "duration": 6,
        "start_time": "2023-08-01T20:33:45.393Z"
      },
      {
        "duration": 9,
        "start_time": "2023-08-01T20:33:55.698Z"
      },
      {
        "duration": 14,
        "start_time": "2023-08-01T20:34:27.880Z"
      },
      {
        "duration": 10,
        "start_time": "2023-08-01T20:34:29.057Z"
      },
      {
        "duration": 11,
        "start_time": "2023-08-01T20:34:38.546Z"
      },
      {
        "duration": 21,
        "start_time": "2023-08-01T20:34:46.119Z"
      },
      {
        "duration": 10,
        "start_time": "2023-08-01T20:34:46.679Z"
      },
      {
        "duration": 12,
        "start_time": "2023-08-01T20:34:47.331Z"
      },
      {
        "duration": 4,
        "start_time": "2023-08-01T20:34:52.789Z"
      },
      {
        "duration": 452,
        "start_time": "2023-08-01T20:34:54.100Z"
      },
      {
        "duration": 384,
        "start_time": "2023-08-01T20:34:54.703Z"
      },
      {
        "duration": 120,
        "start_time": "2023-08-01T20:34:55.305Z"
      },
      {
        "duration": 4,
        "start_time": "2023-08-01T20:34:55.750Z"
      },
      {
        "duration": 4,
        "start_time": "2023-08-01T20:34:57.092Z"
      },
      {
        "duration": 10150,
        "start_time": "2023-08-01T20:34:57.495Z"
      },
      {
        "duration": 6,
        "start_time": "2023-08-01T20:35:07.647Z"
      },
      {
        "duration": 97,
        "start_time": "2023-08-01T20:35:07.655Z"
      },
      {
        "duration": 39,
        "start_time": "2023-08-01T20:35:07.755Z"
      },
      {
        "duration": 283,
        "start_time": "2023-08-01T20:35:07.796Z"
      },
      {
        "duration": 22,
        "start_time": "2023-08-01T20:35:10.966Z"
      },
      {
        "duration": 16,
        "start_time": "2023-08-01T20:35:13.858Z"
      },
      {
        "duration": 6,
        "start_time": "2023-08-01T20:35:15.833Z"
      },
      {
        "duration": 12,
        "start_time": "2023-08-01T20:35:17.898Z"
      },
      {
        "duration": 35,
        "start_time": "2023-08-01T20:36:07.480Z"
      },
      {
        "duration": 4,
        "start_time": "2023-08-01T20:36:25.865Z"
      },
      {
        "duration": 15,
        "start_time": "2023-08-01T20:36:48.031Z"
      },
      {
        "duration": 4,
        "start_time": "2023-08-01T20:36:50.063Z"
      },
      {
        "duration": 14,
        "start_time": "2023-08-01T20:36:58.358Z"
      },
      {
        "duration": 14,
        "start_time": "2023-08-01T20:37:02.530Z"
      },
      {
        "duration": 13,
        "start_time": "2023-08-01T20:38:20.406Z"
      },
      {
        "duration": 6,
        "start_time": "2023-08-01T20:38:44.935Z"
      },
      {
        "duration": 4,
        "start_time": "2023-08-01T20:38:47.765Z"
      },
      {
        "duration": 4,
        "start_time": "2023-08-01T20:38:54.731Z"
      },
      {
        "duration": 413,
        "start_time": "2023-08-01T20:38:55.910Z"
      },
      {
        "duration": 325,
        "start_time": "2023-08-01T20:38:56.479Z"
      },
      {
        "duration": 105,
        "start_time": "2023-08-01T20:38:57.098Z"
      },
      {
        "duration": 5,
        "start_time": "2023-08-01T20:38:57.510Z"
      },
      {
        "duration": 4,
        "start_time": "2023-08-01T20:38:59.231Z"
      },
      {
        "duration": 10010,
        "start_time": "2023-08-01T20:38:59.919Z"
      },
      {
        "duration": 6,
        "start_time": "2023-08-01T20:39:09.932Z"
      },
      {
        "duration": 21,
        "start_time": "2023-08-01T20:39:11.504Z"
      },
      {
        "duration": 10,
        "start_time": "2023-08-01T20:39:12.646Z"
      },
      {
        "duration": 236,
        "start_time": "2023-08-01T20:39:15.531Z"
      },
      {
        "duration": 23,
        "start_time": "2023-08-01T20:39:16.578Z"
      },
      {
        "duration": 15,
        "start_time": "2023-08-01T20:39:17.998Z"
      },
      {
        "duration": 4,
        "start_time": "2023-08-01T20:39:19.190Z"
      },
      {
        "duration": 8,
        "start_time": "2023-08-01T20:39:20.456Z"
      },
      {
        "duration": 4,
        "start_time": "2023-08-01T20:39:30.082Z"
      },
      {
        "duration": 13,
        "start_time": "2023-08-01T20:39:36.438Z"
      },
      {
        "duration": 5,
        "start_time": "2023-08-01T20:39:40.641Z"
      },
      {
        "duration": 15,
        "start_time": "2023-08-01T20:39:44.735Z"
      },
      {
        "duration": 14,
        "start_time": "2023-08-01T20:39:49.631Z"
      },
      {
        "duration": 5,
        "start_time": "2023-08-01T20:39:59.931Z"
      },
      {
        "duration": 426,
        "start_time": "2023-08-01T20:40:01.174Z"
      },
      {
        "duration": 353,
        "start_time": "2023-08-01T20:40:01.602Z"
      },
      {
        "duration": 106,
        "start_time": "2023-08-01T20:40:01.958Z"
      },
      {
        "duration": 4,
        "start_time": "2023-08-01T20:40:02.346Z"
      },
      {
        "duration": 4,
        "start_time": "2023-08-01T20:40:03.431Z"
      },
      {
        "duration": 9884,
        "start_time": "2023-08-01T20:40:03.747Z"
      },
      {
        "duration": 5,
        "start_time": "2023-08-01T20:40:13.633Z"
      },
      {
        "duration": 29,
        "start_time": "2023-08-01T20:40:13.639Z"
      },
      {
        "duration": 6,
        "start_time": "2023-08-01T20:40:13.670Z"
      },
      {
        "duration": 246,
        "start_time": "2023-08-01T20:40:13.688Z"
      },
      {
        "duration": 25,
        "start_time": "2023-08-01T20:40:13.935Z"
      },
      {
        "duration": 29,
        "start_time": "2023-08-01T20:40:13.962Z"
      },
      {
        "duration": 4,
        "start_time": "2023-08-01T20:40:13.992Z"
      },
      {
        "duration": 46,
        "start_time": "2023-08-01T20:40:13.998Z"
      },
      {
        "duration": 12,
        "start_time": "2023-08-01T20:40:14.047Z"
      },
      {
        "duration": 13,
        "start_time": "2023-08-01T20:40:28.280Z"
      },
      {
        "duration": 4,
        "start_time": "2023-08-01T20:40:29.231Z"
      },
      {
        "duration": 5,
        "start_time": "2023-08-01T20:40:36.109Z"
      },
      {
        "duration": 422,
        "start_time": "2023-08-01T20:40:37.179Z"
      },
      {
        "duration": 331,
        "start_time": "2023-08-01T20:40:37.635Z"
      },
      {
        "duration": 100,
        "start_time": "2023-08-01T20:40:38.102Z"
      },
      {
        "duration": 4,
        "start_time": "2023-08-01T20:40:38.438Z"
      },
      {
        "duration": 4,
        "start_time": "2023-08-01T20:40:39.457Z"
      },
      {
        "duration": 9876,
        "start_time": "2023-08-01T20:40:39.685Z"
      },
      {
        "duration": 6,
        "start_time": "2023-08-01T20:40:49.563Z"
      },
      {
        "duration": 33,
        "start_time": "2023-08-01T20:40:49.571Z"
      },
      {
        "duration": 12,
        "start_time": "2023-08-01T20:40:49.607Z"
      },
      {
        "duration": 243,
        "start_time": "2023-08-01T20:40:49.621Z"
      },
      {
        "duration": 29,
        "start_time": "2023-08-01T20:40:49.866Z"
      },
      {
        "duration": 14,
        "start_time": "2023-08-01T20:40:49.897Z"
      },
      {
        "duration": 29,
        "start_time": "2023-08-01T20:40:49.913Z"
      },
      {
        "duration": 19,
        "start_time": "2023-08-01T20:40:49.944Z"
      },
      {
        "duration": 18,
        "start_time": "2023-08-01T20:40:49.965Z"
      },
      {
        "duration": 9,
        "start_time": "2023-08-01T20:41:46.598Z"
      },
      {
        "duration": 9,
        "start_time": "2023-08-01T20:41:47.431Z"
      },
      {
        "duration": 4,
        "start_time": "2023-08-01T20:41:54.506Z"
      },
      {
        "duration": 435,
        "start_time": "2023-08-01T20:41:55.680Z"
      },
      {
        "duration": 340,
        "start_time": "2023-08-01T20:41:56.232Z"
      },
      {
        "duration": 113,
        "start_time": "2023-08-01T20:41:56.731Z"
      },
      {
        "duration": 4,
        "start_time": "2023-08-01T20:41:57.134Z"
      },
      {
        "duration": 4,
        "start_time": "2023-08-01T20:41:58.484Z"
      },
      {
        "duration": 10093,
        "start_time": "2023-08-01T20:41:58.986Z"
      },
      {
        "duration": 10,
        "start_time": "2023-08-01T20:42:09.081Z"
      },
      {
        "duration": 60,
        "start_time": "2023-08-01T20:42:09.093Z"
      },
      {
        "duration": 27,
        "start_time": "2023-08-01T20:42:09.155Z"
      },
      {
        "duration": 268,
        "start_time": "2023-08-01T20:42:09.185Z"
      },
      {
        "duration": 22,
        "start_time": "2023-08-01T20:42:09.455Z"
      },
      {
        "duration": 41,
        "start_time": "2023-08-01T20:42:09.488Z"
      },
      {
        "duration": 19,
        "start_time": "2023-08-01T20:42:09.531Z"
      },
      {
        "duration": 55,
        "start_time": "2023-08-01T20:42:09.551Z"
      },
      {
        "duration": 47,
        "start_time": "2023-08-01T20:42:09.608Z"
      },
      {
        "duration": 14,
        "start_time": "2023-08-01T20:46:28.280Z"
      },
      {
        "duration": 4,
        "start_time": "2023-08-01T20:46:38.531Z"
      },
      {
        "duration": 449,
        "start_time": "2023-08-01T20:46:39.591Z"
      },
      {
        "duration": 340,
        "start_time": "2023-08-01T20:46:40.042Z"
      },
      {
        "duration": 100,
        "start_time": "2023-08-01T20:46:40.409Z"
      },
      {
        "duration": 4,
        "start_time": "2023-08-01T20:48:15.266Z"
      },
      {
        "duration": 439,
        "start_time": "2023-08-01T20:48:16.163Z"
      },
      {
        "duration": 336,
        "start_time": "2023-08-01T20:48:16.604Z"
      },
      {
        "duration": 97,
        "start_time": "2023-08-01T20:48:16.942Z"
      },
      {
        "duration": 4,
        "start_time": "2023-08-01T20:48:17.041Z"
      },
      {
        "duration": 3,
        "start_time": "2023-08-01T20:48:18.191Z"
      },
      {
        "duration": 9796,
        "start_time": "2023-08-01T20:48:18.661Z"
      },
      {
        "duration": 6,
        "start_time": "2023-08-01T20:48:28.458Z"
      },
      {
        "duration": 45,
        "start_time": "2023-08-01T20:48:28.465Z"
      },
      {
        "duration": 24,
        "start_time": "2023-08-01T20:48:28.512Z"
      },
      {
        "duration": 255,
        "start_time": "2023-08-01T20:48:28.538Z"
      },
      {
        "duration": 20,
        "start_time": "2023-08-01T20:48:28.795Z"
      },
      {
        "duration": 17,
        "start_time": "2023-08-01T20:48:28.817Z"
      },
      {
        "duration": 35,
        "start_time": "2023-08-01T20:48:28.835Z"
      },
      {
        "duration": 16,
        "start_time": "2023-08-01T20:48:28.872Z"
      },
      {
        "duration": 4,
        "start_time": "2023-08-01T20:48:38.092Z"
      },
      {
        "duration": 199,
        "start_time": "2023-08-01T20:53:00.080Z"
      },
      {
        "duration": 21,
        "start_time": "2023-08-01T20:53:01.662Z"
      },
      {
        "duration": 14,
        "start_time": "2023-08-01T20:53:03.796Z"
      },
      {
        "duration": 24,
        "start_time": "2023-08-01T20:53:08.748Z"
      },
      {
        "duration": 4,
        "start_time": "2023-08-01T20:53:10.519Z"
      },
      {
        "duration": 4,
        "start_time": "2023-08-01T20:53:12.179Z"
      },
      {
        "duration": 13,
        "start_time": "2023-08-01T20:53:18.215Z"
      },
      {
        "duration": 7,
        "start_time": "2023-08-01T20:53:24.279Z"
      },
      {
        "duration": 433,
        "start_time": "2023-08-01T20:53:25.700Z"
      },
      {
        "duration": 428,
        "start_time": "2023-08-01T20:53:26.178Z"
      },
      {
        "duration": 111,
        "start_time": "2023-08-01T20:53:26.737Z"
      },
      {
        "duration": 4,
        "start_time": "2023-08-01T20:53:27.382Z"
      },
      {
        "duration": 3,
        "start_time": "2023-08-01T20:53:28.742Z"
      },
      {
        "duration": 9694,
        "start_time": "2023-08-01T20:53:29.133Z"
      },
      {
        "duration": 5,
        "start_time": "2023-08-01T20:53:38.829Z"
      },
      {
        "duration": 27,
        "start_time": "2023-08-01T20:53:38.835Z"
      },
      {
        "duration": 6,
        "start_time": "2023-08-01T20:53:38.865Z"
      },
      {
        "duration": 240,
        "start_time": "2023-08-01T20:53:38.887Z"
      },
      {
        "duration": 23,
        "start_time": "2023-08-01T20:53:39.129Z"
      },
      {
        "duration": 7,
        "start_time": "2023-08-01T20:53:39.154Z"
      },
      {
        "duration": 46,
        "start_time": "2023-08-01T20:53:39.163Z"
      },
      {
        "duration": 4,
        "start_time": "2023-08-01T20:53:39.210Z"
      },
      {
        "duration": 5,
        "start_time": "2023-08-01T20:53:39.345Z"
      },
      {
        "duration": 92,
        "start_time": "2023-08-01T20:55:55.937Z"
      },
      {
        "duration": 16,
        "start_time": "2023-08-01T20:56:58.509Z"
      },
      {
        "duration": 4,
        "start_time": "2023-08-01T20:57:38.178Z"
      },
      {
        "duration": 458,
        "start_time": "2023-08-01T20:57:39.678Z"
      },
      {
        "duration": 325,
        "start_time": "2023-08-01T20:57:40.256Z"
      },
      {
        "duration": 110,
        "start_time": "2023-08-01T20:57:40.805Z"
      },
      {
        "duration": 4,
        "start_time": "2023-08-01T20:57:41.140Z"
      },
      {
        "duration": 5,
        "start_time": "2023-08-01T20:57:42.015Z"
      },
      {
        "duration": 10130,
        "start_time": "2023-08-01T20:57:42.217Z"
      },
      {
        "duration": 5,
        "start_time": "2023-08-01T20:57:52.350Z"
      },
      {
        "duration": 53,
        "start_time": "2023-08-01T20:57:52.357Z"
      },
      {
        "duration": 63,
        "start_time": "2023-08-01T20:57:52.412Z"
      },
      {
        "duration": 284,
        "start_time": "2023-08-01T20:57:52.477Z"
      },
      {
        "duration": 28,
        "start_time": "2023-08-01T20:57:52.762Z"
      },
      {
        "duration": 8,
        "start_time": "2023-08-01T20:57:52.792Z"
      },
      {
        "duration": 69,
        "start_time": "2023-08-01T20:57:52.801Z"
      },
      {
        "duration": 41,
        "start_time": "2023-08-01T20:57:52.872Z"
      },
      {
        "duration": 38,
        "start_time": "2023-08-01T20:57:52.915Z"
      },
      {
        "duration": 33,
        "start_time": "2023-08-01T20:57:52.954Z"
      },
      {
        "duration": 3,
        "start_time": "2023-08-01T20:59:26.339Z"
      },
      {
        "duration": 639,
        "start_time": "2023-08-01T20:59:27.062Z"
      },
      {
        "duration": 5,
        "start_time": "2023-08-01T20:59:54.065Z"
      },
      {
        "duration": 474,
        "start_time": "2023-08-01T20:59:55.279Z"
      },
      {
        "duration": 335,
        "start_time": "2023-08-01T20:59:55.756Z"
      },
      {
        "duration": 102,
        "start_time": "2023-08-01T20:59:56.093Z"
      },
      {
        "duration": 4,
        "start_time": "2023-08-01T20:59:56.235Z"
      },
      {
        "duration": 4,
        "start_time": "2023-08-01T20:59:57.079Z"
      },
      {
        "duration": 10009,
        "start_time": "2023-08-01T20:59:57.265Z"
      },
      {
        "duration": 12,
        "start_time": "2023-08-01T21:00:07.276Z"
      },
      {
        "duration": 85,
        "start_time": "2023-08-01T21:00:07.290Z"
      },
      {
        "duration": 94,
        "start_time": "2023-08-01T21:00:07.377Z"
      },
      {
        "duration": 307,
        "start_time": "2023-08-01T21:00:07.472Z"
      },
      {
        "duration": 25,
        "start_time": "2023-08-01T21:00:07.781Z"
      },
      {
        "duration": 89,
        "start_time": "2023-08-01T21:00:07.808Z"
      },
      {
        "duration": 91,
        "start_time": "2023-08-01T21:00:07.899Z"
      },
      {
        "duration": 12,
        "start_time": "2023-08-01T21:00:07.992Z"
      },
      {
        "duration": 37,
        "start_time": "2023-08-01T21:00:08.006Z"
      },
      {
        "duration": 35,
        "start_time": "2023-08-01T21:00:08.045Z"
      },
      {
        "duration": 9,
        "start_time": "2023-08-01T21:00:08.082Z"
      },
      {
        "duration": 717,
        "start_time": "2023-08-01T21:00:08.093Z"
      },
      {
        "duration": 4,
        "start_time": "2023-08-01T21:01:45.461Z"
      },
      {
        "duration": 467,
        "start_time": "2023-08-01T21:01:46.357Z"
      },
      {
        "duration": 353,
        "start_time": "2023-08-01T21:01:46.826Z"
      },
      {
        "duration": 104,
        "start_time": "2023-08-01T21:01:47.186Z"
      },
      {
        "duration": 4,
        "start_time": "2023-08-01T21:01:47.292Z"
      },
      {
        "duration": 4,
        "start_time": "2023-08-01T21:01:47.594Z"
      },
      {
        "duration": 10034,
        "start_time": "2023-08-01T21:01:47.796Z"
      },
      {
        "duration": 5,
        "start_time": "2023-08-01T21:01:57.832Z"
      },
      {
        "duration": 28,
        "start_time": "2023-08-01T21:01:57.838Z"
      },
      {
        "duration": 15,
        "start_time": "2023-08-01T21:01:57.868Z"
      },
      {
        "duration": 231,
        "start_time": "2023-08-01T21:01:57.886Z"
      },
      {
        "duration": 19,
        "start_time": "2023-08-01T21:01:58.119Z"
      },
      {
        "duration": 7,
        "start_time": "2023-08-01T21:01:58.140Z"
      },
      {
        "duration": 44,
        "start_time": "2023-08-01T21:01:58.148Z"
      },
      {
        "duration": 4,
        "start_time": "2023-08-01T21:01:58.194Z"
      },
      {
        "duration": 11,
        "start_time": "2023-08-01T21:01:58.200Z"
      },
      {
        "duration": 25,
        "start_time": "2023-08-01T21:01:58.213Z"
      },
      {
        "duration": 3,
        "start_time": "2023-08-01T21:01:58.239Z"
      },
      {
        "duration": 640,
        "start_time": "2023-08-01T21:01:58.244Z"
      },
      {
        "duration": 0,
        "start_time": "2023-08-01T21:01:58.887Z"
      },
      {
        "duration": 0,
        "start_time": "2023-08-01T21:01:58.889Z"
      },
      {
        "duration": 0,
        "start_time": "2023-08-01T21:01:58.890Z"
      },
      {
        "duration": 16,
        "start_time": "2023-08-01T21:04:04.805Z"
      },
      {
        "duration": 13,
        "start_time": "2023-08-01T21:04:06.826Z"
      },
      {
        "duration": 4,
        "start_time": "2023-08-01T21:04:45.445Z"
      },
      {
        "duration": 14,
        "start_time": "2023-08-01T21:05:01.556Z"
      },
      {
        "duration": 5,
        "start_time": "2023-08-01T21:06:00.848Z"
      },
      {
        "duration": 441,
        "start_time": "2023-08-01T21:06:01.780Z"
      },
      {
        "duration": 331,
        "start_time": "2023-08-01T21:06:02.223Z"
      },
      {
        "duration": 116,
        "start_time": "2023-08-01T21:06:02.556Z"
      },
      {
        "duration": 4,
        "start_time": "2023-08-01T21:06:02.990Z"
      },
      {
        "duration": 4,
        "start_time": "2023-08-01T21:06:03.846Z"
      },
      {
        "duration": 9842,
        "start_time": "2023-08-01T21:06:05.369Z"
      },
      {
        "duration": 6,
        "start_time": "2023-08-01T21:06:15.213Z"
      },
      {
        "duration": 46,
        "start_time": "2023-08-01T21:06:15.221Z"
      },
      {
        "duration": 30,
        "start_time": "2023-08-01T21:06:15.269Z"
      },
      {
        "duration": 267,
        "start_time": "2023-08-01T21:06:15.302Z"
      },
      {
        "duration": 26,
        "start_time": "2023-08-01T21:06:15.571Z"
      },
      {
        "duration": 3,
        "start_time": "2023-08-01T21:06:21.710Z"
      },
      {
        "duration": 12481,
        "start_time": "2023-08-01T21:06:22.517Z"
      },
      {
        "duration": 3,
        "start_time": "2023-08-01T21:07:39.026Z"
      },
      {
        "duration": 12511,
        "start_time": "2023-08-01T21:07:39.622Z"
      },
      {
        "duration": 748,
        "start_time": "2023-08-01T21:07:52.135Z"
      },
      {
        "duration": 10,
        "start_time": "2023-08-01T21:07:52.887Z"
      },
      {
        "duration": 1613,
        "start_time": "2023-08-01T21:07:52.899Z"
      },
      {
        "duration": 6,
        "start_time": "2023-08-01T21:07:54.514Z"
      },
      {
        "duration": 539,
        "start_time": "2023-08-01T21:07:54.522Z"
      },
      {
        "duration": 302,
        "start_time": "2023-08-01T21:12:52.240Z"
      },
      {
        "duration": 6,
        "start_time": "2023-08-01T21:12:57.387Z"
      },
      {
        "duration": 1383,
        "start_time": "2023-08-01T21:12:59.385Z"
      },
      {
        "duration": 634,
        "start_time": "2023-08-01T21:13:54.745Z"
      },
      {
        "duration": 11,
        "start_time": "2023-08-01T21:14:33.844Z"
      },
      {
        "duration": 1698,
        "start_time": "2023-08-01T21:14:36.320Z"
      },
      {
        "duration": 5,
        "start_time": "2023-08-01T21:14:42.029Z"
      },
      {
        "duration": 218,
        "start_time": "2023-08-01T21:14:43.040Z"
      },
      {
        "duration": 4,
        "start_time": "2023-08-01T21:32:37.536Z"
      },
      {
        "duration": 24,
        "start_time": "2023-08-01T21:32:38.392Z"
      },
      {
        "duration": 526,
        "start_time": "2023-08-01T21:32:58.436Z"
      },
      {
        "duration": 4,
        "start_time": "2023-08-01T21:48:19.613Z"
      },
      {
        "duration": 411,
        "start_time": "2023-08-01T21:48:20.485Z"
      },
      {
        "duration": 340,
        "start_time": "2023-08-01T21:48:20.898Z"
      },
      {
        "duration": 112,
        "start_time": "2023-08-01T21:48:21.240Z"
      },
      {
        "duration": 4,
        "start_time": "2023-08-01T21:48:21.354Z"
      },
      {
        "duration": 4,
        "start_time": "2023-08-01T21:48:21.669Z"
      },
      {
        "duration": 9866,
        "start_time": "2023-08-01T21:48:21.913Z"
      },
      {
        "duration": 9,
        "start_time": "2023-08-01T21:48:31.780Z"
      },
      {
        "duration": 68,
        "start_time": "2023-08-01T21:48:31.791Z"
      },
      {
        "duration": 42,
        "start_time": "2023-08-01T21:48:31.862Z"
      },
      {
        "duration": 265,
        "start_time": "2023-08-01T21:48:31.905Z"
      },
      {
        "duration": 25,
        "start_time": "2023-08-01T21:48:32.171Z"
      },
      {
        "duration": 7,
        "start_time": "2023-08-01T21:48:32.198Z"
      },
      {
        "duration": 29,
        "start_time": "2023-08-01T21:48:32.206Z"
      },
      {
        "duration": 4,
        "start_time": "2023-08-01T21:48:32.237Z"
      },
      {
        "duration": 5,
        "start_time": "2023-08-01T21:48:32.244Z"
      },
      {
        "duration": 37,
        "start_time": "2023-08-01T21:48:32.251Z"
      },
      {
        "duration": 6,
        "start_time": "2023-08-01T21:48:32.290Z"
      },
      {
        "duration": 1380,
        "start_time": "2023-08-01T21:48:32.298Z"
      },
      {
        "duration": 553,
        "start_time": "2023-08-01T21:48:33.679Z"
      },
      {
        "duration": 4,
        "start_time": "2023-08-01T21:48:34.233Z"
      },
      {
        "duration": 46,
        "start_time": "2023-08-01T21:48:34.239Z"
      },
      {
        "duration": 771,
        "start_time": "2023-08-01T21:48:34.287Z"
      },
      {
        "duration": 173,
        "start_time": "2023-08-01T21:49:29.795Z"
      },
      {
        "duration": 9,
        "start_time": "2023-08-01T22:07:51.252Z"
      },
      {
        "duration": 504,
        "start_time": "2023-08-01T22:07:52.222Z"
      },
      {
        "duration": 161,
        "start_time": "2023-08-01T22:08:21.182Z"
      },
      {
        "duration": 1312,
        "start_time": "2023-08-01T22:19:02.981Z"
      },
      {
        "duration": 1332,
        "start_time": "2023-08-01T22:23:52.616Z"
      },
      {
        "duration": 1676,
        "start_time": "2023-08-01T22:24:39.916Z"
      },
      {
        "duration": 6,
        "start_time": "2023-08-01T22:35:04.880Z"
      },
      {
        "duration": 399,
        "start_time": "2023-08-01T22:35:06.084Z"
      },
      {
        "duration": 339,
        "start_time": "2023-08-01T22:35:06.490Z"
      },
      {
        "duration": 106,
        "start_time": "2023-08-01T22:35:06.873Z"
      },
      {
        "duration": 4,
        "start_time": "2023-08-01T22:35:07.265Z"
      },
      {
        "duration": 4,
        "start_time": "2023-08-01T22:35:08.309Z"
      },
      {
        "duration": 10155,
        "start_time": "2023-08-01T22:35:08.561Z"
      },
      {
        "duration": 6,
        "start_time": "2023-08-01T22:35:18.718Z"
      },
      {
        "duration": 35,
        "start_time": "2023-08-01T22:35:18.725Z"
      },
      {
        "duration": 12,
        "start_time": "2023-08-01T22:35:18.763Z"
      },
      {
        "duration": 234,
        "start_time": "2023-08-01T22:35:18.777Z"
      },
      {
        "duration": 24,
        "start_time": "2023-08-01T22:35:19.012Z"
      },
      {
        "duration": 17,
        "start_time": "2023-08-01T22:35:19.038Z"
      },
      {
        "duration": 1268,
        "start_time": "2023-08-01T22:35:19.057Z"
      },
      {
        "duration": 566,
        "start_time": "2023-08-01T22:35:20.327Z"
      },
      {
        "duration": 4,
        "start_time": "2023-08-01T22:35:20.895Z"
      },
      {
        "duration": 59,
        "start_time": "2023-08-01T22:35:20.900Z"
      },
      {
        "duration": 490,
        "start_time": "2023-08-01T22:35:20.960Z"
      },
      {
        "duration": 363,
        "start_time": "2023-08-01T22:35:21.535Z"
      },
      {
        "duration": 21,
        "start_time": "2023-08-01T22:35:22.440Z"
      },
      {
        "duration": 6,
        "start_time": "2023-08-01T22:36:33.192Z"
      },
      {
        "duration": 1207,
        "start_time": "2023-08-01T22:36:33.903Z"
      },
      {
        "duration": 753,
        "start_time": "2023-08-01T22:37:39.507Z"
      },
      {
        "duration": 4,
        "start_time": "2023-08-01T22:37:40.482Z"
      },
      {
        "duration": 4,
        "start_time": "2023-08-02T00:58:07.786Z"
      },
      {
        "duration": 393,
        "start_time": "2023-08-02T00:58:09.096Z"
      },
      {
        "duration": 355,
        "start_time": "2023-08-02T00:58:09.492Z"
      },
      {
        "duration": 106,
        "start_time": "2023-08-02T00:58:09.849Z"
      },
      {
        "duration": 5,
        "start_time": "2023-08-02T00:58:10.150Z"
      },
      {
        "duration": 3,
        "start_time": "2023-08-02T00:58:11.064Z"
      },
      {
        "duration": 9748,
        "start_time": "2023-08-02T00:58:11.333Z"
      },
      {
        "duration": 6,
        "start_time": "2023-08-02T00:58:21.087Z"
      },
      {
        "duration": 24,
        "start_time": "2023-08-02T00:58:21.095Z"
      },
      {
        "duration": 24,
        "start_time": "2023-08-02T00:58:21.122Z"
      },
      {
        "duration": 234,
        "start_time": "2023-08-02T00:58:21.147Z"
      },
      {
        "duration": 24,
        "start_time": "2023-08-02T00:58:21.382Z"
      },
      {
        "duration": 8,
        "start_time": "2023-08-02T00:58:21.408Z"
      },
      {
        "duration": 6,
        "start_time": "2023-08-02T00:59:17.294Z"
      },
      {
        "duration": 1365,
        "start_time": "2023-08-02T00:59:29.425Z"
      },
      {
        "duration": 571,
        "start_time": "2023-08-02T00:59:32.157Z"
      },
      {
        "duration": 4,
        "start_time": "2023-08-02T00:59:32.914Z"
      },
      {
        "duration": 29,
        "start_time": "2023-08-02T00:59:34.754Z"
      },
      {
        "duration": 516,
        "start_time": "2023-08-02T00:59:35.375Z"
      },
      {
        "duration": 174,
        "start_time": "2023-08-02T00:59:36.711Z"
      },
      {
        "duration": 1549,
        "start_time": "2023-08-02T01:04:53.103Z"
      },
      {
        "duration": 4,
        "start_time": "2023-08-02T01:05:18.786Z"
      },
      {
        "duration": 389,
        "start_time": "2023-08-02T01:05:19.575Z"
      },
      {
        "duration": 292,
        "start_time": "2023-08-02T01:05:19.966Z"
      },
      {
        "duration": 99,
        "start_time": "2023-08-02T01:05:20.260Z"
      },
      {
        "duration": 4,
        "start_time": "2023-08-02T01:05:20.361Z"
      },
      {
        "duration": 3,
        "start_time": "2023-08-02T01:05:20.678Z"
      },
      {
        "duration": 9898,
        "start_time": "2023-08-02T01:05:20.877Z"
      },
      {
        "duration": 12,
        "start_time": "2023-08-02T01:05:30.777Z"
      },
      {
        "duration": 48,
        "start_time": "2023-08-02T01:05:30.790Z"
      },
      {
        "duration": 41,
        "start_time": "2023-08-02T01:05:30.840Z"
      },
      {
        "duration": 259,
        "start_time": "2023-08-02T01:05:30.883Z"
      },
      {
        "duration": 20,
        "start_time": "2023-08-02T01:05:31.144Z"
      },
      {
        "duration": 13,
        "start_time": "2023-08-02T01:05:31.166Z"
      },
      {
        "duration": 1219,
        "start_time": "2023-08-02T01:05:31.186Z"
      },
      {
        "duration": 773,
        "start_time": "2023-08-02T01:05:32.407Z"
      },
      {
        "duration": 5,
        "start_time": "2023-08-02T01:05:33.186Z"
      },
      {
        "duration": 38,
        "start_time": "2023-08-02T01:05:33.192Z"
      },
      {
        "duration": 499,
        "start_time": "2023-08-02T01:05:33.232Z"
      },
      {
        "duration": 175,
        "start_time": "2023-08-02T01:05:33.733Z"
      },
      {
        "duration": 1899,
        "start_time": "2023-08-02T01:05:33.910Z"
      },
      {
        "duration": 1561,
        "start_time": "2023-08-02T01:07:00.319Z"
      },
      {
        "duration": 4,
        "start_time": "2023-08-02T01:08:19.055Z"
      },
      {
        "duration": 405,
        "start_time": "2023-08-02T01:08:19.866Z"
      },
      {
        "duration": 318,
        "start_time": "2023-08-02T01:08:20.273Z"
      },
      {
        "duration": 103,
        "start_time": "2023-08-02T01:08:20.592Z"
      },
      {
        "duration": 3,
        "start_time": "2023-08-02T01:08:20.697Z"
      },
      {
        "duration": 4,
        "start_time": "2023-08-02T01:08:21.208Z"
      },
      {
        "duration": 9762,
        "start_time": "2023-08-02T01:08:21.419Z"
      },
      {
        "duration": 5,
        "start_time": "2023-08-02T01:08:31.186Z"
      },
      {
        "duration": 68,
        "start_time": "2023-08-02T01:08:31.193Z"
      },
      {
        "duration": 27,
        "start_time": "2023-08-02T01:08:31.264Z"
      },
      {
        "duration": 260,
        "start_time": "2023-08-02T01:08:31.293Z"
      },
      {
        "duration": 25,
        "start_time": "2023-08-02T01:08:31.554Z"
      },
      {
        "duration": 6,
        "start_time": "2023-08-02T01:08:31.588Z"
      },
      {
        "duration": 1396,
        "start_time": "2023-08-02T01:08:31.596Z"
      },
      {
        "duration": 551,
        "start_time": "2023-08-02T01:08:32.994Z"
      },
      {
        "duration": 4,
        "start_time": "2023-08-02T01:08:33.548Z"
      },
      {
        "duration": 22,
        "start_time": "2023-08-02T01:08:33.553Z"
      },
      {
        "duration": 719,
        "start_time": "2023-08-02T01:08:33.577Z"
      },
      {
        "duration": 177,
        "start_time": "2023-08-02T01:08:34.297Z"
      },
      {
        "duration": 1518,
        "start_time": "2023-08-02T01:08:34.476Z"
      },
      {
        "duration": 14,
        "start_time": "2023-08-02T01:15:33.342Z"
      },
      {
        "duration": 1762,
        "start_time": "2023-08-02T01:15:42.151Z"
      },
      {
        "duration": 2285,
        "start_time": "2023-08-02T01:16:08.517Z"
      },
      {
        "duration": 1522,
        "start_time": "2023-08-02T01:17:36.986Z"
      },
      {
        "duration": 1430,
        "start_time": "2023-08-02T01:21:23.005Z"
      },
      {
        "duration": 209,
        "start_time": "2023-08-02T01:21:40.046Z"
      },
      {
        "duration": 6,
        "start_time": "2023-08-02T01:21:55.783Z"
      },
      {
        "duration": 4,
        "start_time": "2023-08-02T01:22:17.967Z"
      },
      {
        "duration": 14,
        "start_time": "2023-08-02T01:22:54.825Z"
      },
      {
        "duration": 6,
        "start_time": "2023-08-02T01:26:06.163Z"
      },
      {
        "duration": 394,
        "start_time": "2023-08-02T01:26:07.584Z"
      },
      {
        "duration": 339,
        "start_time": "2023-08-02T01:26:08.157Z"
      },
      {
        "duration": 115,
        "start_time": "2023-08-02T01:26:08.680Z"
      },
      {
        "duration": 4,
        "start_time": "2023-08-02T01:26:09.473Z"
      },
      {
        "duration": 3,
        "start_time": "2023-08-02T01:26:11.154Z"
      },
      {
        "duration": 9928,
        "start_time": "2023-08-02T01:26:11.687Z"
      },
      {
        "duration": 5,
        "start_time": "2023-08-02T01:26:21.617Z"
      },
      {
        "duration": 46,
        "start_time": "2023-08-02T01:26:21.623Z"
      },
      {
        "duration": 24,
        "start_time": "2023-08-02T01:26:21.671Z"
      },
      {
        "duration": 251,
        "start_time": "2023-08-02T01:26:21.697Z"
      },
      {
        "duration": 24,
        "start_time": "2023-08-02T01:26:21.950Z"
      },
      {
        "duration": 16,
        "start_time": "2023-08-02T01:26:21.976Z"
      },
      {
        "duration": 1199,
        "start_time": "2023-08-02T01:26:21.994Z"
      },
      {
        "duration": 533,
        "start_time": "2023-08-02T01:26:23.195Z"
      },
      {
        "duration": 9,
        "start_time": "2023-08-02T01:26:23.730Z"
      },
      {
        "duration": 1749,
        "start_time": "2023-08-02T01:26:23.780Z"
      },
      {
        "duration": 225,
        "start_time": "2023-08-02T01:26:25.531Z"
      },
      {
        "duration": 5,
        "start_time": "2023-08-02T01:26:25.918Z"
      },
      {
        "duration": 4,
        "start_time": "2023-08-02T01:26:26.572Z"
      },
      {
        "duration": 8,
        "start_time": "2023-08-02T01:26:27.360Z"
      },
      {
        "duration": 139,
        "start_time": "2023-08-02T01:26:29.767Z"
      },
      {
        "duration": 8,
        "start_time": "2023-08-02T01:30:56.395Z"
      },
      {
        "duration": 9,
        "start_time": "2023-08-02T01:31:06.878Z"
      },
      {
        "duration": 4,
        "start_time": "2023-08-02T01:34:52.433Z"
      },
      {
        "duration": 16,
        "start_time": "2023-08-02T01:35:50.904Z"
      },
      {
        "duration": 11,
        "start_time": "2023-08-02T01:37:13.708Z"
      },
      {
        "duration": 10,
        "start_time": "2023-08-02T01:37:17.073Z"
      },
      {
        "duration": 13,
        "start_time": "2023-08-02T01:37:56.942Z"
      },
      {
        "duration": 1727,
        "start_time": "2023-08-02T01:38:03.325Z"
      },
      {
        "duration": 320,
        "start_time": "2023-08-02T01:38:09.656Z"
      },
      {
        "duration": 10,
        "start_time": "2023-08-02T01:38:40.033Z"
      },
      {
        "duration": 14,
        "start_time": "2023-08-02T01:38:43.057Z"
      },
      {
        "duration": 13,
        "start_time": "2023-08-02T01:38:49.177Z"
      },
      {
        "duration": 5,
        "start_time": "2023-08-02T01:38:52.566Z"
      },
      {
        "duration": 3883,
        "start_time": "2023-08-02T01:41:19.425Z"
      },
      {
        "duration": 24,
        "start_time": "2023-08-02T01:42:47.671Z"
      },
      {
        "duration": 3653,
        "start_time": "2023-08-02T01:43:05.324Z"
      },
      {
        "duration": 26,
        "start_time": "2023-08-02T01:43:08.979Z"
      },
      {
        "duration": 437,
        "start_time": "2023-08-02T01:43:19.034Z"
      },
      {
        "duration": 333,
        "start_time": "2023-08-02T01:43:19.546Z"
      },
      {
        "duration": 133,
        "start_time": "2023-08-02T01:43:19.932Z"
      },
      {
        "duration": 4,
        "start_time": "2023-08-02T01:43:20.284Z"
      },
      {
        "duration": 5,
        "start_time": "2023-08-02T01:43:21.092Z"
      },
      {
        "duration": 10050,
        "start_time": "2023-08-02T01:43:21.457Z"
      },
      {
        "duration": 5,
        "start_time": "2023-08-02T01:43:31.509Z"
      },
      {
        "duration": 52,
        "start_time": "2023-08-02T01:43:31.516Z"
      },
      {
        "duration": 31,
        "start_time": "2023-08-02T01:43:31.570Z"
      },
      {
        "duration": 255,
        "start_time": "2023-08-02T01:43:31.603Z"
      },
      {
        "duration": 29,
        "start_time": "2023-08-02T01:43:31.860Z"
      },
      {
        "duration": 6,
        "start_time": "2023-08-02T01:43:31.891Z"
      },
      {
        "duration": 1247,
        "start_time": "2023-08-02T01:43:31.898Z"
      },
      {
        "duration": 784,
        "start_time": "2023-08-02T01:43:33.147Z"
      },
      {
        "duration": 3725,
        "start_time": "2023-08-02T01:43:33.933Z"
      },
      {
        "duration": 29,
        "start_time": "2023-08-02T01:43:37.660Z"
      },
      {
        "duration": 21,
        "start_time": "2023-08-02T01:46:46.520Z"
      },
      {
        "duration": 20,
        "start_time": "2023-08-02T01:47:06.638Z"
      },
      {
        "duration": 25,
        "start_time": "2023-08-02T01:47:14.577Z"
      },
      {
        "duration": 398,
        "start_time": "2023-08-02T01:48:38.451Z"
      },
      {
        "duration": 5,
        "start_time": "2023-08-02T01:48:46.011Z"
      },
      {
        "duration": 456,
        "start_time": "2023-08-02T01:48:47.234Z"
      },
      {
        "duration": 343,
        "start_time": "2023-08-02T01:48:48.172Z"
      },
      {
        "duration": 158,
        "start_time": "2023-08-02T01:48:48.711Z"
      },
      {
        "duration": 4,
        "start_time": "2023-08-02T01:48:49.109Z"
      },
      {
        "duration": 4,
        "start_time": "2023-08-02T01:48:51.244Z"
      },
      {
        "duration": 9513,
        "start_time": "2023-08-02T01:48:53.104Z"
      },
      {
        "duration": 7,
        "start_time": "2023-08-02T01:49:02.619Z"
      },
      {
        "duration": 8,
        "start_time": "2023-08-02T01:49:02.628Z"
      },
      {
        "duration": 15,
        "start_time": "2023-08-02T01:49:02.638Z"
      },
      {
        "duration": 245,
        "start_time": "2023-08-02T01:49:03.865Z"
      },
      {
        "duration": 21,
        "start_time": "2023-08-02T01:49:05.349Z"
      },
      {
        "duration": 7,
        "start_time": "2023-08-02T01:49:09.563Z"
      },
      {
        "duration": 1426,
        "start_time": "2023-08-02T01:49:11.244Z"
      },
      {
        "duration": 601,
        "start_time": "2023-08-02T01:49:18.113Z"
      },
      {
        "duration": 3971,
        "start_time": "2023-08-02T01:49:19.273Z"
      },
      {
        "duration": 24,
        "start_time": "2023-08-02T01:49:23.246Z"
      },
      {
        "duration": 3977,
        "start_time": "2023-08-02T01:58:08.979Z"
      },
      {
        "duration": 6,
        "start_time": "2023-08-02T01:59:16.417Z"
      },
      {
        "duration": 6,
        "start_time": "2023-08-02T01:59:21.696Z"
      },
      {
        "duration": 6,
        "start_time": "2023-08-02T01:59:29.010Z"
      },
      {
        "duration": 5,
        "start_time": "2023-08-02T02:00:21.452Z"
      },
      {
        "duration": 5,
        "start_time": "2023-08-02T02:00:31.429Z"
      },
      {
        "duration": 5,
        "start_time": "2023-08-02T02:00:42.402Z"
      },
      {
        "duration": 4,
        "start_time": "2023-08-02T02:01:00.168Z"
      },
      {
        "duration": 107,
        "start_time": "2023-08-02T02:02:35.830Z"
      },
      {
        "duration": 12,
        "start_time": "2023-08-02T02:03:10.863Z"
      },
      {
        "duration": 23,
        "start_time": "2023-08-02T02:03:25.156Z"
      },
      {
        "duration": 5,
        "start_time": "2023-08-02T02:04:06.302Z"
      },
      {
        "duration": 21,
        "start_time": "2023-08-02T02:04:57.873Z"
      },
      {
        "duration": 5,
        "start_time": "2023-08-02T02:05:26.331Z"
      },
      {
        "duration": 7,
        "start_time": "2023-08-02T02:09:20.657Z"
      },
      {
        "duration": 14,
        "start_time": "2023-08-02T02:10:02.511Z"
      },
      {
        "duration": 5,
        "start_time": "2023-08-02T02:11:12.631Z"
      },
      {
        "duration": 423,
        "start_time": "2023-08-02T02:11:13.859Z"
      },
      {
        "duration": 357,
        "start_time": "2023-08-02T02:11:14.450Z"
      },
      {
        "duration": 111,
        "start_time": "2023-08-02T02:11:14.979Z"
      },
      {
        "duration": 5,
        "start_time": "2023-08-02T02:11:15.380Z"
      },
      {
        "duration": 4,
        "start_time": "2023-08-02T02:11:16.723Z"
      },
      {
        "duration": 10234,
        "start_time": "2023-08-02T02:11:17.187Z"
      },
      {
        "duration": 5,
        "start_time": "2023-08-02T02:11:27.423Z"
      },
      {
        "duration": 34,
        "start_time": "2023-08-02T02:11:27.429Z"
      },
      {
        "duration": 31,
        "start_time": "2023-08-02T02:11:27.466Z"
      },
      {
        "duration": 270,
        "start_time": "2023-08-02T02:11:27.498Z"
      },
      {
        "duration": 34,
        "start_time": "2023-08-02T02:11:27.769Z"
      },
      {
        "duration": 5,
        "start_time": "2023-08-02T02:11:27.805Z"
      },
      {
        "duration": 1397,
        "start_time": "2023-08-02T02:11:27.812Z"
      },
      {
        "duration": 521,
        "start_time": "2023-08-02T02:11:29.211Z"
      },
      {
        "duration": 3834,
        "start_time": "2023-08-02T02:11:29.736Z"
      },
      {
        "duration": 25,
        "start_time": "2023-08-02T02:11:38.017Z"
      },
      {
        "duration": 5,
        "start_time": "2023-08-02T02:11:41.107Z"
      },
      {
        "duration": 19,
        "start_time": "2023-08-02T02:11:41.751Z"
      },
      {
        "duration": 4,
        "start_time": "2023-08-02T02:11:45.289Z"
      },
      {
        "duration": 6,
        "start_time": "2023-08-02T02:12:50.386Z"
      },
      {
        "duration": 413,
        "start_time": "2023-08-02T02:12:51.318Z"
      },
      {
        "duration": 312,
        "start_time": "2023-08-02T02:12:51.733Z"
      },
      {
        "duration": 105,
        "start_time": "2023-08-02T02:12:52.048Z"
      },
      {
        "duration": 4,
        "start_time": "2023-08-02T02:12:52.155Z"
      },
      {
        "duration": 4,
        "start_time": "2023-08-02T02:12:52.745Z"
      },
      {
        "duration": 8611,
        "start_time": "2023-08-02T02:12:52.926Z"
      },
      {
        "duration": 7,
        "start_time": "2023-08-02T02:13:01.539Z"
      },
      {
        "duration": 41,
        "start_time": "2023-08-02T02:13:01.547Z"
      },
      {
        "duration": 23,
        "start_time": "2023-08-02T02:13:01.590Z"
      },
      {
        "duration": 244,
        "start_time": "2023-08-02T02:13:01.614Z"
      },
      {
        "duration": 16,
        "start_time": "2023-08-02T02:13:01.860Z"
      },
      {
        "duration": 12,
        "start_time": "2023-08-02T02:13:01.878Z"
      },
      {
        "duration": 1371,
        "start_time": "2023-08-02T02:13:01.892Z"
      },
      {
        "duration": 546,
        "start_time": "2023-08-02T02:13:03.264Z"
      },
      {
        "duration": 3735,
        "start_time": "2023-08-02T02:13:03.812Z"
      },
      {
        "duration": 25,
        "start_time": "2023-08-02T02:13:07.550Z"
      },
      {
        "duration": 6,
        "start_time": "2023-08-02T02:13:07.588Z"
      },
      {
        "duration": 26,
        "start_time": "2023-08-02T02:13:07.595Z"
      },
      {
        "duration": 5,
        "start_time": "2023-08-02T02:13:07.623Z"
      },
      {
        "duration": 7,
        "start_time": "2023-08-02T02:17:55.182Z"
      },
      {
        "duration": 9,
        "start_time": "2023-08-02T02:18:32.767Z"
      },
      {
        "duration": 2886,
        "start_time": "2023-08-02T02:20:39.551Z"
      },
      {
        "duration": 2907,
        "start_time": "2023-08-02T02:21:23.265Z"
      },
      {
        "duration": 2950,
        "start_time": "2023-08-02T02:21:57.579Z"
      },
      {
        "duration": 23,
        "start_time": "2023-08-02T02:22:00.531Z"
      },
      {
        "duration": 5,
        "start_time": "2023-08-02T02:22:35.023Z"
      },
      {
        "duration": 472,
        "start_time": "2023-08-02T02:22:36.180Z"
      },
      {
        "duration": 345,
        "start_time": "2023-08-02T02:22:36.654Z"
      },
      {
        "duration": 104,
        "start_time": "2023-08-02T02:22:37.011Z"
      },
      {
        "duration": 4,
        "start_time": "2023-08-02T02:22:37.418Z"
      },
      {
        "duration": 4,
        "start_time": "2023-08-02T02:22:38.273Z"
      },
      {
        "duration": 9247,
        "start_time": "2023-08-02T02:22:38.534Z"
      },
      {
        "duration": 17,
        "start_time": "2023-08-02T02:22:47.783Z"
      },
      {
        "duration": 13,
        "start_time": "2023-08-02T02:22:47.803Z"
      },
      {
        "duration": 7,
        "start_time": "2023-08-02T02:22:47.819Z"
      },
      {
        "duration": 238,
        "start_time": "2023-08-02T02:22:47.828Z"
      },
      {
        "duration": 33,
        "start_time": "2023-08-02T02:22:48.068Z"
      },
      {
        "duration": 7,
        "start_time": "2023-08-02T02:22:48.103Z"
      },
      {
        "duration": 1510,
        "start_time": "2023-08-02T02:22:48.112Z"
      },
      {
        "duration": 608,
        "start_time": "2023-08-02T02:22:49.624Z"
      },
      {
        "duration": 2945,
        "start_time": "2023-08-02T02:22:50.236Z"
      },
      {
        "duration": 34,
        "start_time": "2023-08-02T02:22:53.182Z"
      },
      {
        "duration": 13,
        "start_time": "2023-08-02T02:22:53.217Z"
      },
      {
        "duration": 36,
        "start_time": "2023-08-02T02:22:53.232Z"
      },
      {
        "duration": 4,
        "start_time": "2023-08-02T02:22:53.270Z"
      },
      {
        "duration": 28,
        "start_time": "2023-08-02T02:22:53.275Z"
      },
      {
        "duration": 19,
        "start_time": "2023-08-02T02:22:53.305Z"
      },
      {
        "duration": 125,
        "start_time": "2023-08-02T02:22:53.326Z"
      },
      {
        "duration": 1,
        "start_time": "2023-08-02T02:22:53.452Z"
      },
      {
        "duration": 137,
        "start_time": "2023-08-02T02:23:40.735Z"
      },
      {
        "duration": 87,
        "start_time": "2023-08-02T02:23:47.333Z"
      },
      {
        "duration": 5,
        "start_time": "2023-08-02T02:24:02.295Z"
      },
      {
        "duration": 5,
        "start_time": "2023-08-02T02:24:07.218Z"
      },
      {
        "duration": 3,
        "start_time": "2023-08-02T02:24:19.303Z"
      },
      {
        "duration": 6,
        "start_time": "2023-08-02T02:24:56.304Z"
      },
      {
        "duration": 1672,
        "start_time": "2023-08-02T06:31:30.300Z"
      },
      {
        "duration": 1635,
        "start_time": "2023-08-02T06:31:31.974Z"
      },
      {
        "duration": 1247,
        "start_time": "2023-08-02T06:31:33.611Z"
      },
      {
        "duration": 407,
        "start_time": "2023-08-02T06:31:34.861Z"
      },
      {
        "duration": 4,
        "start_time": "2023-08-02T06:31:35.270Z"
      },
      {
        "duration": 26,
        "start_time": "2023-08-02T06:31:35.275Z"
      },
      {
        "duration": 8429,
        "start_time": "2023-08-02T06:31:35.303Z"
      },
      {
        "duration": 7,
        "start_time": "2023-08-02T06:31:43.734Z"
      },
      {
        "duration": 23,
        "start_time": "2023-08-02T06:31:43.742Z"
      },
      {
        "duration": 10,
        "start_time": "2023-08-02T06:31:43.767Z"
      },
      {
        "duration": 240,
        "start_time": "2023-08-02T06:31:43.778Z"
      },
      {
        "duration": 19,
        "start_time": "2023-08-02T06:31:44.020Z"
      },
      {
        "duration": 15,
        "start_time": "2023-08-02T06:31:44.041Z"
      },
      {
        "duration": 1254,
        "start_time": "2023-08-02T06:31:44.058Z"
      },
      {
        "duration": 518,
        "start_time": "2023-08-02T06:31:45.313Z"
      },
      {
        "duration": 247,
        "start_time": "2023-08-02T06:31:45.833Z"
      },
      {
        "duration": 0,
        "start_time": "2023-08-02T06:31:46.081Z"
      },
      {
        "duration": 0,
        "start_time": "2023-08-02T06:31:46.083Z"
      },
      {
        "duration": 0,
        "start_time": "2023-08-02T06:31:46.084Z"
      },
      {
        "duration": 0,
        "start_time": "2023-08-02T06:31:46.084Z"
      },
      {
        "duration": 143,
        "start_time": "2023-08-02T06:37:06.706Z"
      },
      {
        "duration": 2689,
        "start_time": "2023-08-02T06:39:54.395Z"
      },
      {
        "duration": 24,
        "start_time": "2023-08-02T06:40:20.910Z"
      },
      {
        "duration": 6,
        "start_time": "2023-08-02T06:40:32.356Z"
      },
      {
        "duration": 36,
        "start_time": "2023-08-02T06:40:35.058Z"
      },
      {
        "duration": 6,
        "start_time": "2023-08-02T06:40:36.555Z"
      },
      {
        "duration": 1305,
        "start_time": "2023-08-02T06:44:46.784Z"
      },
      {
        "duration": 576,
        "start_time": "2023-08-02T06:46:33.699Z"
      },
      {
        "duration": 3010,
        "start_time": "2023-08-02T06:47:51.886Z"
      },
      {
        "duration": 23,
        "start_time": "2023-08-02T06:49:57.176Z"
      },
      {
        "duration": 6,
        "start_time": "2023-08-02T06:49:58.445Z"
      },
      {
        "duration": 21,
        "start_time": "2023-08-02T06:49:58.986Z"
      },
      {
        "duration": 5,
        "start_time": "2023-08-02T06:49:59.613Z"
      },
      {
        "duration": 34,
        "start_time": "2023-08-02T06:50:03.969Z"
      },
      {
        "duration": 2719,
        "start_time": "2023-08-02T06:50:08.919Z"
      },
      {
        "duration": 31,
        "start_time": "2023-08-02T06:50:11.640Z"
      },
      {
        "duration": 5,
        "start_time": "2023-08-02T06:50:38.551Z"
      },
      {
        "duration": 437,
        "start_time": "2023-08-02T06:50:39.438Z"
      },
      {
        "duration": 342,
        "start_time": "2023-08-02T06:50:39.878Z"
      },
      {
        "duration": 104,
        "start_time": "2023-08-02T06:50:40.221Z"
      },
      {
        "duration": 5,
        "start_time": "2023-08-02T06:50:40.327Z"
      },
      {
        "duration": 6,
        "start_time": "2023-08-02T06:50:40.639Z"
      },
      {
        "duration": 8779,
        "start_time": "2023-08-02T06:50:40.854Z"
      },
      {
        "duration": 6,
        "start_time": "2023-08-02T06:50:49.635Z"
      },
      {
        "duration": 10,
        "start_time": "2023-08-02T06:50:49.657Z"
      },
      {
        "duration": 22,
        "start_time": "2023-08-02T06:50:49.669Z"
      },
      {
        "duration": 230,
        "start_time": "2023-08-02T06:50:49.693Z"
      },
      {
        "duration": 17,
        "start_time": "2023-08-02T06:50:49.925Z"
      },
      {
        "duration": 15,
        "start_time": "2023-08-02T06:50:49.944Z"
      },
      {
        "duration": 1196,
        "start_time": "2023-08-02T06:50:49.961Z"
      },
      {
        "duration": 553,
        "start_time": "2023-08-02T06:50:51.158Z"
      },
      {
        "duration": 2840,
        "start_time": "2023-08-02T06:50:51.713Z"
      },
      {
        "duration": 26,
        "start_time": "2023-08-02T06:50:54.555Z"
      },
      {
        "duration": 5,
        "start_time": "2023-08-02T06:50:54.583Z"
      },
      {
        "duration": 24,
        "start_time": "2023-08-02T06:50:54.590Z"
      },
      {
        "duration": 4,
        "start_time": "2023-08-02T06:50:54.616Z"
      },
      {
        "duration": 6,
        "start_time": "2023-08-02T06:58:20.969Z"
      },
      {
        "duration": 8,
        "start_time": "2023-08-02T06:58:27.455Z"
      },
      {
        "duration": 6,
        "start_time": "2023-08-02T06:58:29.013Z"
      },
      {
        "duration": 4,
        "start_time": "2023-08-02T06:59:37.496Z"
      },
      {
        "duration": 4,
        "start_time": "2023-08-02T07:00:50.797Z"
      },
      {
        "duration": 3,
        "start_time": "2023-08-02T07:01:15.894Z"
      },
      {
        "duration": 3,
        "start_time": "2023-08-02T07:02:04.980Z"
      },
      {
        "duration": 5,
        "start_time": "2023-08-02T07:11:53.067Z"
      },
      {
        "duration": 4,
        "start_time": "2023-08-02T07:15:20.511Z"
      },
      {
        "duration": 2,
        "start_time": "2023-08-02T07:15:22.820Z"
      },
      {
        "duration": 3,
        "start_time": "2023-08-02T07:43:02.065Z"
      },
      {
        "duration": 8,
        "start_time": "2023-08-02T07:43:02.644Z"
      },
      {
        "duration": 8,
        "start_time": "2023-08-02T07:43:03.362Z"
      },
      {
        "duration": 5,
        "start_time": "2023-08-02T07:43:20.602Z"
      },
      {
        "duration": 8,
        "start_time": "2023-08-02T07:47:44.921Z"
      },
      {
        "duration": 7,
        "start_time": "2023-08-02T07:47:45.465Z"
      },
      {
        "duration": 6,
        "start_time": "2023-08-02T07:48:32.772Z"
      },
      {
        "duration": 6,
        "start_time": "2023-08-02T07:57:38.578Z"
      },
      {
        "duration": 3,
        "start_time": "2023-08-02T07:57:39.176Z"
      },
      {
        "duration": 7,
        "start_time": "2023-08-02T08:14:38.588Z"
      },
      {
        "duration": 16,
        "start_time": "2023-08-02T08:14:39.269Z"
      },
      {
        "duration": 6,
        "start_time": "2023-08-02T08:16:49.820Z"
      },
      {
        "duration": 1598,
        "start_time": "2023-08-02T08:19:32.560Z"
      },
      {
        "duration": 13,
        "start_time": "2023-08-02T08:20:38.763Z"
      },
      {
        "duration": 10,
        "start_time": "2023-08-02T08:22:01.060Z"
      },
      {
        "duration": 17640,
        "start_time": "2023-08-02T08:22:07.048Z"
      },
      {
        "duration": 436,
        "start_time": "2023-08-02T10:12:07.671Z"
      },
      {
        "duration": 338,
        "start_time": "2023-08-02T10:12:08.109Z"
      },
      {
        "duration": 98,
        "start_time": "2023-08-02T10:12:08.460Z"
      },
      {
        "duration": 6,
        "start_time": "2023-08-02T10:12:08.835Z"
      },
      {
        "duration": 4,
        "start_time": "2023-08-02T10:12:09.423Z"
      },
      {
        "duration": 8290,
        "start_time": "2023-08-02T10:12:09.633Z"
      },
      {
        "duration": 8,
        "start_time": "2023-08-02T10:12:17.925Z"
      },
      {
        "duration": 23,
        "start_time": "2023-08-02T10:12:17.935Z"
      },
      {
        "duration": 7,
        "start_time": "2023-08-02T10:12:17.960Z"
      },
      {
        "duration": 232,
        "start_time": "2023-08-02T10:12:17.969Z"
      },
      {
        "duration": 17,
        "start_time": "2023-08-02T10:12:18.202Z"
      },
      {
        "duration": 5,
        "start_time": "2023-08-02T10:12:18.221Z"
      },
      {
        "duration": 1453,
        "start_time": "2023-08-02T10:12:18.228Z"
      },
      {
        "duration": 540,
        "start_time": "2023-08-02T10:12:19.683Z"
      },
      {
        "duration": 2683,
        "start_time": "2023-08-02T10:12:20.225Z"
      },
      {
        "duration": 26,
        "start_time": "2023-08-02T10:12:22.910Z"
      },
      {
        "duration": 21,
        "start_time": "2023-08-02T10:12:22.938Z"
      },
      {
        "duration": 29,
        "start_time": "2023-08-02T10:12:22.961Z"
      },
      {
        "duration": 4,
        "start_time": "2023-08-02T10:12:22.992Z"
      },
      {
        "duration": 36,
        "start_time": "2023-08-02T10:12:22.998Z"
      },
      {
        "duration": 30,
        "start_time": "2023-08-02T10:12:23.036Z"
      },
      {
        "duration": 19,
        "start_time": "2023-08-02T10:12:23.068Z"
      },
      {
        "duration": 13,
        "start_time": "2023-08-02T10:12:23.089Z"
      },
      {
        "duration": 20,
        "start_time": "2023-08-02T10:12:23.103Z"
      },
      {
        "duration": 8,
        "start_time": "2023-08-02T10:12:23.124Z"
      },
      {
        "duration": 24,
        "start_time": "2023-08-02T10:12:23.134Z"
      },
      {
        "duration": 1403,
        "start_time": "2023-08-02T10:12:23.160Z"
      },
      {
        "duration": 18306,
        "start_time": "2023-08-02T10:12:24.565Z"
      },
      {
        "duration": 1034864,
        "start_time": "2023-08-02T10:12:42.873Z"
      },
      {
        "duration": 6854,
        "start_time": "2023-08-02T10:29:57.739Z"
      },
      {
        "duration": 0,
        "start_time": "2023-08-02T10:30:04.594Z"
      },
      {
        "duration": 6774,
        "start_time": "2023-08-02T10:30:10.130Z"
      },
      {
        "duration": 5,
        "start_time": "2023-08-02T10:30:24.338Z"
      },
      {
        "duration": 6841,
        "start_time": "2023-08-02T10:30:27.244Z"
      },
      {
        "duration": 16,
        "start_time": "2023-08-02T10:31:45.144Z"
      },
      {
        "duration": 6769,
        "start_time": "2023-08-02T10:39:07.295Z"
      },
      {
        "duration": 4,
        "start_time": "2023-08-02T10:53:58.108Z"
      },
      {
        "duration": 434,
        "start_time": "2023-08-02T10:54:17.347Z"
      },
      {
        "duration": 369,
        "start_time": "2023-08-02T10:54:18.594Z"
      },
      {
        "duration": 108,
        "start_time": "2023-08-02T10:54:20.181Z"
      },
      {
        "duration": 4,
        "start_time": "2023-08-02T10:54:24.698Z"
      },
      {
        "duration": 3,
        "start_time": "2023-08-02T10:54:41.954Z"
      },
      {
        "duration": 8409,
        "start_time": "2023-08-02T10:54:42.627Z"
      },
      {
        "duration": 6,
        "start_time": "2023-08-02T10:54:51.038Z"
      },
      {
        "duration": 6,
        "start_time": "2023-08-02T10:55:15.087Z"
      },
      {
        "duration": 4,
        "start_time": "2023-08-02T10:55:16.156Z"
      },
      {
        "duration": 237,
        "start_time": "2023-08-02T10:55:49.147Z"
      },
      {
        "duration": 18,
        "start_time": "2023-08-02T10:55:53.733Z"
      },
      {
        "duration": 7,
        "start_time": "2023-08-02T10:56:25.070Z"
      },
      {
        "duration": 1294,
        "start_time": "2023-08-02T10:56:26.389Z"
      },
      {
        "duration": 534,
        "start_time": "2023-08-02T10:58:09.893Z"
      },
      {
        "duration": 2790,
        "start_time": "2023-08-02T10:58:35.966Z"
      },
      {
        "duration": 2725,
        "start_time": "2023-08-02T10:58:41.300Z"
      },
      {
        "duration": 13,
        "start_time": "2023-08-02T11:00:56.250Z"
      },
      {
        "duration": 32,
        "start_time": "2023-08-02T11:00:56.872Z"
      },
      {
        "duration": 5,
        "start_time": "2023-08-02T11:01:00.683Z"
      },
      {
        "duration": 3,
        "start_time": "2023-08-02T11:04:16.569Z"
      },
      {
        "duration": 7,
        "start_time": "2023-08-02T11:05:01.912Z"
      },
      {
        "duration": 4,
        "start_time": "2023-08-02T11:05:02.382Z"
      },
      {
        "duration": 17,
        "start_time": "2023-08-02T11:05:05.664Z"
      },
      {
        "duration": 8,
        "start_time": "2023-08-02T11:05:22.911Z"
      },
      {
        "duration": 4,
        "start_time": "2023-08-02T11:05:39.964Z"
      },
      {
        "duration": 5,
        "start_time": "2023-08-02T11:05:44.268Z"
      },
      {
        "duration": 1778,
        "start_time": "2023-08-02T11:06:00.383Z"
      },
      {
        "duration": 4,
        "start_time": "2023-08-02T11:08:21.337Z"
      },
      {
        "duration": 6915,
        "start_time": "2023-08-02T11:08:25.090Z"
      },
      {
        "duration": 4,
        "start_time": "2023-08-02T11:20:37.799Z"
      },
      {
        "duration": 606,
        "start_time": "2023-08-02T11:20:42.873Z"
      },
      {
        "duration": 362,
        "start_time": "2023-08-02T11:20:43.482Z"
      },
      {
        "duration": 136,
        "start_time": "2023-08-02T11:20:43.936Z"
      },
      {
        "duration": 4,
        "start_time": "2023-08-02T11:20:45.106Z"
      },
      {
        "duration": 4,
        "start_time": "2023-08-02T11:20:47.572Z"
      },
      {
        "duration": 8938,
        "start_time": "2023-08-02T11:20:48.485Z"
      },
      {
        "duration": 8,
        "start_time": "2023-08-02T11:20:57.428Z"
      },
      {
        "duration": 7,
        "start_time": "2023-08-02T11:21:03.438Z"
      },
      {
        "duration": 6,
        "start_time": "2023-08-02T11:21:05.303Z"
      },
      {
        "duration": 304,
        "start_time": "2023-08-02T11:21:23.238Z"
      },
      {
        "duration": 22,
        "start_time": "2023-08-02T11:21:24.604Z"
      },
      {
        "duration": 7,
        "start_time": "2023-08-02T11:21:42.143Z"
      },
      {
        "duration": 1388,
        "start_time": "2023-08-02T11:21:42.896Z"
      },
      {
        "duration": 606,
        "start_time": "2023-08-02T11:22:53.238Z"
      },
      {
        "duration": 3158,
        "start_time": "2023-08-02T11:22:59.722Z"
      },
      {
        "duration": 24,
        "start_time": "2023-08-02T11:23:39.705Z"
      },
      {
        "duration": 6,
        "start_time": "2023-08-02T11:23:43.401Z"
      },
      {
        "duration": 21,
        "start_time": "2023-08-02T11:23:44.873Z"
      },
      {
        "duration": 4,
        "start_time": "2023-08-02T11:23:50.641Z"
      },
      {
        "duration": 5,
        "start_time": "2023-08-02T11:24:34.576Z"
      },
      {
        "duration": 3,
        "start_time": "2023-08-02T11:24:35.074Z"
      },
      {
        "duration": 6,
        "start_time": "2023-08-02T11:24:56.057Z"
      },
      {
        "duration": 3,
        "start_time": "2023-08-02T11:24:56.608Z"
      },
      {
        "duration": 20,
        "start_time": "2023-08-02T11:25:01.573Z"
      },
      {
        "duration": 7,
        "start_time": "2023-08-02T11:25:02.852Z"
      },
      {
        "duration": 3,
        "start_time": "2023-08-02T11:25:03.512Z"
      },
      {
        "duration": 6,
        "start_time": "2023-08-02T11:25:07.299Z"
      },
      {
        "duration": 6840,
        "start_time": "2023-08-02T11:27:19.849Z"
      },
      {
        "duration": 4,
        "start_time": "2023-08-02T11:27:26.691Z"
      },
      {
        "duration": 15,
        "start_time": "2023-08-02T11:30:09.636Z"
      },
      {
        "duration": 16,
        "start_time": "2023-08-02T11:30:26.744Z"
      }
    ],
    "kernelspec": {
      "display_name": "Python 3 (ipykernel)",
      "language": "python",
      "name": "python3"
    },
    "language_info": {
      "codemirror_mode": {
        "name": "ipython",
        "version": 3
      },
      "file_extension": ".py",
      "mimetype": "text/x-python",
      "name": "python",
      "nbconvert_exporter": "python",
      "pygments_lexer": "ipython3",
      "version": "3.9.5"
    },
    "toc": {
      "base_numbering": 1,
      "nav_menu": {},
      "number_sections": true,
      "sideBar": true,
      "skip_h1_title": true,
      "title_cell": "Содержание",
      "title_sidebar": "Contents",
      "toc_cell": true,
      "toc_position": {
        "height": "calc(100% - 180px)",
        "left": "10px",
        "top": "150px",
        "width": "165px"
      },
      "toc_section_display": true,
      "toc_window_display": true
    },
    "colab": {
      "provenance": []
    }
  },
  "nbformat": 4,
  "nbformat_minor": 0
}